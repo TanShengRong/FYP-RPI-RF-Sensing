{
  "nbformat": 4,
  "nbformat_minor": 0,
  "metadata": {
    "language_info": {
      "codemirror_mode": {
        "name": "ipython",
        "version": 3
      },
      "file_extension": ".py",
      "mimetype": "text/x-python",
      "name": "python",
      "nbconvert_exporter": "python",
      "pygments_lexer": "ipython3",
      "version": "3.7.3-final"
    },
    "orig_nbformat": 2,
    "kernelspec": {
      "name": "Python 3.7.3 32-bit",
      "display_name": "Python 3.7.3 32-bit",
      "metadata": {
        "interpreter": {
          "hash": "31f2aee4e71d21fbe5cf8b01ff0e069b9275f58929596ceb00d14d90e3e16cd6"
        }
      }
    },
    "colab": {
      "name": "Copy of readings.ipynb",
      "provenance": [],
      "collapsed_sections": []
    }
  },
  "cells": [
    {
      "cell_type": "markdown",
      "metadata": {
        "id": "pQRl369Kxgts"
      },
      "source": [
        "# Environment set-up"
      ]
    },
    {
      "cell_type": "code",
      "metadata": {
        "colab": {
          "base_uri": "https://localhost:8080/"
        },
        "id": "m4z0AYMcxo6G",
        "outputId": "d904cba8-eda5-422f-c41c-25512f81addf"
      },
      "source": [
        "from google.colab import drive\n",
        "drive.mount('/content/gdrive')"
      ],
      "execution_count": 86,
      "outputs": [
        {
          "output_type": "stream",
          "text": [
            "Drive already mounted at /content/gdrive; to attempt to forcibly remount, call drive.mount(\"/content/gdrive\", force_remount=True).\n"
          ],
          "name": "stdout"
        }
      ]
    },
    {
      "cell_type": "code",
      "metadata": {
        "id": "YTPLRlbSynbN",
        "colab": {
          "base_uri": "https://localhost:8080/"
        },
        "outputId": "0f24478c-d3c3-4a7e-b023-bbf04f0c15bf"
      },
      "source": [
        "import pathlib\n",
        "path = pathlib.Path('/content/gdrive/MyDrive/Fyp')\n",
        "try:\n",
        "    path.mkdir()\n",
        "    %cd '/content/gdrive/MyDrive/Fyp'\n",
        "    ! git clone https://github.com/TanShengRong/FYP-RPI-RF-Sensing\n",
        "    %cd './FYP-RPI-RF-Sensing/dataset/'\n",
        "    print('Project folder created in your GoogleDrive')\n",
        "except FileExistsError:\n",
        "    %cd '/content/gdrive/MyDrive/Fyp/FYP-RPI-RF-Sensing/'\n",
        "    ! git pull\n",
        "    %cd './dataset_v2/'"
      ],
      "execution_count": 87,
      "outputs": [
        {
          "output_type": "stream",
          "text": [
            "/content/gdrive/MyDrive/Fyp/FYP-RPI-RF-Sensing\n",
            "Already up to date.\n",
            "/content/gdrive/MyDrive/Fyp/FYP-RPI-RF-Sensing/dataset_v2\n"
          ],
          "name": "stdout"
        }
      ]
    },
    {
      "cell_type": "code",
      "metadata": {
        "id": "QLYSiz7sx9AU",
        "colab": {
          "base_uri": "https://localhost:8080/",
          "height": 37
        },
        "outputId": "7f74aa57-3413-46d5-f633-54226f7ee823"
      },
      "source": [
        "pwd"
      ],
      "execution_count": 88,
      "outputs": [
        {
          "output_type": "execute_result",
          "data": {
            "application/vnd.google.colaboratory.intrinsic+json": {
              "type": "string"
            },
            "text/plain": [
              "'/content/gdrive/My Drive/Fyp/FYP-RPI-RF-Sensing/dataset_v2'"
            ]
          },
          "metadata": {
            "tags": []
          },
          "execution_count": 88
        }
      ]
    },
    {
      "cell_type": "code",
      "metadata": {
        "id": "hNhrYjZl1aVQ",
        "colab": {
          "base_uri": "https://localhost:8080/"
        },
        "outputId": "45e20f7a-00a5-4f7c-8f6f-70f1988ee23c"
      },
      "source": [
        "ls"
      ],
      "execution_count": 89,
      "outputs": [
        {
          "output_type": "stream",
          "text": [
            "\u001b[0m\u001b[01;34mgestureA\u001b[0m/  \u001b[01;34mgestureC\u001b[0m/  \u001b[01;34mgestureE\u001b[0m/\n"
          ],
          "name": "stdout"
        }
      ]
    },
    {
      "cell_type": "markdown",
      "metadata": {
        "id": "zRRXHFet3aKq"
      },
      "source": [
        "# Preliminary findings"
      ]
    },
    {
      "cell_type": "code",
      "metadata": {
        "id": "pp2qe4YivtPZ"
      },
      "source": [
        "import pandas as pd\n",
        "import matplotlib.pyplot as plt"
      ],
      "execution_count": 90,
      "outputs": []
    },
    {
      "cell_type": "code",
      "metadata": {
        "id": "HpjySAx-vtPb",
        "colab": {
          "base_uri": "https://localhost:8080/",
          "height": 320
        },
        "outputId": "f6a20eb5-7d2e-4605-e813-388de7bc2601"
      },
      "source": [
        "df = pd.read_csv(\"./gestureA/degree0/1.csv\") # shape = duration(millisecond?) x readings\n",
        "shape = df.shape # (row,col)\n",
        "print(shape)\n",
        "tmp = [ _ for _ in range(shape[1]//2)]\n",
        "ii = df.iloc[:, 0:shape[1]//2]\n",
        "ii.columns = tmp\n",
        "qq = df.iloc[:, shape[1]//2:shape[1] ]\n",
        "qq.columns = tmp\n",
        "iq = ii.add(qq, fill_value=None) # fill_value defaults as None\n",
        "iq = abs(iq)\n",
        "# iq.plot(kind=\"hexbin\", x=)\n",
        "iq.plot(legend=None)\n",
        "plt.show()\n",
        "\"\"\"\n",
        ">> ii = ans(:, 1:138);\n",
        ">> qq = ans(:, 139:end-1);\n",
        ">> iq = ii+j*qq;\n",
        ">> imagesc(abs(iq))\n",
        ">> plot(abs(iq(1,:)))\n",
        "\"\"\""
      ],
      "execution_count": 91,
      "outputs": [
        {
          "output_type": "stream",
          "text": [
            "(472, 282)\n"
          ],
          "name": "stdout"
        },
        {
          "output_type": "display_data",
          "data": {
            "image/png": "[encoded data removed]",
            "text/plain": [
              "<Figure size 432x288 with 1 Axes>"
            ]
          },
          "metadata": {
            "tags": [],
            "needs_background": "light"
          }
        },
        {
          "output_type": "execute_result",
          "data": {
            "application/vnd.google.colaboratory.intrinsic+json": {
              "type": "string"
            },
            "text/plain": [
              "'\\n>> ii = ans(:, 1:138);\\n>> qq = ans(:, 139:end-1);\\n>> iq = ii+j*qq;\\n>> imagesc(abs(iq))\\n>> plot(abs(iq(1,:)))\\n'"
            ]
          },
          "metadata": {
            "tags": []
          },
          "execution_count": 91
        }
      ]
    },
    {
      "cell_type": "markdown",
      "metadata": {
        "id": "patFRjB2lWGg"
      },
      "source": [
        "Doesn't seem to make much sense..."
      ]
    },
    {
      "cell_type": "code",
      "metadata": {
        "colab": {
          "base_uri": "https://localhost:8080/",
          "height": 286
        },
        "id": "j7swZDtWUc9e",
        "outputId": "18b3aeb5-b3e5-4c09-ccd2-768414a38e82"
      },
      "source": [
        "df = pd.read_csv(\"./gestureA/degree0/1.csv\") # shape = duration(millisecond?) x readings\n",
        "plt.imshow(df)"
      ],
      "execution_count": 92,
      "outputs": [
        {
          "output_type": "execute_result",
          "data": {
            "text/plain": [
              "<matplotlib.image.AxesImage at 0x7f5f567daa90>"
            ]
          },
          "metadata": {
            "tags": []
          },
          "execution_count": 92
        },
        {
          "output_type": "display_data",
          "data": {
            "image/png": "[encoded data removed]",
            "text/plain": [
              "<Figure size 432x288 with 1 Axes>"
            ]
          },
          "metadata": {
            "tags": [],
            "needs_background": "light"
          }
        }
      ]
    },
    {
      "cell_type": "code",
      "metadata": {
        "colab": {
          "base_uri": "https://localhost:8080/",
          "height": 538
        },
        "id": "CofHVSvdNflT",
        "outputId": "f9e37ab2-4328-4648-ee90-6b993c355f50"
      },
      "source": [
        "# real = df.iloc[:, 0:138]\n",
        "real = df.iloc[:, 0:141]\n",
        "cols = [ _ for _ in range(141)]\n",
        "real.columns = cols\n",
        "print('real part: {}'.format(real))\n",
        "plt.xlabel(\"Real values\")\n",
        "plt.ylabel(\"Time\")\n",
        "# plt.gca().invert_yaxis()\n",
        "plt.imshow(real)"
      ],
      "execution_count": 93,
      "outputs": [
        {
          "output_type": "stream",
          "text": [
            "real part:           0         1         2    ...       138       139       140\n",
            "0   -0.007352 -0.003635 -0.002763  ...  0.000003  0.000002 -0.000061\n",
            "1   -0.007331 -0.003597 -0.002761  ...  0.000013 -0.000005 -0.000011\n",
            "2   -0.007310 -0.003570 -0.002794  ... -0.000057 -0.000021  0.000068\n",
            "3   -0.007497 -0.003677 -0.002754  ...  0.000066  0.000020  0.000067\n",
            "4   -0.007325 -0.003595 -0.002692  ...  0.000021  0.000006  0.000046\n",
            "..        ...       ...       ...  ...       ...       ...       ...\n",
            "467 -0.007264 -0.003526 -0.002664  ...  0.000100 -0.000009 -0.000023\n",
            "468 -0.007206 -0.003437 -0.002610  ... -0.000111 -0.000123 -0.000019\n",
            "469 -0.007243 -0.003388 -0.002465  ... -0.000059 -0.000064  0.000014\n",
            "470 -0.007088 -0.003193 -0.002497  ... -0.000104 -0.000024  0.000023\n",
            "471 -0.007137 -0.003407 -0.002571  ... -0.000051 -0.000044 -0.000021\n",
            "\n",
            "[472 rows x 141 columns]\n"
          ],
          "name": "stdout"
        },
        {
          "output_type": "execute_result",
          "data": {
            "text/plain": [
              "<matplotlib.image.AxesImage at 0x7f5f567ba950>"
            ]
          },
          "metadata": {
            "tags": []
          },
          "execution_count": 93
        },
        {
          "output_type": "display_data",
          "data": {
            "image/png": "[encoded data removed]",
            "text/plain": [
              "<Figure size 432x288 with 1 Axes>"
            ]
          },
          "metadata": {
            "tags": [],
            "needs_background": "light"
          }
        }
      ]
    },
    {
      "cell_type": "code",
      "metadata": {
        "colab": {
          "base_uri": "https://localhost:8080/",
          "height": 538
        },
        "id": "_Oc6Wn-OeaHO",
        "outputId": "b182bb5e-ff46-4a2b-d954-f7c9496622c9"
      },
      "source": [
        "# imag = df.iloc[:, 138:277-1 ]\n",
        "imag = df.iloc[:, 141:282 ]\n",
        "cols = [ _ for _ in range(141)]\n",
        "imag.columns = cols\n",
        "print('imag part: {}'.format(imag))\n",
        "plt.xlabel(\"Imag values\")\n",
        "plt.ylabel(\"Time\")\n",
        "plt.imshow(imag)"
      ],
      "execution_count": 94,
      "outputs": [
        {
          "output_type": "stream",
          "text": [
            "imag part:           0         1         2    ...       138       139       140\n",
            "0    0.001026  0.000725  0.000733  ...  0.000041  0.000102  0.000053\n",
            "1    0.001311  0.000823  0.000781  ... -0.000083 -0.000119 -0.000045\n",
            "2    0.001313  0.000784  0.000755  ... -0.000181 -0.000179 -0.000099\n",
            "3    0.001176  0.000654  0.000755  ...  0.000048  0.000058 -0.000010\n",
            "4    0.001286  0.000710  0.000726  ... -0.000033 -0.000146 -0.000101\n",
            "..        ...       ...       ...  ...       ...       ...       ...\n",
            "467  0.001921  0.001384  0.001317  ... -0.000055 -0.000100 -0.000114\n",
            "468  0.001982  0.001378  0.001241  ... -0.000045 -0.000038 -0.000014\n",
            "469  0.001869  0.001194  0.001133  ...  0.000019 -0.000020  0.000027\n",
            "470  0.001798  0.001283  0.001179  ... -0.000115 -0.000119 -0.000071\n",
            "471  0.001973  0.001260  0.001143  ... -0.000044 -0.000070 -0.000112\n",
            "\n",
            "[472 rows x 141 columns]\n"
          ],
          "name": "stdout"
        },
        {
          "output_type": "execute_result",
          "data": {
            "text/plain": [
              "<matplotlib.image.AxesImage at 0x7f5f56717450>"
            ]
          },
          "metadata": {
            "tags": []
          },
          "execution_count": 94
        },
        {
          "output_type": "display_data",
          "data": {
            "image/png": "[encoded data removed]",
            "text/plain": [
              "<Figure size 432x288 with 1 Axes>"
            ]
          },
          "metadata": {
            "tags": [],
            "needs_background": "light"
          }
        }
      ]
    },
    {
      "cell_type": "code",
      "metadata": {
        "colab": {
          "base_uri": "https://localhost:8080/"
        },
        "id": "z8FEQ7JSSzH-",
        "outputId": "fc1ef1d9-194a-430f-c53c-9c343055b9b5"
      },
      "source": [
        "df = pd.DataFrame({'wspd':[10.23,2.4,30.6], 'wdir':[2.3,7.8,4]})\n",
        "df['com'] = df['wspd'] + df['wdir'] * 1j\n",
        "print (df)"
      ],
      "execution_count": 95,
      "outputs": [
        {
          "output_type": "stream",
          "text": [
            "    wspd  wdir                  com\n",
            "0  10.23   2.3  10.230000+2.300000j\n",
            "1   2.40   7.8   2.400000+7.800000j\n",
            "2  30.60   4.0  30.600000+4.000000j\n"
          ],
          "name": "stdout"
        }
      ]
    },
    {
      "cell_type": "code",
      "metadata": {
        "colab": {
          "base_uri": "https://localhost:8080/"
        },
        "id": "I3SahuevUJff",
        "outputId": "017c4394-3174-4003-9986-173be34303f9"
      },
      "source": [
        "real.iloc[0]"
      ],
      "execution_count": 96,
      "outputs": [
        {
          "output_type": "execute_result",
          "data": {
            "text/plain": [
              "0     -0.007352\n",
              "1     -0.003635\n",
              "2     -0.002763\n",
              "3     -0.003194\n",
              "4     -0.002044\n",
              "         ...   \n",
              "136   -0.000046\n",
              "137   -0.000004\n",
              "138    0.000003\n",
              "139    0.000002\n",
              "140   -0.000061\n",
              "Name: 0, Length: 141, dtype: float64"
            ]
          },
          "metadata": {
            "tags": []
          },
          "execution_count": 96
        }
      ]
    },
    {
      "cell_type": "markdown",
      "metadata": {
        "id": "87Bzx4TmlRsC"
      },
      "source": [
        "# Deep Learning"
      ]
    },
    {
      "cell_type": "code",
      "metadata": {
        "colab": {
          "base_uri": "https://localhost:8080/"
        },
        "id": "Z57Ttk-yE7JA",
        "outputId": "3265ff78-6651-44cb-a92e-edadc40ea42f"
      },
      "source": [
        "ls"
      ],
      "execution_count": 97,
      "outputs": [
        {
          "output_type": "stream",
          "text": [
            "\u001b[0m\u001b[01;34mgestureA\u001b[0m/  \u001b[01;34mgestureC\u001b[0m/  \u001b[01;34mgestureE\u001b[0m/\n"
          ],
          "name": "stdout"
        }
      ]
    },
    {
      "cell_type": "code",
      "metadata": {
        "colab": {
          "base_uri": "https://localhost:8080/",
          "height": 37
        },
        "id": "b1XejD_oE4Ga",
        "outputId": "12204627-343f-4a01-8076-f66919433e68"
      },
      "source": [
        "pwd"
      ],
      "execution_count": 98,
      "outputs": [
        {
          "output_type": "execute_result",
          "data": {
            "application/vnd.google.colaboratory.intrinsic+json": {
              "type": "string"
            },
            "text/plain": [
              "'/content/gdrive/My Drive/Fyp/FYP-RPI-RF-Sensing/dataset_v2'"
            ]
          },
          "metadata": {
            "tags": []
          },
          "execution_count": 98
        }
      ]
    },
    {
      "cell_type": "markdown",
      "metadata": {
        "id": "nr5DVMSEuTpb"
      },
      "source": [
        "## Dataloading"
      ]
    },
    {
      "cell_type": "code",
      "metadata": {
        "id": "kHdLYNKMlcnb"
      },
      "source": [
        "#=== Params ===#\n",
        "DATASET_DIR = '/content/gdrive/MyDrive/Fyp/FYP-RPI-RF-Sensing/dataset_v2/'\n",
        "GESTURE_DEGREE = \"degree0\"\n",
        "DATA_ROW_LOWER_LIMIT = 200\n",
        "DATA_ROW_UPPER_LIMIT = 400 #540 # 12s -> 600 (3 transitions)\n",
        "BATCH_SIZE = 30\n",
        "NUM_WORKERS = 0 # 2; 0 is default\n",
        "SHUFFLE = True\n",
        "# cols = [i for i in range(138)]\n",
        "cols = [i for i in range(141)]\n",
        "VALIDATION_SPLIT = .2\n",
        "RANDOM_SEED = 42"
      ],
      "execution_count": 143,
      "outputs": []
    },
    {
      "cell_type": "code",
      "metadata": {
        "id": "ehgLYbpke1zU"
      },
      "source": [
        "#=== Dataloading ===#\n",
        "import os\n",
        "from torch.utils.data import Dataset\n",
        "import numpy as np\n",
        "from torch.utils.data import DataLoader\n",
        "\n",
        "\n",
        "class GestureDataset(Dataset):\n",
        "    def __init__(self, root_dir, transform=None):\n",
        "        \"\"\"\n",
        "        Args:\n",
        "            csv_file (string): Path to the csv file with annotations.\n",
        "            root_dir (string): Directory with all the images.\n",
        "            transform (callable, optional): Optional transform to be applied\n",
        "                on a sample.\n",
        "        \"\"\"\n",
        "        self.root_dir = root_dir\n",
        "        # self.root_dir = '/content/gdrive/MyDrive/Fyp/FYP-RPI-RF-Sensing/dataset/'\n",
        "        self.gesture_list = self.getGestureList()\n",
        "        self.gesturePerFolder = 100 # change this if increasing no. of sample per gesture per degree\n",
        "        self.gestureDegree = GESTURE_DEGREE\n",
        "        self.transform = transform\n",
        "    \n",
        "    def __len__(self):\n",
        "        return len(self.gesture_list) * self.gesturePerFolder\n",
        "        \n",
        "    def __getitem__(self, idx):\n",
        "        item_gesture_type_idx = idx // self.gesturePerFolder\n",
        "        item_gesture_type = self.gesture_list[item_gesture_type_idx],\n",
        "        item_idx = idx % self.gesturePerFolder\n",
        "        # print(item_gesture_type_idx, item_gesture_type[0], item_idx)\n",
        "        item_gesture_path = os.path.join(\n",
        "            self.root_dir,   \n",
        "            item_gesture_type[0],\n",
        "            self.gestureDegree,\n",
        "            str(item_idx+1) + \".csv\"\n",
        "            )\n",
        "        item_gesture_df = pd.read_csv(item_gesture_path, header=0) \n",
        "        # real = item_gesture_df.iloc[ DATA_ROW_LOWER_LIMIT:DATA_ROW_UPPER_LIMIT, :138 ]\n",
        "        real = item_gesture_df.iloc[ DATA_ROW_LOWER_LIMIT:DATA_ROW_UPPER_LIMIT, :141 ]\n",
        "        real.columns = cols\n",
        "        # imag = item_gesture_df.iloc[ DATA_ROW_LOWER_LIMIT:DATA_ROW_UPPER_LIMIT, 138:277-1 ] * 1j\n",
        "        imag = item_gesture_df.iloc[ DATA_ROW_LOWER_LIMIT:DATA_ROW_UPPER_LIMIT, 141:282 ] * 1j\n",
        "        imag.columns = cols\n",
        "        comp = abs(real.add(imag, fill_value=(0)))\n",
        "        \n",
        "        features = comp.values\n",
        "        features = torch.FloatTensor(features)\n",
        "        features = features.view(1, DATA_ROW_UPPER_LIMIT-DATA_ROW_LOWER_LIMIT, item_gesture_df.shape[1]//2)\n",
        "        targets = np.zeros(len(self.gesture_list))\n",
        "        targets[item_gesture_type_idx] = 1\n",
        "        targets = torch.FloatTensor(targets)\n",
        "        sample = {'features': features, 'targets': targets}\n",
        "        # if self.transform:\n",
        "        #     sample = self.transform(sample)\n",
        "        return sample\n",
        "        \n",
        "    def getGestureList(self):\n",
        "        gestureList = []\n",
        "        for _, dirnames, filenames in os.walk(self.root_dir):\n",
        "            if any(\"gesture\" in dirname for dirname in dirnames):\n",
        "                gestureList += dirnames\n",
        "        print(gestureList)\n",
        "        return gestureList"
      ],
      "execution_count": 144,
      "outputs": []
    },
    {
      "cell_type": "code",
      "metadata": {
        "colab": {
          "base_uri": "https://localhost:8080/"
        },
        "id": "z_yVrYNS_E2l",
        "outputId": "2b63fc3e-6f40-41cf-f2c2-8fe394c2829e"
      },
      "source": [
        "from torch.utils.data.sampler import SubsetRandomSampler\n",
        "\n",
        "\n",
        "dataset = GestureDataset(DATASET_DIR)\n",
        "dataset_size = len(dataset)\n",
        "indices = list(range(dataset_size))\n",
        "split = int(np.floor(VALIDATION_SPLIT * dataset_size))\n",
        "\n",
        "if SHUFFLE :\n",
        "    np.random.seed(RANDOM_SEED)\n",
        "    np.random.shuffle(indices)\n",
        "train_indices, val_indices = indices[split:], indices[:split]\n",
        "\n",
        "# Creating PT data samplers and loaders:\n",
        "train_sampler = SubsetRandomSampler(train_indices)\n",
        "valid_sampler = SubsetRandomSampler(val_indices)\n",
        "\n",
        "train_loader = DataLoader(dataset, batch_size=BATCH_SIZE, \n",
        "                                           sampler=train_sampler)\n",
        "validation_loader = DataLoader(dataset, batch_size=BATCH_SIZE,\n",
        "                                                sampler=valid_sampler)"
      ],
      "execution_count": 145,
      "outputs": [
        {
          "output_type": "stream",
          "text": [
            "['gestureA', 'gestureC', 'gestureE']\n"
          ],
          "name": "stdout"
        }
      ]
    },
    {
      "cell_type": "code",
      "metadata": {
        "colab": {
          "base_uri": "https://localhost:8080/",
          "height": 232
        },
        "id": "oA6AkjbNMTgQ",
        "outputId": "f9a9e8ee-705e-45d4-e448-7cc2b7710a0b"
      },
      "source": [
        "#=== printing some data from a dataset ===#\n",
        "import torch \n",
        "\n",
        "for i in range(len(train_data)):\n",
        "    sample = train_data[i]\n",
        "\n",
        "    print(i)\n",
        "    print(sample)\n",
        "    print(sample['features'].shape)\n",
        "    print(sample['targets'].shape)\n",
        "\n",
        "    if i == 40:\n",
        "        break"
      ],
      "execution_count": 146,
      "outputs": [
        {
          "output_type": "error",
          "ename": "NameError",
          "evalue": "ignored",
          "traceback": [
            "\u001b[0;31m---------------------------------------------------------------------------\u001b[0m",
            "\u001b[0;31mNameError\u001b[0m                                 Traceback (most recent call last)",
            "\u001b[0;32m<ipython-input-146-f10897b687c2>\u001b[0m in \u001b[0;36m<module>\u001b[0;34m()\u001b[0m\n\u001b[1;32m      2\u001b[0m \u001b[0;32mimport\u001b[0m \u001b[0mtorch\u001b[0m\u001b[0;34m\u001b[0m\u001b[0;34m\u001b[0m\u001b[0m\n\u001b[1;32m      3\u001b[0m \u001b[0;34m\u001b[0m\u001b[0m\n\u001b[0;32m----> 4\u001b[0;31m \u001b[0;32mfor\u001b[0m \u001b[0mi\u001b[0m \u001b[0;32min\u001b[0m \u001b[0mrange\u001b[0m\u001b[0;34m(\u001b[0m\u001b[0mlen\u001b[0m\u001b[0;34m(\u001b[0m\u001b[0mtrain_data\u001b[0m\u001b[0;34m)\u001b[0m\u001b[0;34m)\u001b[0m\u001b[0;34m:\u001b[0m\u001b[0;34m\u001b[0m\u001b[0;34m\u001b[0m\u001b[0m\n\u001b[0m\u001b[1;32m      5\u001b[0m     \u001b[0msample\u001b[0m \u001b[0;34m=\u001b[0m \u001b[0mtrain_data\u001b[0m\u001b[0;34m[\u001b[0m\u001b[0mi\u001b[0m\u001b[0;34m]\u001b[0m\u001b[0;34m\u001b[0m\u001b[0;34m\u001b[0m\u001b[0m\n\u001b[1;32m      6\u001b[0m \u001b[0;34m\u001b[0m\u001b[0m\n",
            "\u001b[0;31mNameError\u001b[0m: name 'train_data' is not defined"
          ]
        }
      ]
    },
    {
      "cell_type": "code",
      "metadata": {
        "id": "OAtTxP3meTjb"
      },
      "source": [
        "# dataloader = DataLoader(train_data,\n",
        "#                             batch_size=BATCH_SIZE, \n",
        "#                             shuffle=SHUFFLE,\n",
        "#                             num_workers=NUM_WORKERS)"
      ],
      "execution_count": 147,
      "outputs": []
    },
    {
      "cell_type": "code",
      "metadata": {
        "id": "oXWbalb9e5SM",
        "colab": {
          "base_uri": "https://localhost:8080/"
        },
        "outputId": "0f3931a9-7d08-4d6d-ba3e-54f4843fd86e"
      },
      "source": [
        "#=== printing some data from a batch ===#\n",
        "for i_batch, sample_batched in enumerate(train_loader):\n",
        "    # print(i_batch, sample_batched['image'].size(),\n",
        "    #       sample_batched['landmarks'].size())\n",
        "    \n",
        "    # observe 4th batch and stop.\n",
        "    if i_batch == 3:\n",
        "        print()\n",
        "        print(sample_batched['features'])\n",
        "        print(sample_batched['targets'])\n",
        "        break\n",
        "for i_batch, sample_batched in enumerate(validation_loader):\n",
        "    # print(i_batch, sample_batched['image'].size(),\n",
        "    #       sample_batched['landmarks'].size())\n",
        "    \n",
        "    # observe 4th batch and stop.\n",
        "    if i_batch == 3:\n",
        "        print()\n",
        "        print(sample_batched['features'])\n",
        "        print(sample_batched['targets'])\n",
        "        break"
      ],
      "execution_count": 148,
      "outputs": [
        {
          "output_type": "stream",
          "text": [
            "\n",
            "tensor([[[[7.0322e-03, 3.3613e-03, 2.6325e-03,  ..., 8.4309e-05,\n",
            "           2.2136e-05, 6.2177e-05],\n",
            "          [7.2489e-03, 3.4635e-03, 2.7140e-03,  ..., 6.4008e-05,\n",
            "           4.1012e-05, 5.9034e-05],\n",
            "          [7.0772e-03, 3.3023e-03, 2.5592e-03,  ..., 8.5959e-05,\n",
            "           8.6833e-05, 5.2393e-05],\n",
            "          ...,\n",
            "          [7.1340e-03, 3.3462e-03, 2.5159e-03,  ..., 1.2074e-04,\n",
            "           1.0966e-04, 3.7121e-05],\n",
            "          [7.0974e-03, 3.3409e-03, 2.6016e-03,  ..., 1.5117e-04,\n",
            "           1.7407e-04, 1.1513e-04],\n",
            "          [7.0010e-03, 3.3413e-03, 2.6588e-03,  ..., 1.6808e-04,\n",
            "           6.0828e-05, 1.1718e-04]]],\n",
            "\n",
            "\n",
            "        [[[5.8403e-03, 1.8679e-03, 1.8836e-03,  ..., 1.5295e-04,\n",
            "           7.2111e-05, 4.5695e-05],\n",
            "          [5.8952e-03, 1.7670e-03, 1.8067e-03,  ..., 8.0660e-05,\n",
            "           1.1769e-04, 9.7082e-05],\n",
            "          [5.9433e-03, 1.9228e-03, 1.7709e-03,  ..., 6.6910e-05,\n",
            "           8.0156e-05, 5.8669e-05],\n",
            "          ...,\n",
            "          [5.7339e-03, 1.8668e-03, 1.8812e-03,  ..., 9.8509e-05,\n",
            "           1.3103e-04, 4.4011e-05],\n",
            "          [5.8314e-03, 1.9108e-03, 2.0417e-03,  ..., 1.1588e-04,\n",
            "           1.6420e-04, 1.3662e-04],\n",
            "          [5.8996e-03, 1.8102e-03, 1.7870e-03,  ..., 1.6279e-05,\n",
            "           7.4330e-05, 8.7321e-05]]],\n",
            "\n",
            "\n",
            "        [[[7.1875e-03, 3.6351e-03, 2.8748e-03,  ..., 1.2906e-04,\n",
            "           1.5174e-04, 1.4735e-04],\n",
            "          [7.1974e-03, 3.6389e-03, 2.9027e-03,  ..., 4.4283e-05,\n",
            "           1.6086e-04, 1.2000e-04],\n",
            "          [7.2727e-03, 3.7072e-03, 2.9971e-03,  ..., 1.2156e-04,\n",
            "           6.9642e-05, 8.0212e-05],\n",
            "          ...,\n",
            "          [7.2163e-03, 3.7467e-03, 3.0511e-03,  ..., 1.9105e-05,\n",
            "           8.8955e-05, 4.5122e-05],\n",
            "          [7.3121e-03, 3.7321e-03, 3.0639e-03,  ..., 2.5654e-04,\n",
            "           1.4025e-04, 5.4918e-05],\n",
            "          [7.1099e-03, 3.6101e-03, 2.9369e-03,  ..., 1.7807e-04,\n",
            "           1.7755e-04, 1.0374e-04]]],\n",
            "\n",
            "\n",
            "        ...,\n",
            "\n",
            "\n",
            "        [[[5.7627e-03, 1.7375e-03, 1.6934e-03,  ..., 1.5063e-04,\n",
            "           1.0346e-04, 3.9205e-05],\n",
            "          [5.6273e-03, 1.6099e-03, 1.5492e-03,  ..., 1.4177e-04,\n",
            "           1.7936e-04, 1.4790e-04],\n",
            "          [5.8271e-03, 1.8336e-03, 1.7475e-03,  ..., 9.7082e-05,\n",
            "           6.5513e-05, 2.1213e-05],\n",
            "          ...,\n",
            "          [5.8438e-03, 1.7818e-03, 1.7467e-03,  ..., 8.1468e-05,\n",
            "           8.5235e-05, 1.6931e-04],\n",
            "          [5.8217e-03, 1.7625e-03, 1.7454e-03,  ..., 8.3726e-05,\n",
            "           2.4105e-04, 1.3005e-04],\n",
            "          [5.8240e-03, 1.8320e-03, 1.8406e-03,  ..., 1.9055e-04,\n",
            "           1.2846e-04, 6.1294e-05]]],\n",
            "\n",
            "\n",
            "        [[[6.6678e-03, 2.8769e-03, 2.6640e-03,  ..., 5.8052e-05,\n",
            "           9.2661e-05, 1.3535e-04],\n",
            "          [6.4695e-03, 2.6687e-03, 2.5794e-03,  ..., 8.7207e-05,\n",
            "           1.6125e-05, 6.8884e-05],\n",
            "          [6.6403e-03, 2.8455e-03, 2.7214e-03,  ..., 7.7279e-05,\n",
            "           7.0093e-05, 4.6325e-05],\n",
            "          ...,\n",
            "          [6.6974e-03, 3.0381e-03, 2.9342e-03,  ..., 1.2719e-04,\n",
            "           1.4115e-04, 6.4475e-05],\n",
            "          [6.7376e-03, 3.0030e-03, 2.8446e-03,  ..., 2.0106e-04,\n",
            "           1.1960e-04, 6.5391e-05],\n",
            "          [6.5419e-03, 2.9773e-03, 2.8978e-03,  ..., 6.2968e-05,\n",
            "           4.1110e-05, 1.7573e-04]]],\n",
            "\n",
            "\n",
            "        [[[6.7443e-03, 3.2349e-03, 2.7720e-03,  ..., 1.0308e-04,\n",
            "           5.8669e-05, 1.0000e-04],\n",
            "          [6.8325e-03, 3.1833e-03, 2.6949e-03,  ..., 8.8640e-05,\n",
            "           1.0964e-04, 8.5088e-05],\n",
            "          [6.6389e-03, 3.1923e-03, 2.8510e-03,  ..., 5.3935e-05,\n",
            "           7.5604e-05, 9.7082e-05],\n",
            "          ...,\n",
            "          [6.8593e-03, 3.2160e-03, 2.6967e-03,  ..., 8.4865e-05,\n",
            "           3.4015e-05, 1.0335e-04],\n",
            "          [6.7955e-03, 3.2247e-03, 2.8401e-03,  ..., 1.2482e-04,\n",
            "           5.1856e-05, 3.1906e-05],\n",
            "          [6.9070e-03, 3.1921e-03, 2.7055e-03,  ..., 1.5689e-04,\n",
            "           1.6736e-04, 3.1401e-05]]]])\n",
            "tensor([[0., 1., 0.],\n",
            "        [0., 0., 1.],\n",
            "        [1., 0., 0.],\n",
            "        [0., 1., 0.],\n",
            "        [0., 1., 0.],\n",
            "        [0., 1., 0.],\n",
            "        [0., 0., 1.],\n",
            "        [0., 0., 1.],\n",
            "        [0., 1., 0.],\n",
            "        [1., 0., 0.],\n",
            "        [1., 0., 0.],\n",
            "        [1., 0., 0.],\n",
            "        [0., 1., 0.],\n",
            "        [0., 0., 1.],\n",
            "        [1., 0., 0.],\n",
            "        [1., 0., 0.],\n",
            "        [0., 1., 0.],\n",
            "        [0., 1., 0.],\n",
            "        [1., 0., 0.],\n",
            "        [0., 1., 0.],\n",
            "        [0., 1., 0.],\n",
            "        [0., 0., 1.],\n",
            "        [1., 0., 0.],\n",
            "        [0., 0., 1.],\n",
            "        [1., 0., 0.],\n",
            "        [1., 0., 0.],\n",
            "        [0., 0., 1.],\n",
            "        [0., 0., 1.],\n",
            "        [0., 1., 0.],\n",
            "        [0., 1., 0.]])\n"
          ],
          "name": "stdout"
        }
      ]
    },
    {
      "cell_type": "code",
      "metadata": {
        "id": "_ph76rBWc8xv"
      },
      "source": [
        "# https://ieeexplore.ieee.org.remotexs.ntu.edu.sg/document/8249172\n"
      ],
      "execution_count": 135,
      "outputs": []
    },
    {
      "cell_type": "markdown",
      "metadata": {
        "id": "vjsdrb86uXqZ"
      },
      "source": [
        "## 2D CNN - FCNN"
      ]
    },
    {
      "cell_type": "code",
      "metadata": {
        "colab": {
          "base_uri": "https://localhost:8080/"
        },
        "id": "Kq0Kk5BwNlR_",
        "outputId": "c00659bf-34d4-4669-8318-5870b65e19db"
      },
      "source": [
        "#== MODEL ==#\n",
        "import torch.nn as nn\n",
        "import torch.nn.functional as F\n",
        "\n",
        "\n",
        "class Net2(nn.Module):\n",
        "\n",
        "    def __init__(self):\n",
        "        super(Net2, self).__init__()\n",
        "        '''\n",
        "        conv2D, input should be in (N, C, H, W) format. \n",
        "        N is the number of samples/batch_size. C is the channels. H and W are height and width resp.\n",
        "        '''\n",
        "        self.conv1 = nn.Conv2d(1, 8, 2, 5, padding=1)\n",
        "        self.conv2 = nn.Conv2d(8, 17, 2, 5, padding=1)\n",
        "\n",
        "        self.fc1 = nn.Linear(34, 3)\n",
        "\n",
        "    def forward(self, x):\n",
        "        # print('before norm', x.shape)\n",
        "# # inp is shape (N, C, H, W)\n",
        "# n_chans = inp.shape[1]\n",
        "# running_mu = torch.zeros(n_chans) # zeros are fine for first training iter\n",
        "# running_std = torch.ones(n_chans) # ones are fine for first training iter\n",
        "# x = nn.functional.batch_norm(inp, running_mu, running_std, training=True, momentum=0.9)\n",
        "# # running_mu and running_std now have new values\n",
        "        n_chans = x.shape[1]\n",
        "        running_mu = torch.zeros(n_chans) # zeros are fine for first training iter\n",
        "        running_std = torch.ones(n_chans) # ones are fine for first training iter\n",
        "        x = F.batch_norm(x, running_mu, running_std, training=True, momentum=0.9)\n",
        "        # print('after norm', x.shape)\n",
        "        # print(x)\n",
        "\n",
        "        x = self.conv1(x)\n",
        "        # print('conv1', x.shape)\n",
        "\n",
        "        # x = F.relu(x)\n",
        "        x = F.tanh(x)\n",
        "        \n",
        "        x = F.max_pool2d(x, 2)\n",
        "        # print('maxpool', x.shape)\n",
        "        x = self.conv2(x)\n",
        "        # print('conv2', x.shape)\n",
        "        \n",
        "        # x = F.relu(x)\n",
        "        x = F.tanh(x)\n",
        "\n",
        "        x = F.max_pool2d(x, 2)\n",
        "        # print('maxpool', x.shape)\n",
        "\n",
        "        x = x.view(x.size(0), -1)\n",
        "        x = self.fc1(x)\n",
        "        # print('fc1', x)\n",
        "\n",
        "        # x = F.softmax(x, dim=1)\n",
        "        x = F.tanh(x)\n",
        "\n",
        "        return x\n",
        "\n",
        "net2 = Net2()\n",
        "print(net2)"
      ],
      "execution_count": 168,
      "outputs": [
        {
          "output_type": "stream",
          "text": [
            "Net2(\n",
            "  (conv1): Conv2d(1, 8, kernel_size=(2, 2), stride=(5, 5), padding=(1, 1))\n",
            "  (conv2): Conv2d(8, 17, kernel_size=(2, 2), stride=(5, 5), padding=(1, 1))\n",
            "  (fc1): Linear(in_features=34, out_features=3, bias=True)\n",
            ")\n"
          ],
          "name": "stdout"
        }
      ]
    },
    {
      "cell_type": "code",
      "metadata": {
        "colab": {
          "base_uri": "https://localhost:8080/",
          "height": 715
        },
        "id": "hhA6PJgrBqTc",
        "outputId": "4d978906-6bff-41a6-a7d7-3c5f62f5b32e"
      },
      "source": [
        "for i_batch, sample_batched in enumerate(train_loader):\n",
        "    if i_batch == 1:\n",
        "        print(sample_batched)\n",
        "        print(sample_batched['features'].shape)\n",
        "\n",
        "        output = net2(sample_batched['features'])\n",
        "        print('out', output.shape)\n",
        "        print(output)\n",
        "\n",
        "        target = sample_batched['targets']\n",
        "        # target = target.view(1, -1)  # make it the same shape as output\n",
        "        criterion = nn.MSELoss()\n",
        "\n",
        "        loss = criterion(output, target)\n",
        "        print('loss', loss)\n",
        "        print(loss.grad_fn)  # MSELoss\n",
        "        print(loss.grad_fn.next_functions[0][0])  # Linear\n",
        "        print(loss.grad_fn.next_functions[0][0].next_functions[0][0])  # ReLU\n",
        "\n",
        "        break\n",
        "#=== The learnable parameters of a model are returned by net.parameters() ===#\n",
        "params = list(net2.parameters())\n",
        "print(len(params))\n",
        "print(params[0].size())  # conv1's .weight"
      ],
      "execution_count": 169,
      "outputs": [
        {
          "output_type": "error",
          "ename": "KeyboardInterrupt",
          "evalue": "ignored",
          "traceback": [
            "\u001b[0;31m---------------------------------------------------------------------------\u001b[0m",
            "\u001b[0;31mKeyboardInterrupt\u001b[0m                         Traceback (most recent call last)",
            "\u001b[0;32m<ipython-input-169-d48249ec5ab8>\u001b[0m in \u001b[0;36m<module>\u001b[0;34m()\u001b[0m\n\u001b[0;32m----> 1\u001b[0;31m \u001b[0;32mfor\u001b[0m \u001b[0mi_batch\u001b[0m\u001b[0;34m,\u001b[0m \u001b[0msample_batched\u001b[0m \u001b[0;32min\u001b[0m \u001b[0menumerate\u001b[0m\u001b[0;34m(\u001b[0m\u001b[0mtrain_loader\u001b[0m\u001b[0;34m)\u001b[0m\u001b[0;34m:\u001b[0m\u001b[0;34m\u001b[0m\u001b[0;34m\u001b[0m\u001b[0m\n\u001b[0m\u001b[1;32m      2\u001b[0m     \u001b[0;32mif\u001b[0m \u001b[0mi_batch\u001b[0m \u001b[0;34m==\u001b[0m \u001b[0;36m1\u001b[0m\u001b[0;34m:\u001b[0m\u001b[0;34m\u001b[0m\u001b[0;34m\u001b[0m\u001b[0m\n\u001b[1;32m      3\u001b[0m         \u001b[0mprint\u001b[0m\u001b[0;34m(\u001b[0m\u001b[0msample_batched\u001b[0m\u001b[0;34m)\u001b[0m\u001b[0;34m\u001b[0m\u001b[0;34m\u001b[0m\u001b[0m\n\u001b[1;32m      4\u001b[0m         \u001b[0mprint\u001b[0m\u001b[0;34m(\u001b[0m\u001b[0msample_batched\u001b[0m\u001b[0;34m[\u001b[0m\u001b[0;34m'features'\u001b[0m\u001b[0;34m]\u001b[0m\u001b[0;34m.\u001b[0m\u001b[0mshape\u001b[0m\u001b[0;34m)\u001b[0m\u001b[0;34m\u001b[0m\u001b[0;34m\u001b[0m\u001b[0m\n\u001b[1;32m      5\u001b[0m \u001b[0;34m\u001b[0m\u001b[0m\n",
            "\u001b[0;32m/usr/local/lib/python3.7/dist-packages/torch/utils/data/dataloader.py\u001b[0m in \u001b[0;36m__next__\u001b[0;34m(self)\u001b[0m\n\u001b[1;32m    515\u001b[0m             \u001b[0;32mif\u001b[0m \u001b[0mself\u001b[0m\u001b[0;34m.\u001b[0m\u001b[0m_sampler_iter\u001b[0m \u001b[0;32mis\u001b[0m \u001b[0;32mNone\u001b[0m\u001b[0;34m:\u001b[0m\u001b[0;34m\u001b[0m\u001b[0;34m\u001b[0m\u001b[0m\n\u001b[1;32m    516\u001b[0m                 \u001b[0mself\u001b[0m\u001b[0;34m.\u001b[0m\u001b[0m_reset\u001b[0m\u001b[0;34m(\u001b[0m\u001b[0;34m)\u001b[0m\u001b[0;34m\u001b[0m\u001b[0;34m\u001b[0m\u001b[0m\n\u001b[0;32m--> 517\u001b[0;31m             \u001b[0mdata\u001b[0m \u001b[0;34m=\u001b[0m \u001b[0mself\u001b[0m\u001b[0;34m.\u001b[0m\u001b[0m_next_data\u001b[0m\u001b[0;34m(\u001b[0m\u001b[0;34m)\u001b[0m\u001b[0;34m\u001b[0m\u001b[0;34m\u001b[0m\u001b[0m\n\u001b[0m\u001b[1;32m    518\u001b[0m             \u001b[0mself\u001b[0m\u001b[0;34m.\u001b[0m\u001b[0m_num_yielded\u001b[0m \u001b[0;34m+=\u001b[0m \u001b[0;36m1\u001b[0m\u001b[0;34m\u001b[0m\u001b[0;34m\u001b[0m\u001b[0m\n\u001b[1;32m    519\u001b[0m             \u001b[0;32mif\u001b[0m \u001b[0mself\u001b[0m\u001b[0;34m.\u001b[0m\u001b[0m_dataset_kind\u001b[0m \u001b[0;34m==\u001b[0m \u001b[0m_DatasetKind\u001b[0m\u001b[0;34m.\u001b[0m\u001b[0mIterable\u001b[0m \u001b[0;32mand\u001b[0m\u001b[0;31m \u001b[0m\u001b[0;31m\\\u001b[0m\u001b[0;34m\u001b[0m\u001b[0;34m\u001b[0m\u001b[0m\n",
            "\u001b[0;32m/usr/local/lib/python3.7/dist-packages/torch/utils/data/dataloader.py\u001b[0m in \u001b[0;36m_next_data\u001b[0;34m(self)\u001b[0m\n\u001b[1;32m    555\u001b[0m     \u001b[0;32mdef\u001b[0m \u001b[0m_next_data\u001b[0m\u001b[0;34m(\u001b[0m\u001b[0mself\u001b[0m\u001b[0;34m)\u001b[0m\u001b[0;34m:\u001b[0m\u001b[0;34m\u001b[0m\u001b[0;34m\u001b[0m\u001b[0m\n\u001b[1;32m    556\u001b[0m         \u001b[0mindex\u001b[0m \u001b[0;34m=\u001b[0m \u001b[0mself\u001b[0m\u001b[0;34m.\u001b[0m\u001b[0m_next_index\u001b[0m\u001b[0;34m(\u001b[0m\u001b[0;34m)\u001b[0m  \u001b[0;31m# may raise StopIteration\u001b[0m\u001b[0;34m\u001b[0m\u001b[0;34m\u001b[0m\u001b[0m\n\u001b[0;32m--> 557\u001b[0;31m         \u001b[0mdata\u001b[0m \u001b[0;34m=\u001b[0m \u001b[0mself\u001b[0m\u001b[0;34m.\u001b[0m\u001b[0m_dataset_fetcher\u001b[0m\u001b[0;34m.\u001b[0m\u001b[0mfetch\u001b[0m\u001b[0;34m(\u001b[0m\u001b[0mindex\u001b[0m\u001b[0;34m)\u001b[0m  \u001b[0;31m# may raise StopIteration\u001b[0m\u001b[0;34m\u001b[0m\u001b[0;34m\u001b[0m\u001b[0m\n\u001b[0m\u001b[1;32m    558\u001b[0m         \u001b[0;32mif\u001b[0m \u001b[0mself\u001b[0m\u001b[0;34m.\u001b[0m\u001b[0m_pin_memory\u001b[0m\u001b[0;34m:\u001b[0m\u001b[0;34m\u001b[0m\u001b[0;34m\u001b[0m\u001b[0m\n\u001b[1;32m    559\u001b[0m             \u001b[0mdata\u001b[0m \u001b[0;34m=\u001b[0m \u001b[0m_utils\u001b[0m\u001b[0;34m.\u001b[0m\u001b[0mpin_memory\u001b[0m\u001b[0;34m.\u001b[0m\u001b[0mpin_memory\u001b[0m\u001b[0;34m(\u001b[0m\u001b[0mdata\u001b[0m\u001b[0;34m)\u001b[0m\u001b[0;34m\u001b[0m\u001b[0;34m\u001b[0m\u001b[0m\n",
            "\u001b[0;32m/usr/local/lib/python3.7/dist-packages/torch/utils/data/_utils/fetch.py\u001b[0m in \u001b[0;36mfetch\u001b[0;34m(self, possibly_batched_index)\u001b[0m\n\u001b[1;32m     42\u001b[0m     \u001b[0;32mdef\u001b[0m \u001b[0mfetch\u001b[0m\u001b[0;34m(\u001b[0m\u001b[0mself\u001b[0m\u001b[0;34m,\u001b[0m \u001b[0mpossibly_batched_index\u001b[0m\u001b[0;34m)\u001b[0m\u001b[0;34m:\u001b[0m\u001b[0;34m\u001b[0m\u001b[0;34m\u001b[0m\u001b[0m\n\u001b[1;32m     43\u001b[0m         \u001b[0;32mif\u001b[0m \u001b[0mself\u001b[0m\u001b[0;34m.\u001b[0m\u001b[0mauto_collation\u001b[0m\u001b[0;34m:\u001b[0m\u001b[0;34m\u001b[0m\u001b[0;34m\u001b[0m\u001b[0m\n\u001b[0;32m---> 44\u001b[0;31m             \u001b[0mdata\u001b[0m \u001b[0;34m=\u001b[0m \u001b[0;34m[\u001b[0m\u001b[0mself\u001b[0m\u001b[0;34m.\u001b[0m\u001b[0mdataset\u001b[0m\u001b[0;34m[\u001b[0m\u001b[0midx\u001b[0m\u001b[0;34m]\u001b[0m \u001b[0;32mfor\u001b[0m \u001b[0midx\u001b[0m \u001b[0;32min\u001b[0m \u001b[0mpossibly_batched_index\u001b[0m\u001b[0;34m]\u001b[0m\u001b[0;34m\u001b[0m\u001b[0;34m\u001b[0m\u001b[0m\n\u001b[0m\u001b[1;32m     45\u001b[0m         \u001b[0;32melse\u001b[0m\u001b[0;34m:\u001b[0m\u001b[0;34m\u001b[0m\u001b[0;34m\u001b[0m\u001b[0m\n\u001b[1;32m     46\u001b[0m             \u001b[0mdata\u001b[0m \u001b[0;34m=\u001b[0m \u001b[0mself\u001b[0m\u001b[0;34m.\u001b[0m\u001b[0mdataset\u001b[0m\u001b[0;34m[\u001b[0m\u001b[0mpossibly_batched_index\u001b[0m\u001b[0;34m]\u001b[0m\u001b[0;34m\u001b[0m\u001b[0;34m\u001b[0m\u001b[0m\n",
            "\u001b[0;32m/usr/local/lib/python3.7/dist-packages/torch/utils/data/_utils/fetch.py\u001b[0m in \u001b[0;36m<listcomp>\u001b[0;34m(.0)\u001b[0m\n\u001b[1;32m     42\u001b[0m     \u001b[0;32mdef\u001b[0m \u001b[0mfetch\u001b[0m\u001b[0;34m(\u001b[0m\u001b[0mself\u001b[0m\u001b[0;34m,\u001b[0m \u001b[0mpossibly_batched_index\u001b[0m\u001b[0;34m)\u001b[0m\u001b[0;34m:\u001b[0m\u001b[0;34m\u001b[0m\u001b[0;34m\u001b[0m\u001b[0m\n\u001b[1;32m     43\u001b[0m         \u001b[0;32mif\u001b[0m \u001b[0mself\u001b[0m\u001b[0;34m.\u001b[0m\u001b[0mauto_collation\u001b[0m\u001b[0;34m:\u001b[0m\u001b[0;34m\u001b[0m\u001b[0;34m\u001b[0m\u001b[0m\n\u001b[0;32m---> 44\u001b[0;31m             \u001b[0mdata\u001b[0m \u001b[0;34m=\u001b[0m \u001b[0;34m[\u001b[0m\u001b[0mself\u001b[0m\u001b[0;34m.\u001b[0m\u001b[0mdataset\u001b[0m\u001b[0;34m[\u001b[0m\u001b[0midx\u001b[0m\u001b[0;34m]\u001b[0m \u001b[0;32mfor\u001b[0m \u001b[0midx\u001b[0m \u001b[0;32min\u001b[0m \u001b[0mpossibly_batched_index\u001b[0m\u001b[0;34m]\u001b[0m\u001b[0;34m\u001b[0m\u001b[0;34m\u001b[0m\u001b[0m\n\u001b[0m\u001b[1;32m     45\u001b[0m         \u001b[0;32melse\u001b[0m\u001b[0;34m:\u001b[0m\u001b[0;34m\u001b[0m\u001b[0;34m\u001b[0m\u001b[0m\n\u001b[1;32m     46\u001b[0m             \u001b[0mdata\u001b[0m \u001b[0;34m=\u001b[0m \u001b[0mself\u001b[0m\u001b[0;34m.\u001b[0m\u001b[0mdataset\u001b[0m\u001b[0;34m[\u001b[0m\u001b[0mpossibly_batched_index\u001b[0m\u001b[0;34m]\u001b[0m\u001b[0;34m\u001b[0m\u001b[0;34m\u001b[0m\u001b[0m\n",
            "\u001b[0;32m<ipython-input-144-3d3c905ea08a>\u001b[0m in \u001b[0;36m__getitem__\u001b[0;34m(self, idx)\u001b[0m\n\u001b[1;32m     36\u001b[0m             \u001b[0mstr\u001b[0m\u001b[0;34m(\u001b[0m\u001b[0mitem_idx\u001b[0m\u001b[0;34m+\u001b[0m\u001b[0;36m1\u001b[0m\u001b[0;34m)\u001b[0m \u001b[0;34m+\u001b[0m \u001b[0;34m\".csv\"\u001b[0m\u001b[0;34m\u001b[0m\u001b[0;34m\u001b[0m\u001b[0m\n\u001b[1;32m     37\u001b[0m             )\n\u001b[0;32m---> 38\u001b[0;31m         \u001b[0mitem_gesture_df\u001b[0m \u001b[0;34m=\u001b[0m \u001b[0mpd\u001b[0m\u001b[0;34m.\u001b[0m\u001b[0mread_csv\u001b[0m\u001b[0;34m(\u001b[0m\u001b[0mitem_gesture_path\u001b[0m\u001b[0;34m,\u001b[0m \u001b[0mheader\u001b[0m\u001b[0;34m=\u001b[0m\u001b[0;36m0\u001b[0m\u001b[0;34m)\u001b[0m\u001b[0;34m\u001b[0m\u001b[0;34m\u001b[0m\u001b[0m\n\u001b[0m\u001b[1;32m     39\u001b[0m         \u001b[0;31m# real = item_gesture_df.iloc[ DATA_ROW_LOWER_LIMIT:DATA_ROW_UPPER_LIMIT, :138 ]\u001b[0m\u001b[0;34m\u001b[0m\u001b[0;34m\u001b[0m\u001b[0;34m\u001b[0m\u001b[0m\n\u001b[1;32m     40\u001b[0m         \u001b[0mreal\u001b[0m \u001b[0;34m=\u001b[0m \u001b[0mitem_gesture_df\u001b[0m\u001b[0;34m.\u001b[0m\u001b[0miloc\u001b[0m\u001b[0;34m[\u001b[0m \u001b[0mDATA_ROW_LOWER_LIMIT\u001b[0m\u001b[0;34m:\u001b[0m\u001b[0mDATA_ROW_UPPER_LIMIT\u001b[0m\u001b[0;34m,\u001b[0m \u001b[0;34m:\u001b[0m\u001b[0;36m141\u001b[0m \u001b[0;34m]\u001b[0m\u001b[0;34m\u001b[0m\u001b[0;34m\u001b[0m\u001b[0m\n",
            "\u001b[0;32m/usr/local/lib/python3.7/dist-packages/pandas/io/parsers.py\u001b[0m in \u001b[0;36mread_csv\u001b[0;34m(filepath_or_buffer, sep, delimiter, header, names, index_col, usecols, squeeze, prefix, mangle_dupe_cols, dtype, engine, converters, true_values, false_values, skipinitialspace, skiprows, skipfooter, nrows, na_values, keep_default_na, na_filter, verbose, skip_blank_lines, parse_dates, infer_datetime_format, keep_date_col, date_parser, dayfirst, cache_dates, iterator, chunksize, compression, thousands, decimal, lineterminator, quotechar, quoting, doublequote, escapechar, comment, encoding, dialect, error_bad_lines, warn_bad_lines, delim_whitespace, low_memory, memory_map, float_precision)\u001b[0m\n\u001b[1;32m    686\u001b[0m     )\n\u001b[1;32m    687\u001b[0m \u001b[0;34m\u001b[0m\u001b[0m\n\u001b[0;32m--> 688\u001b[0;31m     \u001b[0;32mreturn\u001b[0m \u001b[0m_read\u001b[0m\u001b[0;34m(\u001b[0m\u001b[0mfilepath_or_buffer\u001b[0m\u001b[0;34m,\u001b[0m \u001b[0mkwds\u001b[0m\u001b[0;34m)\u001b[0m\u001b[0;34m\u001b[0m\u001b[0;34m\u001b[0m\u001b[0m\n\u001b[0m\u001b[1;32m    689\u001b[0m \u001b[0;34m\u001b[0m\u001b[0m\n\u001b[1;32m    690\u001b[0m \u001b[0;34m\u001b[0m\u001b[0m\n",
            "\u001b[0;32m/usr/local/lib/python3.7/dist-packages/pandas/io/parsers.py\u001b[0m in \u001b[0;36m_read\u001b[0;34m(filepath_or_buffer, kwds)\u001b[0m\n\u001b[1;32m    458\u001b[0m \u001b[0;34m\u001b[0m\u001b[0m\n\u001b[1;32m    459\u001b[0m     \u001b[0;32mtry\u001b[0m\u001b[0;34m:\u001b[0m\u001b[0;34m\u001b[0m\u001b[0;34m\u001b[0m\u001b[0m\n\u001b[0;32m--> 460\u001b[0;31m         \u001b[0mdata\u001b[0m \u001b[0;34m=\u001b[0m \u001b[0mparser\u001b[0m\u001b[0;34m.\u001b[0m\u001b[0mread\u001b[0m\u001b[0;34m(\u001b[0m\u001b[0mnrows\u001b[0m\u001b[0;34m)\u001b[0m\u001b[0;34m\u001b[0m\u001b[0;34m\u001b[0m\u001b[0m\n\u001b[0m\u001b[1;32m    461\u001b[0m     \u001b[0;32mfinally\u001b[0m\u001b[0;34m:\u001b[0m\u001b[0;34m\u001b[0m\u001b[0;34m\u001b[0m\u001b[0m\n\u001b[1;32m    462\u001b[0m         \u001b[0mparser\u001b[0m\u001b[0;34m.\u001b[0m\u001b[0mclose\u001b[0m\u001b[0;34m(\u001b[0m\u001b[0;34m)\u001b[0m\u001b[0;34m\u001b[0m\u001b[0;34m\u001b[0m\u001b[0m\n",
            "\u001b[0;32m/usr/local/lib/python3.7/dist-packages/pandas/io/parsers.py\u001b[0m in \u001b[0;36mread\u001b[0;34m(self, nrows)\u001b[0m\n\u001b[1;32m   1196\u001b[0m     \u001b[0;32mdef\u001b[0m \u001b[0mread\u001b[0m\u001b[0;34m(\u001b[0m\u001b[0mself\u001b[0m\u001b[0;34m,\u001b[0m \u001b[0mnrows\u001b[0m\u001b[0;34m=\u001b[0m\u001b[0;32mNone\u001b[0m\u001b[0;34m)\u001b[0m\u001b[0;34m:\u001b[0m\u001b[0;34m\u001b[0m\u001b[0;34m\u001b[0m\u001b[0m\n\u001b[1;32m   1197\u001b[0m         \u001b[0mnrows\u001b[0m \u001b[0;34m=\u001b[0m \u001b[0m_validate_integer\u001b[0m\u001b[0;34m(\u001b[0m\u001b[0;34m\"nrows\"\u001b[0m\u001b[0;34m,\u001b[0m \u001b[0mnrows\u001b[0m\u001b[0;34m)\u001b[0m\u001b[0;34m\u001b[0m\u001b[0;34m\u001b[0m\u001b[0m\n\u001b[0;32m-> 1198\u001b[0;31m         \u001b[0mret\u001b[0m \u001b[0;34m=\u001b[0m \u001b[0mself\u001b[0m\u001b[0;34m.\u001b[0m\u001b[0m_engine\u001b[0m\u001b[0;34m.\u001b[0m\u001b[0mread\u001b[0m\u001b[0;34m(\u001b[0m\u001b[0mnrows\u001b[0m\u001b[0;34m)\u001b[0m\u001b[0;34m\u001b[0m\u001b[0;34m\u001b[0m\u001b[0m\n\u001b[0m\u001b[1;32m   1199\u001b[0m \u001b[0;34m\u001b[0m\u001b[0m\n\u001b[1;32m   1200\u001b[0m         \u001b[0;31m# May alter columns / col_dict\u001b[0m\u001b[0;34m\u001b[0m\u001b[0;34m\u001b[0m\u001b[0;34m\u001b[0m\u001b[0m\n",
            "\u001b[0;32m/usr/local/lib/python3.7/dist-packages/pandas/io/parsers.py\u001b[0m in \u001b[0;36mread\u001b[0;34m(self, nrows)\u001b[0m\n\u001b[1;32m   2155\u001b[0m     \u001b[0;32mdef\u001b[0m \u001b[0mread\u001b[0m\u001b[0;34m(\u001b[0m\u001b[0mself\u001b[0m\u001b[0;34m,\u001b[0m \u001b[0mnrows\u001b[0m\u001b[0;34m=\u001b[0m\u001b[0;32mNone\u001b[0m\u001b[0;34m)\u001b[0m\u001b[0;34m:\u001b[0m\u001b[0;34m\u001b[0m\u001b[0;34m\u001b[0m\u001b[0m\n\u001b[1;32m   2156\u001b[0m         \u001b[0;32mtry\u001b[0m\u001b[0;34m:\u001b[0m\u001b[0;34m\u001b[0m\u001b[0;34m\u001b[0m\u001b[0m\n\u001b[0;32m-> 2157\u001b[0;31m             \u001b[0mdata\u001b[0m \u001b[0;34m=\u001b[0m \u001b[0mself\u001b[0m\u001b[0;34m.\u001b[0m\u001b[0m_reader\u001b[0m\u001b[0;34m.\u001b[0m\u001b[0mread\u001b[0m\u001b[0;34m(\u001b[0m\u001b[0mnrows\u001b[0m\u001b[0;34m)\u001b[0m\u001b[0;34m\u001b[0m\u001b[0;34m\u001b[0m\u001b[0m\n\u001b[0m\u001b[1;32m   2158\u001b[0m         \u001b[0;32mexcept\u001b[0m \u001b[0mStopIteration\u001b[0m\u001b[0;34m:\u001b[0m\u001b[0;34m\u001b[0m\u001b[0;34m\u001b[0m\u001b[0m\n\u001b[1;32m   2159\u001b[0m             \u001b[0;32mif\u001b[0m \u001b[0mself\u001b[0m\u001b[0;34m.\u001b[0m\u001b[0m_first_chunk\u001b[0m\u001b[0;34m:\u001b[0m\u001b[0;34m\u001b[0m\u001b[0;34m\u001b[0m\u001b[0m\n",
            "\u001b[0;32mpandas/_libs/parsers.pyx\u001b[0m in \u001b[0;36mpandas._libs.parsers.TextReader.read\u001b[0;34m()\u001b[0m\n",
            "\u001b[0;32mpandas/_libs/parsers.pyx\u001b[0m in \u001b[0;36mpandas._libs.parsers.TextReader._read_low_memory\u001b[0;34m()\u001b[0m\n",
            "\u001b[0;32mpandas/_libs/parsers.pyx\u001b[0m in \u001b[0;36mpandas._libs.parsers.TextReader._read_rows\u001b[0;34m()\u001b[0m\n",
            "\u001b[0;32mpandas/_libs/parsers.pyx\u001b[0m in \u001b[0;36mpandas._libs.parsers.TextReader._convert_column_data\u001b[0;34m()\u001b[0m\n",
            "\u001b[0;32mpandas/_libs/parsers.pyx\u001b[0m in \u001b[0;36mpandas._libs.parsers.TextReader._convert_tokens\u001b[0;34m()\u001b[0m\n",
            "\u001b[0;32mpandas/_libs/parsers.pyx\u001b[0m in \u001b[0;36mpandas._libs.parsers.TextReader._convert_with_dtype\u001b[0;34m()\u001b[0m\n",
            "\u001b[0;32m/usr/local/lib/python3.7/dist-packages/pandas/core/dtypes/common.py\u001b[0m in \u001b[0;36mis_categorical_dtype\u001b[0;34m(arr_or_dtype)\u001b[0m\n\u001b[1;32m    528\u001b[0m \u001b[0;34m\u001b[0m\u001b[0m\n\u001b[1;32m    529\u001b[0m \u001b[0;34m\u001b[0m\u001b[0m\n\u001b[0;32m--> 530\u001b[0;31m \u001b[0;32mdef\u001b[0m \u001b[0mis_categorical_dtype\u001b[0m\u001b[0;34m(\u001b[0m\u001b[0marr_or_dtype\u001b[0m\u001b[0;34m)\u001b[0m \u001b[0;34m->\u001b[0m \u001b[0mbool\u001b[0m\u001b[0;34m:\u001b[0m\u001b[0;34m\u001b[0m\u001b[0;34m\u001b[0m\u001b[0m\n\u001b[0m\u001b[1;32m    531\u001b[0m     \"\"\"\n\u001b[1;32m    532\u001b[0m     \u001b[0mCheck\u001b[0m \u001b[0mwhether\u001b[0m \u001b[0man\u001b[0m \u001b[0marray\u001b[0m\u001b[0;34m-\u001b[0m\u001b[0mlike\u001b[0m \u001b[0;32mor\u001b[0m \u001b[0mdtype\u001b[0m \u001b[0;32mis\u001b[0m \u001b[0mof\u001b[0m \u001b[0mthe\u001b[0m \u001b[0mCategorical\u001b[0m \u001b[0mdtype\u001b[0m\u001b[0;34m.\u001b[0m\u001b[0;34m\u001b[0m\u001b[0;34m\u001b[0m\u001b[0m\n",
            "\u001b[0;31mKeyboardInterrupt\u001b[0m: "
          ]
        }
      ]
    },
    {
      "cell_type": "code",
      "metadata": {
        "id": "VRrxQWIRNkfL"
      },
      "source": [
        "import torch.optim as optim\n",
        "\n",
        "criterion = nn.MSELoss()\n",
        "# criterion = nn.CrossEntropyLoss()\n",
        "optimizer = optim.SGD(net2.parameters(), lr=0.001, momentum=0.5)\n",
        "\n",
        "for epoch in range(5):\n",
        "    # running_loss = 0.0\n",
        "    epoch_loss = 0.0\n",
        "    epoch_count = 0 \n",
        "    correct = 0\n",
        "    total = 0\n",
        "    for i, data in enumerate(train_loader):\n",
        "        inputs = data['features']\n",
        "        labels = data['targets']\n",
        "        # print(labels)\n",
        "\n",
        "        optimizer.zero_grad() # zero the gradient buffers\n",
        "\n",
        "        # forward + backward + optimize\n",
        "        outputs = net2(inputs)\n",
        "        # print(outputs.shape)\n",
        "        # print(labels.shape)\n",
        "        loss = criterion(outputs, labels)\n",
        "        loss.backward()\n",
        "        optimizer.step() # Does the update\n",
        "\n",
        "        # print statistics\n",
        "        # running_loss += loss.item()\n",
        "        # if i % 20 == 19:    # print every 20 mini-batches\n",
        "        #     print('[%d, %5d] loss: %.3f' %\n",
        "        #           (epoch + 1, i + 1, running_loss / 20))\n",
        "        #     running_loss = 0.0\n",
        "\n",
        "    for i, data in enumerate(validation_loader):\n",
        "        inputs = data['features']\n",
        "        labels = data['targets']\n",
        "        \n",
        "        optimizer.zero_grad() # zero the gradient buffers\n",
        "\n",
        "        # forward + backward + optimize\n",
        "        outputs = net2(inputs)\n",
        "        # print(outputs.shape)\n",
        "        # print(labels.shape)\n",
        "        loss = criterion(outputs, labels)\n",
        "\n",
        "        epoch_loss += loss.item()\n",
        "        _, label = torch.max(labels, 1)\n",
        "        _, predicted = torch.max(outputs, 1)\n",
        "        comparison_tensor = torch.eq(label, predicted).long()\n",
        "        correct += torch.count_nonzero(comparison_tensor)\n",
        "        total += comparison_tensor.shape[0]\n",
        "    print('epoch: {} Loss: {:.3f} Accu: {:.5f}'.format(epoch+1, epoch_loss, correct.item()/total))\n",
        "print('Finished Training')"
      ],
      "execution_count": null,
      "outputs": []
    },
    {
      "cell_type": "code",
      "metadata": {
        "id": "AxRUNLI0Sgud"
      },
      "source": [
        "torch.save(net2.state_dict(), '/content/gdrive/My Drive/Fyp/FYP-RPI-RF-Sensing/dataset/net2.pth')"
      ],
      "execution_count": null,
      "outputs": []
    },
    {
      "cell_type": "code",
      "metadata": {
        "id": "gPJz2SgOR5qs"
      },
      "source": [
        "for i_batch, sample_batched in enumerate(validation_loader):\n",
        "    net2 = Net2()\n",
        "    net2.load_state_dict(torch.load('/content/gdrive/My Drive/Fyp/FYP-RPI-RF-Sensing/dataset/net2.pth'))\n",
        "    \n",
        "    # if i_batch == 1:\n",
        "        # print(sample_batched)\n",
        "    _, actual = torch.max(sample_batched['targets'], 1)\n",
        "    print('actual', actual)\n",
        "\n",
        "    outputs = net2(sample_batched['features'])\n",
        "    # print('outputs', outputs)\n",
        "    _, predicted = torch.max(outputs, 1)\n",
        "    print('predicted', predicted)"
      ],
      "execution_count": null,
      "outputs": []
    },
    {
      "cell_type": "markdown",
      "metadata": {
        "id": "i7L0v3kVuJlA"
      },
      "source": [
        "## 3D CNN - FCNN"
      ]
    },
    {
      "cell_type": "code",
      "metadata": {
        "id": "FqF87sGYL3ov",
        "colab": {
          "base_uri": "https://localhost:8080/"
        },
        "outputId": "e8fe0b8c-9ed6-4508-d2ed-b7a982ae14ca"
      },
      "source": [
        "#== MODEL ==#\n",
        "import torch.nn as nn\n",
        "import torch.nn.functional as F\n",
        "\n",
        "\n",
        "class Net3(nn.Module):\n",
        "\n",
        "    def __init__(self):\n",
        "        super(Net3, self).__init__()\n",
        "        '''\n",
        "        conv2D, input should be in (N, C, H, W) format. \n",
        "        N is the number of samples/batch_size. C is the channels. H and W are height and width resp.\n",
        "        '''\n",
        "        # self.conv1 = nn.Conv3d(1, 7, 3, 5, padding=1)\n",
        "        # self.conv2 = nn.Conv3d(7, 11, 3, 5, padding=1)\n",
        "        self.conv1 = nn.Conv3d(BATCH_SIZE, 7, (1, 5, 5), 1)\n",
        "        self.conv2 = nn.Conv3d(7, 15, (1, 5, 5), 1)\n",
        "        \n",
        "        # self.fc1 = nn.Linear(528, 8)\n",
        "        self.fc1 = nn.Linear(12768, 128)\n",
        "        self.fc2 = nn.Linear(128, 3)\n",
        "\n",
        "    def forward(self, x):\n",
        "        # x = self.conv1(x)\n",
        "        # # print('conv1', x.shape)\n",
        "        # x = F.relu(x)\n",
        "        # x = F.max_pool3d(x, 1)\n",
        "        # # print('maxpool', x.shape)\n",
        "        # x = self.conv2(x)\n",
        "        # # print('conv2', x.shape)\n",
        "\n",
        "        # x = x.view(x.size(0), -1)\n",
        "        # x = self.fc1(x)\n",
        "        # # print('fc1', x.shape)\n",
        "        # x = F.softmax(x, dim=1)\n",
        "\n",
        "        x = F.relu(self.conv1(x))\n",
        "        x = F.max_pool3d(x, 1)\n",
        "        x = F.relu(self.conv2(x))\n",
        "        x = x.view(BATCH_SIZE, -1) #flatten\n",
        "        #=== FCNN classifier ===#\n",
        "        x = F.relu(self.fc1(x))\n",
        "        x = F.softmax(self.fc2(x), dim=1)\n",
        "\n",
        "        return x\n",
        "\n",
        "net3 = Net3()\n",
        "print(net3)"
      ],
      "execution_count": 165,
      "outputs": [
        {
          "output_type": "stream",
          "text": [
            "Net3(\n",
            "  (conv1): Conv3d(30, 7, kernel_size=(1, 5, 5), stride=(1, 1, 1))\n",
            "  (conv2): Conv3d(7, 15, kernel_size=(1, 5, 5), stride=(1, 1, 1))\n",
            "  (fc1): Linear(in_features=12768, out_features=128, bias=True)\n",
            "  (fc2): Linear(in_features=128, out_features=3, bias=True)\n",
            ")\n"
          ],
          "name": "stdout"
        }
      ]
    },
    {
      "cell_type": "code",
      "metadata": {
        "colab": {
          "base_uri": "https://localhost:8080/"
        },
        "id": "wIXymIM_lcNp",
        "outputId": "284c9c26-e937-416c-f52c-afea88c7f238"
      },
      "source": [
        "for i_batch, sample_batched in enumerate(train_loader):\n",
        "    if i_batch == 1:\n",
        "        print(sample_batched)\n",
        "        print(sample_batched['features'].shape)\n",
        "\n",
        "        # output = net3(sample_batched['features'].view(1,1,1,200,138))\n",
        "        \n",
        "        output = net3(sample_batched['features'].view(1, 30, 1, sample_batched['features'].shape[2], sample_batched['features'].shape[3]))\n",
        "        print('out', output.shape)\n",
        "        print(output)\n",
        "\n",
        "        target = sample_batched['targets']\n",
        "        print('target', target)\n",
        "        # target = target.view(1, -1)  # make it the same shape as output\n",
        "        criterion = nn.MSELoss()\n",
        "\n",
        "        loss = criterion(output, target)\n",
        "        print('loss', loss)\n",
        "        print(loss.grad_fn)  # MSELoss\n",
        "        print(loss.grad_fn.next_functions[0][0])  # Linear\n",
        "        print(loss.grad_fn.next_functions[0][0].next_functions[0][0])  # ReLU\n",
        "\n",
        "        break\n",
        "#=== The learnable parameters of a model are returned by net.parameters() ===#\n",
        "params = list(net3.parameters())\n",
        "print(len(params))\n",
        "print(params[0].size())  # conv1's .weight"
      ],
      "execution_count": 166,
      "outputs": [
        {
          "output_type": "stream",
          "text": [
            "{'features': tensor([[[[6.0698e-03, 2.0808e-03, 1.9950e-03,  ..., 1.4080e-04,\n",
            "           9.9725e-05, 6.7231e-05],\n",
            "          [5.9520e-03, 1.8902e-03, 1.8528e-03,  ..., 1.1098e-04,\n",
            "           8.1320e-05, 5.8181e-05],\n",
            "          [6.0558e-03, 2.0352e-03, 1.8846e-03,  ..., 1.1902e-04,\n",
            "           7.3410e-05, 6.6708e-05],\n",
            "          ...,\n",
            "          [5.9787e-03, 2.0364e-03, 1.9089e-03,  ..., 8.8006e-05,\n",
            "           9.3086e-05, 8.5563e-05],\n",
            "          [6.1727e-03, 2.1056e-03, 1.8712e-03,  ..., 7.3817e-05,\n",
            "           1.4912e-04, 5.7983e-05],\n",
            "          [6.0963e-03, 2.1042e-03, 1.9381e-03,  ..., 1.8581e-04,\n",
            "           1.6731e-04, 4.6043e-05]]],\n",
            "\n",
            "\n",
            "        [[[7.7812e-03, 4.3214e-03, 3.2707e-03,  ..., 5.1245e-05,\n",
            "           5.7385e-05, 4.6098e-05],\n",
            "          [7.9403e-03, 4.3608e-03, 3.1755e-03,  ..., 7.7389e-05,\n",
            "           5.4203e-05, 3.5355e-05],\n",
            "          [7.9033e-03, 4.3296e-03, 3.1080e-03,  ..., 6.4008e-05,\n",
            "           1.3242e-04, 7.5961e-05],\n",
            "          ...,\n",
            "          [7.8069e-03, 4.2600e-03, 3.1526e-03,  ..., 4.8301e-05,\n",
            "           6.4815e-05, 9.4831e-05],\n",
            "          [7.8523e-03, 4.2460e-03, 3.1485e-03,  ..., 4.3932e-05,\n",
            "           7.6485e-05, 5.6400e-05],\n",
            "          [7.8084e-03, 4.2505e-03, 3.1768e-03,  ..., 1.1102e-04,\n",
            "           7.6158e-06, 5.8796e-05]]],\n",
            "\n",
            "\n",
            "        [[[5.6001e-03, 1.6207e-03, 1.7829e-03,  ..., 6.5192e-05,\n",
            "           1.4025e-04, 1.6640e-04],\n",
            "          [5.6243e-03, 1.7367e-03, 1.9707e-03,  ..., 3.8949e-05,\n",
            "           1.4384e-04, 1.5840e-04],\n",
            "          [5.6552e-03, 1.6967e-03, 1.9099e-03,  ..., 1.0218e-04,\n",
            "           5.1264e-05, 3.9115e-05],\n",
            "          ...,\n",
            "          [5.6464e-03, 1.7373e-03, 1.9944e-03,  ..., 4.2953e-05,\n",
            "           2.3087e-05, 4.5044e-05],\n",
            "          [5.7279e-03, 1.7560e-03, 1.9357e-03,  ..., 3.0882e-04,\n",
            "           1.6822e-04, 9.4868e-05],\n",
            "          [5.6149e-03, 1.6443e-03, 1.9587e-03,  ..., 1.3086e-04,\n",
            "           2.0875e-04, 1.4734e-04]]],\n",
            "\n",
            "\n",
            "        ...,\n",
            "\n",
            "\n",
            "        [[[5.8495e-03, 1.8415e-03, 1.7780e-03,  ..., 9.5462e-05,\n",
            "           1.6636e-04, 2.0042e-04],\n",
            "          [5.8040e-03, 1.9150e-03, 1.9459e-03,  ..., 1.2355e-04,\n",
            "           5.9203e-05, 8.9872e-05],\n",
            "          [5.9025e-03, 1.9160e-03, 1.9310e-03,  ..., 4.1869e-05,\n",
            "           1.0208e-04, 5.9481e-05],\n",
            "          ...,\n",
            "          [5.9198e-03, 1.9058e-03, 1.8499e-03,  ..., 1.0942e-04,\n",
            "           8.7864e-05, 4.4272e-05],\n",
            "          [5.8633e-03, 1.8975e-03, 1.8761e-03,  ..., 1.0332e-04,\n",
            "           8.6400e-05, 3.6139e-05],\n",
            "          [5.9287e-03, 1.9440e-03, 1.9051e-03,  ..., 1.6190e-04,\n",
            "           1.2791e-04, 1.4926e-04]]],\n",
            "\n",
            "\n",
            "        [[[5.6401e-03, 1.8160e-03, 1.9249e-03,  ..., 2.0616e-05,\n",
            "           3.1780e-05, 7.6059e-05],\n",
            "          [5.8476e-03, 1.8601e-03, 1.9222e-03,  ..., 6.7476e-05,\n",
            "           3.4713e-05, 8.8295e-05],\n",
            "          [5.8695e-03, 1.8074e-03, 1.8918e-03,  ..., 1.0924e-04,\n",
            "           1.0179e-04, 9.6664e-05],\n",
            "          ...,\n",
            "          [5.7032e-03, 1.8670e-03, 2.0125e-03,  ..., 1.0469e-04,\n",
            "           1.7647e-04, 1.7710e-04],\n",
            "          [5.7398e-03, 1.8650e-03, 1.9720e-03,  ..., 6.3246e-05,\n",
            "           2.6000e-05, 6.0216e-05],\n",
            "          [5.7022e-03, 1.7772e-03, 1.9606e-03,  ..., 7.3824e-05,\n",
            "           5.9908e-05, 8.8204e-05]]],\n",
            "\n",
            "\n",
            "        [[[7.3301e-03, 3.8341e-03, 3.1720e-03,  ..., 8.8204e-05,\n",
            "           8.6145e-05, 1.4866e-05],\n",
            "          [7.3016e-03, 3.9081e-03, 3.0843e-03,  ..., 3.1064e-05,\n",
            "           2.6306e-05, 3.4540e-05],\n",
            "          [7.2217e-03, 3.8240e-03, 3.0492e-03,  ..., 5.2010e-05,\n",
            "           8.3439e-05, 1.3909e-04],\n",
            "          ...,\n",
            "          [7.3166e-03, 3.8739e-03, 3.0799e-03,  ..., 7.4330e-05,\n",
            "           9.7170e-05, 1.1360e-04],\n",
            "          [7.2819e-03, 3.7829e-03, 3.0921e-03,  ..., 6.6068e-05,\n",
            "           3.5171e-05, 7.2993e-05],\n",
            "          [7.3671e-03, 3.8499e-03, 3.1500e-03,  ..., 3.1321e-05,\n",
            "           3.7162e-05, 8.7864e-05]]]]), 'targets': tensor([[0., 0., 1.],\n",
            "        [1., 0., 0.],\n",
            "        [0., 0., 1.],\n",
            "        [0., 1., 0.],\n",
            "        [0., 1., 0.],\n",
            "        [0., 1., 0.],\n",
            "        [0., 1., 0.],\n",
            "        [1., 0., 0.],\n",
            "        [1., 0., 0.],\n",
            "        [0., 1., 0.],\n",
            "        [0., 0., 1.],\n",
            "        [1., 0., 0.],\n",
            "        [0., 0., 1.],\n",
            "        [0., 0., 1.],\n",
            "        [0., 0., 1.],\n",
            "        [1., 0., 0.],\n",
            "        [0., 0., 1.],\n",
            "        [0., 0., 1.],\n",
            "        [0., 0., 1.],\n",
            "        [0., 0., 1.],\n",
            "        [1., 0., 0.],\n",
            "        [0., 0., 1.],\n",
            "        [0., 0., 1.],\n",
            "        [0., 0., 1.],\n",
            "        [0., 0., 1.],\n",
            "        [0., 1., 0.],\n",
            "        [1., 0., 0.],\n",
            "        [0., 0., 1.],\n",
            "        [0., 0., 1.],\n",
            "        [1., 0., 0.]])}\n",
            "torch.Size([30, 1, 200, 141])\n",
            "out torch.Size([30, 3])\n",
            "tensor([[0.3154, 0.3507, 0.3340],\n",
            "        [0.3154, 0.3507, 0.3340],\n",
            "        [0.3131, 0.3499, 0.3370],\n",
            "        [0.3131, 0.3499, 0.3370],\n",
            "        [0.3131, 0.3499, 0.3370],\n",
            "        [0.3131, 0.3499, 0.3370],\n",
            "        [0.3141, 0.3501, 0.3358],\n",
            "        [0.3141, 0.3501, 0.3358],\n",
            "        [0.3131, 0.3499, 0.3370],\n",
            "        [0.3131, 0.3499, 0.3370],\n",
            "        [0.3145, 0.3503, 0.3352],\n",
            "        [0.3145, 0.3503, 0.3352],\n",
            "        [0.3131, 0.3499, 0.3370],\n",
            "        [0.3131, 0.3499, 0.3370],\n",
            "        [0.3131, 0.3499, 0.3370],\n",
            "        [0.3131, 0.3499, 0.3370],\n",
            "        [0.3131, 0.3499, 0.3370],\n",
            "        [0.3131, 0.3499, 0.3370],\n",
            "        [0.3131, 0.3499, 0.3370],\n",
            "        [0.3131, 0.3499, 0.3370],\n",
            "        [0.3131, 0.3499, 0.3370],\n",
            "        [0.3131, 0.3499, 0.3370],\n",
            "        [0.3131, 0.3499, 0.3370],\n",
            "        [0.3131, 0.3499, 0.3370],\n",
            "        [0.3141, 0.3502, 0.3357],\n",
            "        [0.3141, 0.3502, 0.3357],\n",
            "        [0.3150, 0.3505, 0.3345],\n",
            "        [0.3150, 0.3505, 0.3345],\n",
            "        [0.3152, 0.3506, 0.3342],\n",
            "        [0.3152, 0.3506, 0.3342]], grad_fn=<SoftmaxBackward>)\n",
            "target tensor([[0., 0., 1.],\n",
            "        [1., 0., 0.],\n",
            "        [0., 0., 1.],\n",
            "        [0., 1., 0.],\n",
            "        [0., 1., 0.],\n",
            "        [0., 1., 0.],\n",
            "        [0., 1., 0.],\n",
            "        [1., 0., 0.],\n",
            "        [1., 0., 0.],\n",
            "        [0., 1., 0.],\n",
            "        [0., 0., 1.],\n",
            "        [1., 0., 0.],\n",
            "        [0., 0., 1.],\n",
            "        [0., 0., 1.],\n",
            "        [0., 0., 1.],\n",
            "        [1., 0., 0.],\n",
            "        [0., 0., 1.],\n",
            "        [0., 0., 1.],\n",
            "        [0., 0., 1.],\n",
            "        [0., 0., 1.],\n",
            "        [1., 0., 0.],\n",
            "        [0., 0., 1.],\n",
            "        [0., 0., 1.],\n",
            "        [0., 0., 1.],\n",
            "        [0., 0., 1.],\n",
            "        [0., 1., 0.],\n",
            "        [1., 0., 0.],\n",
            "        [0., 0., 1.],\n",
            "        [0., 0., 1.],\n",
            "        [1., 0., 0.]])\n",
            "loss tensor(0.2226, grad_fn=<MseLossBackward>)\n",
            "<MseLossBackward object at 0x7f5f565aa810>\n",
            "<SoftmaxBackward object at 0x7f5f565aa810>\n",
            "<AddmmBackward object at 0x7f5f565aa810>\n",
            "8\n",
            "torch.Size([7, 30, 1, 5, 5])\n"
          ],
          "name": "stdout"
        }
      ]
    },
    {
      "cell_type": "code",
      "metadata": {
        "colab": {
          "base_uri": "https://localhost:8080/"
        },
        "id": "Uh3FpKrNm8BP",
        "outputId": "3f674f48-c2de-4700-d1c6-9c482a0263d6"
      },
      "source": [
        "import torch.optim as optim\n",
        "\n",
        "criterion = nn.MSELoss()\n",
        "optimizer = optim.SGD(net3.parameters(), lr=0.001, momentum=0.5)\n",
        "\n",
        "for epoch in range(5):\n",
        "    # running_loss = 0.0\n",
        "    epoch_loss = 0.0\n",
        "    epoch_count = 0 \n",
        "    correct = 0\n",
        "    total = 0\n",
        "\n",
        "    net3.train()\n",
        "    for i, data in enumerate(train_loader):\n",
        "        inputs = data['features'].view(1, 30, 1, data['features'].shape[2], data['features'].shape[3])\n",
        "        labels = data['targets']\n",
        "\n",
        "        optimizer.zero_grad() # zero the gradient buffers\n",
        "\n",
        "        # forward + backward + optimize\n",
        "        outputs = net3(inputs)\n",
        "        # print(outputs.shape)\n",
        "        # print(labels.shape)\n",
        "        loss = criterion(outputs, labels)\n",
        "        loss.backward()\n",
        "        optimizer.step() # Does the update\n",
        "\n",
        "    net3.eval()\n",
        "    for i, data in enumerate(validation_loader):\n",
        "        inputs = data['features'].view(1, 30, 1, data['features'].shape[2], data['features'].shape[3])\n",
        "        labels = data['targets']\n",
        "        \n",
        "        optimizer.zero_grad() # zero the gradient buffers\n",
        "\n",
        "        # forward + backward + optimize\n",
        "        outputs = net3(inputs)\n",
        "        # print(outputs.shape)\n",
        "        # print(labels.shape)\n",
        "        loss = criterion(outputs, labels)\n",
        "\n",
        "        epoch_loss += loss.item()\n",
        "        _, label = torch.max(labels, 1)\n",
        "        _, predicted = torch.max(outputs, 1)\n",
        "        comparison_tensor = torch.eq(label, predicted).long()\n",
        "        correct += torch.count_nonzero(comparison_tensor)\n",
        "        total += comparison_tensor.shape[0]\n",
        "    print('epoch: {} Loss: {:.3f} Accu: {:.5f}'.format(epoch+1, epoch_loss, correct.item()/total))\n",
        "print('Finished Training')"
      ],
      "execution_count": 171,
      "outputs": [
        {
          "output_type": "stream",
          "text": [
            "epoch: 1 Loss: 0.447 Accu: 0.26667\n",
            "epoch: 2 Loss: 0.447 Accu: 0.26667\n",
            "epoch: 3 Loss: 0.447 Accu: 0.26667\n",
            "epoch: 4 Loss: 0.447 Accu: 0.26667\n",
            "epoch: 5 Loss: 0.447 Accu: 0.26667\n",
            "Finished Training\n"
          ],
          "name": "stdout"
        }
      ]
    },
    {
      "cell_type": "code",
      "metadata": {
        "id": "7p33rS_srUYm"
      },
      "source": [
        "torch.save(net3.state_dict(), '/content/gdrive/My Drive/Fyp/FYP-RPI-RF-Sensing/dataset/net3.pth')"
      ],
      "execution_count": 172,
      "outputs": []
    },
    {
      "cell_type": "code",
      "metadata": {
        "colab": {
          "base_uri": "https://localhost:8080/"
        },
        "id": "JP4CTthRtQH3",
        "outputId": "dffbfaf7-cc20-4939-b88d-cd8b51dda6de"
      },
      "source": [
        "for i_batch, sample_batched in enumerate(validation_loader):\n",
        "    net3 = Net3()\n",
        "    net3.load_state_dict(torch.load('/content/gdrive/My Drive/Fyp/FYP-RPI-RF-Sensing/dataset/net3.pth'))\n",
        "    \n",
        "    # if i_batch == 1:\n",
        "        # print(sample_batched)\n",
        "    _, actual = torch.max(sample_batched['targets'], 1)\n",
        "    print('actual', actual)\n",
        "\n",
        "    outputs = net3(sample_batched['features'].view(1,30,1,200,141))\n",
        "    # print('outputs', outputs)\n",
        "    _, predicted = torch.max(outputs, 1)\n",
        "    print('predicted', predicted)"
      ],
      "execution_count": 176,
      "outputs": [
        {
          "output_type": "stream",
          "text": [
            "actual tensor([2, 2, 1, 1, 1, 1, 0, 0, 0, 0, 0, 0, 1, 2, 2, 2, 0, 2, 1, 0, 0, 2, 1, 1,\n",
            "        0, 1, 0, 0, 0, 0])\n",
            "predicted tensor([1, 1, 1, 1, 1, 1, 1, 1, 1, 1, 1, 1, 1, 1, 1, 1, 1, 1, 1, 1, 1, 1, 1, 1,\n",
            "        1, 1, 1, 1, 1, 1])\n",
            "actual tensor([2, 1, 2, 0, 2, 0, 2, 1, 1, 2, 1, 0, 1, 0, 0, 2, 2, 0, 2, 2, 0, 2, 0, 2,\n",
            "        1, 2, 2, 2, 2, 1])\n",
            "predicted tensor([1, 1, 1, 1, 1, 1, 1, 1, 1, 1, 1, 1, 1, 1, 1, 1, 1, 1, 1, 1, 1, 1, 1, 1,\n",
            "        1, 1, 1, 1, 1, 1])\n"
          ],
          "name": "stdout"
        }
      ]
    },
    {
      "cell_type": "markdown",
      "metadata": {
        "id": "LfLJ7sguulC9"
      },
      "source": [
        "# Conclusions"
      ]
    },
    {
      "cell_type": "markdown",
      "metadata": {
        "id": "50OHNHPdupdY"
      },
      "source": [
        "Both 2d and 3d models seem to be skewed towards a particular gesture. "
      ]
    },
    {
      "cell_type": "code",
      "metadata": {
        "id": "fW1zbPnhungZ"
      },
      "source": [
        ""
      ],
      "execution_count": null,
      "outputs": []
    }
  ]
}