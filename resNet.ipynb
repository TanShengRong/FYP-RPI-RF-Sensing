{
  "nbformat": 4,
  "nbformat_minor": 0,
  "metadata": {
    "language_info": {
      "codemirror_mode": {
        "name": "ipython",
        "version": 3
      },
      "file_extension": ".py",
      "mimetype": "text/x-python",
      "name": "python",
      "nbconvert_exporter": "python",
      "pygments_lexer": "ipython3",
      "version": "3.7.3-final"
    },
    "orig_nbformat": 2,
    "kernelspec": {
      "name": "Python 3.7.3 32-bit",
      "display_name": "Python 3.7.3 32-bit",
      "metadata": {
        "interpreter": {
          "hash": "31f2aee4e71d21fbe5cf8b01ff0e069b9275f58929596ceb00d14d90e3e16cd6"
        }
      }
    },
    "colab": {
      "name": "resNet.ipynb",
      "provenance": [],
      "collapsed_sections": [],
      "toc_visible": true
    },
    "widgets": {
      "application/vnd.jupyter.widget-state+json": {
        "92de0ff00e8840378237da038a05f814": {
          "model_module": "@jupyter-widgets/controls",
          "model_name": "HBoxModel",
          "state": {
            "_view_name": "HBoxView",
            "_dom_classes": [],
            "_model_name": "HBoxModel",
            "_view_module": "@jupyter-widgets/controls",
            "_model_module_version": "1.5.0",
            "_view_count": null,
            "_view_module_version": "1.5.0",
            "box_style": "",
            "layout": "IPY_MODEL_1027db2df5254fae8516034565e3ee4e",
            "_model_module": "@jupyter-widgets/controls",
            "children": [
              "IPY_MODEL_59b5e8506d3c423f9276b16da65885f8",
              "IPY_MODEL_5db8f00f8aeb48d9ab4b068ae1c142c6"
            ]
          }
        },
        "1027db2df5254fae8516034565e3ee4e": {
          "model_module": "@jupyter-widgets/base",
          "model_name": "LayoutModel",
          "state": {
            "_view_name": "LayoutView",
            "grid_template_rows": null,
            "right": null,
            "justify_content": null,
            "_view_module": "@jupyter-widgets/base",
            "overflow": null,
            "_model_module_version": "1.2.0",
            "_view_count": null,
            "flex_flow": null,
            "width": null,
            "min_width": null,
            "border": null,
            "align_items": null,
            "bottom": null,
            "_model_module": "@jupyter-widgets/base",
            "top": null,
            "grid_column": null,
            "overflow_y": null,
            "overflow_x": null,
            "grid_auto_flow": null,
            "grid_area": null,
            "grid_template_columns": null,
            "flex": null,
            "_model_name": "LayoutModel",
            "justify_items": null,
            "grid_row": null,
            "max_height": null,
            "align_content": null,
            "visibility": null,
            "align_self": null,
            "height": null,
            "min_height": null,
            "padding": null,
            "grid_auto_rows": null,
            "grid_gap": null,
            "max_width": null,
            "order": null,
            "_view_module_version": "1.2.0",
            "grid_template_areas": null,
            "object_position": null,
            "object_fit": null,
            "grid_auto_columns": null,
            "margin": null,
            "display": null,
            "left": null
          }
        },
        "59b5e8506d3c423f9276b16da65885f8": {
          "model_module": "@jupyter-widgets/controls",
          "model_name": "FloatProgressModel",
          "state": {
            "_view_name": "ProgressView",
            "style": "IPY_MODEL_44a0983fd8e442809341089be14973bf",
            "_dom_classes": [],
            "description": "100%",
            "_model_name": "FloatProgressModel",
            "bar_style": "success",
            "max": 102502400,
            "_view_module": "@jupyter-widgets/controls",
            "_model_module_version": "1.5.0",
            "value": 102502400,
            "_view_count": null,
            "_view_module_version": "1.5.0",
            "orientation": "horizontal",
            "min": 0,
            "description_tooltip": null,
            "_model_module": "@jupyter-widgets/controls",
            "layout": "IPY_MODEL_16323c45c745434e9304f8b40c16e8cd"
          }
        },
        "5db8f00f8aeb48d9ab4b068ae1c142c6": {
          "model_module": "@jupyter-widgets/controls",
          "model_name": "HTMLModel",
          "state": {
            "_view_name": "HTMLView",
            "style": "IPY_MODEL_722e0ae866db493dbd964ae910b5b78a",
            "_dom_classes": [],
            "description": "",
            "_model_name": "HTMLModel",
            "placeholder": "​",
            "_view_module": "@jupyter-widgets/controls",
            "_model_module_version": "1.5.0",
            "value": " 97.8M/97.8M [00:00&lt;00:00, 118MB/s]",
            "_view_count": null,
            "_view_module_version": "1.5.0",
            "description_tooltip": null,
            "_model_module": "@jupyter-widgets/controls",
            "layout": "IPY_MODEL_b5ca5f83a41347e3ab339846986e3b96"
          }
        },
        "44a0983fd8e442809341089be14973bf": {
          "model_module": "@jupyter-widgets/controls",
          "model_name": "ProgressStyleModel",
          "state": {
            "_view_name": "StyleView",
            "_model_name": "ProgressStyleModel",
            "description_width": "initial",
            "_view_module": "@jupyter-widgets/base",
            "_model_module_version": "1.5.0",
            "_view_count": null,
            "_view_module_version": "1.2.0",
            "bar_color": null,
            "_model_module": "@jupyter-widgets/controls"
          }
        },
        "16323c45c745434e9304f8b40c16e8cd": {
          "model_module": "@jupyter-widgets/base",
          "model_name": "LayoutModel",
          "state": {
            "_view_name": "LayoutView",
            "grid_template_rows": null,
            "right": null,
            "justify_content": null,
            "_view_module": "@jupyter-widgets/base",
            "overflow": null,
            "_model_module_version": "1.2.0",
            "_view_count": null,
            "flex_flow": null,
            "width": null,
            "min_width": null,
            "border": null,
            "align_items": null,
            "bottom": null,
            "_model_module": "@jupyter-widgets/base",
            "top": null,
            "grid_column": null,
            "overflow_y": null,
            "overflow_x": null,
            "grid_auto_flow": null,
            "grid_area": null,
            "grid_template_columns": null,
            "flex": null,
            "_model_name": "LayoutModel",
            "justify_items": null,
            "grid_row": null,
            "max_height": null,
            "align_content": null,
            "visibility": null,
            "align_self": null,
            "height": null,
            "min_height": null,
            "padding": null,
            "grid_auto_rows": null,
            "grid_gap": null,
            "max_width": null,
            "order": null,
            "_view_module_version": "1.2.0",
            "grid_template_areas": null,
            "object_position": null,
            "object_fit": null,
            "grid_auto_columns": null,
            "margin": null,
            "display": null,
            "left": null
          }
        },
        "722e0ae866db493dbd964ae910b5b78a": {
          "model_module": "@jupyter-widgets/controls",
          "model_name": "DescriptionStyleModel",
          "state": {
            "_view_name": "StyleView",
            "_model_name": "DescriptionStyleModel",
            "description_width": "",
            "_view_module": "@jupyter-widgets/base",
            "_model_module_version": "1.5.0",
            "_view_count": null,
            "_view_module_version": "1.2.0",
            "_model_module": "@jupyter-widgets/controls"
          }
        },
        "b5ca5f83a41347e3ab339846986e3b96": {
          "model_module": "@jupyter-widgets/base",
          "model_name": "LayoutModel",
          "state": {
            "_view_name": "LayoutView",
            "grid_template_rows": null,
            "right": null,
            "justify_content": null,
            "_view_module": "@jupyter-widgets/base",
            "overflow": null,
            "_model_module_version": "1.2.0",
            "_view_count": null,
            "flex_flow": null,
            "width": null,
            "min_width": null,
            "border": null,
            "align_items": null,
            "bottom": null,
            "_model_module": "@jupyter-widgets/base",
            "top": null,
            "grid_column": null,
            "overflow_y": null,
            "overflow_x": null,
            "grid_auto_flow": null,
            "grid_area": null,
            "grid_template_columns": null,
            "flex": null,
            "_model_name": "LayoutModel",
            "justify_items": null,
            "grid_row": null,
            "max_height": null,
            "align_content": null,
            "visibility": null,
            "align_self": null,
            "height": null,
            "min_height": null,
            "padding": null,
            "grid_auto_rows": null,
            "grid_gap": null,
            "max_width": null,
            "order": null,
            "_view_module_version": "1.2.0",
            "grid_template_areas": null,
            "object_position": null,
            "object_fit": null,
            "grid_auto_columns": null,
            "margin": null,
            "display": null,
            "left": null
          }
        }
      }
    }
  },
  "cells": [
    {
      "cell_type": "markdown",
      "metadata": {
        "id": "pQRl369Kxgts"
      },
      "source": [
        "# Environment set-up"
      ]
    },
    {
      "cell_type": "code",
      "metadata": {
        "colab": {
          "base_uri": "https://localhost:8080/"
        },
        "id": "m4z0AYMcxo6G",
        "outputId": "9a63d0f5-f68a-469a-ab75-c4d979c94f4e"
      },
      "source": [
        "from google.colab import drive\n",
        "drive.mount('/content/gdrive')"
      ],
      "execution_count": 1,
      "outputs": [
        {
          "output_type": "stream",
          "text": [
            "Mounted at /content/gdrive\n"
          ],
          "name": "stdout"
        }
      ]
    },
    {
      "cell_type": "code",
      "metadata": {
        "id": "YTPLRlbSynbN",
        "colab": {
          "base_uri": "https://localhost:8080/"
        },
        "outputId": "ed732094-e65d-4ad3-8344-90502ae252b7"
      },
      "source": [
        "import pathlib\n",
        "path = pathlib.Path('/content/gdrive/MyDrive/Fyp')\n",
        "try:\n",
        "    path.mkdir()\n",
        "    %cd '/content/gdrive/MyDrive/Fyp'\n",
        "    ! git clone https://github.com/TanShengRong/FYP-RPI-RF-Sensing\n",
        "    %cd './FYP-RPI-RF-Sensing/dataset/'\n",
        "    print('Project folder created in your GoogleDrive')\n",
        "except FileExistsError:\n",
        "    %cd '/content/gdrive/MyDrive/Fyp/FYP-RPI-RF-Sensing/'\n",
        "    ! git pull\n",
        "    %cd './dataset_v2/'"
      ],
      "execution_count": 2,
      "outputs": [
        {
          "output_type": "stream",
          "text": [
            "/content/gdrive/MyDrive/Fyp/FYP-RPI-RF-Sensing\n",
            "Already up to date.\n",
            "/content/gdrive/MyDrive/Fyp/FYP-RPI-RF-Sensing/dataset_v2\n"
          ],
          "name": "stdout"
        }
      ]
    },
    {
      "cell_type": "code",
      "metadata": {
        "id": "QLYSiz7sx9AU",
        "colab": {
          "base_uri": "https://localhost:8080/",
          "height": 37
        },
        "outputId": "0e1ef3a5-a6d2-401f-c518-a2a69f36c4c7"
      },
      "source": [
        "pwd"
      ],
      "execution_count": 3,
      "outputs": [
        {
          "output_type": "execute_result",
          "data": {
            "application/vnd.google.colaboratory.intrinsic+json": {
              "type": "string"
            },
            "text/plain": [
              "'/content/gdrive/MyDrive/Fyp/FYP-RPI-RF-Sensing/dataset_v2'"
            ]
          },
          "metadata": {
            "tags": []
          },
          "execution_count": 3
        }
      ]
    },
    {
      "cell_type": "code",
      "metadata": {
        "id": "hNhrYjZl1aVQ",
        "colab": {
          "base_uri": "https://localhost:8080/"
        },
        "outputId": "1370019e-95e1-46ac-9344-6170c9801a02"
      },
      "source": [
        "ls"
      ],
      "execution_count": 4,
      "outputs": [
        {
          "output_type": "stream",
          "text": [
            "\u001b[0m\u001b[01;34mgestureA\u001b[0m/  \u001b[01;34mgestureC\u001b[0m/  \u001b[01;34mgestureE\u001b[0m/\n"
          ],
          "name": "stdout"
        }
      ]
    },
    {
      "cell_type": "markdown",
      "metadata": {
        "id": "87Bzx4TmlRsC"
      },
      "source": [
        "# Deep Learning"
      ]
    },
    {
      "cell_type": "code",
      "metadata": {
        "id": "qg8gDwFJ74uW"
      },
      "source": [
        "import pandas as pd\n",
        "import numpy as np\n",
        "import torch\n",
        "import glob\n",
        "from sklearn.model_selection import train_test_split\n",
        "import torch.nn as nn\n",
        "import torch.nn.functional as F\n",
        "import torch.optim as optim\n",
        "from torch.utils.data import Dataset, DataLoader\n",
        "import pdb\n",
        "import os\n",
        "import torchvision\n",
        "import time"
      ],
      "execution_count": 5,
      "outputs": []
    },
    {
      "cell_type": "markdown",
      "metadata": {
        "id": "nr5DVMSEuTpb"
      },
      "source": [
        "## Dataloading"
      ]
    },
    {
      "cell_type": "code",
      "metadata": {
        "id": "kHdLYNKMlcnb"
      },
      "source": [
        "#=== Params ===#\n",
        "DATASET_DIR = '/content/gdrive/MyDrive/Fyp/FYP-RPI-RF-Sensing/dataset_v2/'\n",
        "GESTURE_DEGREE = \"degree0\"\n",
        "DATA_ROW_LOWER_LIMIT = 0\n",
        "DATA_ROW_UPPER_LIMIT = 460 #540 # 12s -> 600 (3 transitions)\n",
        "BATCH_SIZE = 30\n",
        "NUM_WORKERS = 0 # 2; 0 is default\n",
        "SHUFFLE = True\n",
        "# cols = [i for i in range(138)]\n",
        "cols = [i for i in range(141)]\n",
        "VALIDATION_SPLIT = .2\n",
        "RANDOM_SEED = 42"
      ],
      "execution_count": 7,
      "outputs": []
    },
    {
      "cell_type": "code",
      "metadata": {
        "colab": {
          "base_uri": "https://localhost:8080/"
        },
        "id": "uTldK_u37-3z",
        "outputId": "873b7f96-50d2-4eb9-a8c9-39760df860a6"
      },
      "source": [
        "torch.cuda.empty_cache()\n",
        "torch.manual_seed(RANDOM_SEED)"
      ],
      "execution_count": 8,
      "outputs": [
        {
          "output_type": "execute_result",
          "data": {
            "text/plain": [
              "<torch._C.Generator at 0x7efde2ff7b70>"
            ]
          },
          "metadata": {
            "tags": []
          },
          "execution_count": 8
        }
      ]
    },
    {
      "cell_type": "code",
      "metadata": {
        "id": "BrO7S1fJ84X7"
      },
      "source": [
        "#=== Dataloading ===#\n",
        "import os\n",
        "from torch.utils.data import Dataset\n",
        "import numpy as np\n",
        "from torch.utils.data import DataLoader\n",
        "\n",
        "\n",
        "class GestureDataset(Dataset):\n",
        "    def __init__(self, root_dir, transform=None):\n",
        "        \"\"\"\n",
        "        Args:\n",
        "            csv_file (string): Path to the csv file with annotations.\n",
        "            root_dir (string): Directory with all the images.\n",
        "            transform (callable, optional): Optional transform to be applied\n",
        "                on a sample.\n",
        "        \"\"\"\n",
        "        self.root_dir = root_dir\n",
        "        # self.root_dir = '/content/gdrive/MyDrive/Fyp/FYP-RPI-RF-Sensing/dataset/'\n",
        "        self.gesture_list = self.getGestureList()\n",
        "        self.gesturePerFolder = 100 # change this if increasing no. of sample per gesture per degree\n",
        "        self.gestureDegree = GESTURE_DEGREE\n",
        "        self.transform = transform\n",
        "    \n",
        "    def __len__(self):\n",
        "        return len(self.gesture_list) * self.gesturePerFolder\n",
        "        \n",
        "    def __getitem__(self, idx):\n",
        "        item_gesture_type_idx = idx // self.gesturePerFolder\n",
        "        item_gesture_type = self.gesture_list[item_gesture_type_idx],\n",
        "        item_idx = idx % self.gesturePerFolder\n",
        "        # print(item_gesture_type_idx, item_gesture_type[0], item_idx)\n",
        "        item_gesture_path = os.path.join(\n",
        "            self.root_dir,   \n",
        "            item_gesture_type[0],\n",
        "            self.gestureDegree,\n",
        "            str(item_idx+1) + \".csv\"\n",
        "            )\n",
        "        item_gesture_df = pd.read_csv(item_gesture_path, header=0) \n",
        "        # real = item_gesture_df.iloc[ DATA_ROW_LOWER_LIMIT:DATA_ROW_UPPER_LIMIT, :138 ]\n",
        "        real = item_gesture_df.iloc[ DATA_ROW_LOWER_LIMIT:DATA_ROW_UPPER_LIMIT, :141 ]\n",
        "        real.columns = cols\n",
        "        # imag = item_gesture_df.iloc[ DATA_ROW_LOWER_LIMIT:DATA_ROW_UPPER_LIMIT, 138:277-1 ] * 1j\n",
        "        imag = item_gesture_df.iloc[ DATA_ROW_LOWER_LIMIT:DATA_ROW_UPPER_LIMIT, 141:282 ] * 1j\n",
        "        imag.columns = cols\n",
        "        comp = abs(real.add(imag, fill_value=(0)))\n",
        "        \n",
        "        features = comp.values\n",
        "        features = torch.FloatTensor(features)\n",
        "        features = features.view(1, DATA_ROW_UPPER_LIMIT-DATA_ROW_LOWER_LIMIT, item_gesture_df.shape[1]//2)\n",
        "        \n",
        "        targets = np.zeros(len(self.gesture_list))\n",
        "        targets[item_gesture_type_idx] = 1\n",
        "        targets = torch.FloatTensor(targets)\n",
        "\n",
        "        return features, targets\n",
        "        \n",
        "    def getGestureList(self):\n",
        "        gestureList = []\n",
        "        for _, dirnames, filenames in os.walk(self.root_dir):\n",
        "            if any(\"gesture\" in dirname for dirname in dirnames):\n",
        "                gestureList += dirnames\n",
        "        print(gestureList)\n",
        "        return gestureList"
      ],
      "execution_count": 9,
      "outputs": []
    },
    {
      "cell_type": "code",
      "metadata": {
        "colab": {
          "base_uri": "https://localhost:8080/"
        },
        "id": "z_yVrYNS_E2l",
        "outputId": "4da6959b-62e6-43a6-cf86-b4b0786fec9d"
      },
      "source": [
        "from torch.utils.data.sampler import SubsetRandomSampler\n",
        "\n",
        "#=== stratified sampling ===#\n",
        "dataset = GestureDataset(DATASET_DIR)\n",
        "dataset_size = len(dataset)\n",
        "no_of_gesture = len(dataset.gesture_list)\n",
        "\n",
        "indicesA = list(range(0, dataset_size//3))\n",
        "indicesC = list(range(dataset_size//3, dataset_size//3*2))\n",
        "indicesE = list(range(dataset_size//3*2, dataset_size))\n",
        "\n",
        "split = int(np.floor(VALIDATION_SPLIT * dataset_size//3))\n",
        "print(split)\n",
        "if SHUFFLE :\n",
        "    np.random.seed(RANDOM_SEED)\n",
        "    np.random.shuffle(indicesA)\n",
        "    np.random.shuffle(indicesC)\n",
        "    np.random.shuffle(indicesE)\n",
        "train_indicesA, val_indicesA = indicesA[split:], indicesA[:split]\n",
        "train_indicesC, val_indicesC = indicesC[split:], indicesC[:split]\n",
        "train_indicesE, val_indicesE = indicesE[split:], indicesE[:split]\n",
        "\n",
        "train_indices = train_indicesA + train_indicesC + train_indicesE\n",
        "val_indices = val_indicesA + val_indicesC + val_indicesE\n",
        "\n",
        "# Creating PT data samplers and loaders:\n",
        "train_sampler = SubsetRandomSampler(train_indices)\n",
        "valid_sampler = SubsetRandomSampler(val_indices)\n",
        "\n",
        "train_loader = DataLoader(dataset, batch_size=BATCH_SIZE, \n",
        "                          sampler=train_sampler)\n",
        "validation_loader = DataLoader(dataset, batch_size=BATCH_SIZE,\n",
        "                               sampler=valid_sampler)"
      ],
      "execution_count": 10,
      "outputs": [
        {
          "output_type": "stream",
          "text": [
            "['gestureA', 'gestureC', 'gestureE']\n",
            "20\n"
          ],
          "name": "stdout"
        }
      ]
    },
    {
      "cell_type": "code",
      "metadata": {
        "colab": {
          "base_uri": "https://localhost:8080/"
        },
        "id": "woUoc5cs9E2N",
        "outputId": "dd3e11c2-c5ab-42ef-937a-6711e9a54a18"
      },
      "source": [
        "for i in enumerate(train_loader):\n",
        "    print(i[0], i[1][0].shape)\n",
        "for i in enumerate(validation_loader):\n",
        "    print(i[0], i[1][0].shape)"
      ],
      "execution_count": 11,
      "outputs": [
        {
          "output_type": "stream",
          "text": [
            "0 torch.Size([30, 1, 460, 141])\n",
            "1 torch.Size([30, 1, 460, 141])\n",
            "2 torch.Size([30, 1, 460, 141])\n",
            "3 torch.Size([30, 1, 460, 141])\n",
            "4 torch.Size([30, 1, 460, 141])\n",
            "5 torch.Size([30, 1, 460, 141])\n",
            "6 torch.Size([30, 1, 460, 141])\n",
            "7 torch.Size([30, 1, 460, 141])\n",
            "0 torch.Size([30, 1, 460, 141])\n",
            "1 torch.Size([30, 1, 460, 141])\n"
          ],
          "name": "stdout"
        }
      ]
    },
    {
      "cell_type": "markdown",
      "metadata": {
        "id": "WJ5cgAdGdD4E"
      },
      "source": [
        "# ResNet\n"
      ]
    },
    {
      "cell_type": "code",
      "metadata": {
        "colab": {
          "base_uri": "https://localhost:8080/",
          "height": 1000,
          "referenced_widgets": [
            "92de0ff00e8840378237da038a05f814",
            "1027db2df5254fae8516034565e3ee4e",
            "59b5e8506d3c423f9276b16da65885f8",
            "5db8f00f8aeb48d9ab4b068ae1c142c6",
            "44a0983fd8e442809341089be14973bf",
            "16323c45c745434e9304f8b40c16e8cd",
            "722e0ae866db493dbd964ae910b5b78a",
            "b5ca5f83a41347e3ab339846986e3b96"
          ]
        },
        "id": "ZE50KvuwdJIR",
        "outputId": "919b4fe5-4c6b-4011-a3f3-eee90fc140e0"
      },
      "source": [
        "import torch\n",
        "# model = torch.hub.load('pytorch/vision:v0.9.0', 'resnet18', pretrained=True)\n",
        "# or any of these variants\n",
        "# model = torch.hub.load('pytorch/vision:v0.9.0', 'resnet34', pretrained=True)\n",
        "model = torch.hub.load('pytorch/vision:v0.9.0', 'resnet50', pretrained=True)\n",
        "# model = torch.hub.load('pytorch/vision:v0.9.0', 'resnet101', pretrained=True)\n",
        "# model = torch.hub.load('pytorch/vision:v0.9.0', 'resnet152', pretrained=True)\n",
        "model.fc = nn.Sequential(\n",
        "    nn.Dropout(0.8),\n",
        "    nn.Linear(2048, 3)\n",
        ")\n",
        "model.eval()\n"
      ],
      "execution_count": 12,
      "outputs": [
        {
          "output_type": "stream",
          "text": [
            "Downloading: \"https://github.com/pytorch/vision/archive/v0.9.0.zip\" to /root/.cache/torch/hub/v0.9.0.zip\n",
            "Downloading: \"https://download.pytorch.org/models/resnet50-19c8e357.pth\" to /root/.cache/torch/hub/checkpoints/resnet50-19c8e357.pth\n"
          ],
          "name": "stderr"
        },
        {
          "output_type": "display_data",
          "data": {
            "application/vnd.jupyter.widget-view+json": {
              "model_id": "92de0ff00e8840378237da038a05f814",
              "version_minor": 0,
              "version_major": 2
            },
            "text/plain": [
              "HBox(children=(FloatProgress(value=0.0, max=102502400.0), HTML(value='')))"
            ]
          },
          "metadata": {
            "tags": []
          }
        },
        {
          "output_type": "stream",
          "text": [
            "\n"
          ],
          "name": "stdout"
        },
        {
          "output_type": "execute_result",
          "data": {
            "text/plain": [
              "ResNet(\n",
              "  (conv1): Conv2d(3, 64, kernel_size=(7, 7), stride=(2, 2), padding=(3, 3), bias=False)\n",
              "  (bn1): BatchNorm2d(64, eps=1e-05, momentum=0.1, affine=True, track_running_stats=True)\n",
              "  (relu): ReLU(inplace=True)\n",
              "  (maxpool): MaxPool2d(kernel_size=3, stride=2, padding=1, dilation=1, ceil_mode=False)\n",
              "  (layer1): Sequential(\n",
              "    (0): Bottleneck(\n",
              "      (conv1): Conv2d(64, 64, kernel_size=(1, 1), stride=(1, 1), bias=False)\n",
              "      (bn1): BatchNorm2d(64, eps=1e-05, momentum=0.1, affine=True, track_running_stats=True)\n",
              "      (conv2): Conv2d(64, 64, kernel_size=(3, 3), stride=(1, 1), padding=(1, 1), bias=False)\n",
              "      (bn2): BatchNorm2d(64, eps=1e-05, momentum=0.1, affine=True, track_running_stats=True)\n",
              "      (conv3): Conv2d(64, 256, kernel_size=(1, 1), stride=(1, 1), bias=False)\n",
              "      (bn3): BatchNorm2d(256, eps=1e-05, momentum=0.1, affine=True, track_running_stats=True)\n",
              "      (relu): ReLU(inplace=True)\n",
              "      (downsample): Sequential(\n",
              "        (0): Conv2d(64, 256, kernel_size=(1, 1), stride=(1, 1), bias=False)\n",
              "        (1): BatchNorm2d(256, eps=1e-05, momentum=0.1, affine=True, track_running_stats=True)\n",
              "      )\n",
              "    )\n",
              "    (1): Bottleneck(\n",
              "      (conv1): Conv2d(256, 64, kernel_size=(1, 1), stride=(1, 1), bias=False)\n",
              "      (bn1): BatchNorm2d(64, eps=1e-05, momentum=0.1, affine=True, track_running_stats=True)\n",
              "      (conv2): Conv2d(64, 64, kernel_size=(3, 3), stride=(1, 1), padding=(1, 1), bias=False)\n",
              "      (bn2): BatchNorm2d(64, eps=1e-05, momentum=0.1, affine=True, track_running_stats=True)\n",
              "      (conv3): Conv2d(64, 256, kernel_size=(1, 1), stride=(1, 1), bias=False)\n",
              "      (bn3): BatchNorm2d(256, eps=1e-05, momentum=0.1, affine=True, track_running_stats=True)\n",
              "      (relu): ReLU(inplace=True)\n",
              "    )\n",
              "    (2): Bottleneck(\n",
              "      (conv1): Conv2d(256, 64, kernel_size=(1, 1), stride=(1, 1), bias=False)\n",
              "      (bn1): BatchNorm2d(64, eps=1e-05, momentum=0.1, affine=True, track_running_stats=True)\n",
              "      (conv2): Conv2d(64, 64, kernel_size=(3, 3), stride=(1, 1), padding=(1, 1), bias=False)\n",
              "      (bn2): BatchNorm2d(64, eps=1e-05, momentum=0.1, affine=True, track_running_stats=True)\n",
              "      (conv3): Conv2d(64, 256, kernel_size=(1, 1), stride=(1, 1), bias=False)\n",
              "      (bn3): BatchNorm2d(256, eps=1e-05, momentum=0.1, affine=True, track_running_stats=True)\n",
              "      (relu): ReLU(inplace=True)\n",
              "    )\n",
              "  )\n",
              "  (layer2): Sequential(\n",
              "    (0): Bottleneck(\n",
              "      (conv1): Conv2d(256, 128, kernel_size=(1, 1), stride=(1, 1), bias=False)\n",
              "      (bn1): BatchNorm2d(128, eps=1e-05, momentum=0.1, affine=True, track_running_stats=True)\n",
              "      (conv2): Conv2d(128, 128, kernel_size=(3, 3), stride=(2, 2), padding=(1, 1), bias=False)\n",
              "      (bn2): BatchNorm2d(128, eps=1e-05, momentum=0.1, affine=True, track_running_stats=True)\n",
              "      (conv3): Conv2d(128, 512, kernel_size=(1, 1), stride=(1, 1), bias=False)\n",
              "      (bn3): BatchNorm2d(512, eps=1e-05, momentum=0.1, affine=True, track_running_stats=True)\n",
              "      (relu): ReLU(inplace=True)\n",
              "      (downsample): Sequential(\n",
              "        (0): Conv2d(256, 512, kernel_size=(1, 1), stride=(2, 2), bias=False)\n",
              "        (1): BatchNorm2d(512, eps=1e-05, momentum=0.1, affine=True, track_running_stats=True)\n",
              "      )\n",
              "    )\n",
              "    (1): Bottleneck(\n",
              "      (conv1): Conv2d(512, 128, kernel_size=(1, 1), stride=(1, 1), bias=False)\n",
              "      (bn1): BatchNorm2d(128, eps=1e-05, momentum=0.1, affine=True, track_running_stats=True)\n",
              "      (conv2): Conv2d(128, 128, kernel_size=(3, 3), stride=(1, 1), padding=(1, 1), bias=False)\n",
              "      (bn2): BatchNorm2d(128, eps=1e-05, momentum=0.1, affine=True, track_running_stats=True)\n",
              "      (conv3): Conv2d(128, 512, kernel_size=(1, 1), stride=(1, 1), bias=False)\n",
              "      (bn3): BatchNorm2d(512, eps=1e-05, momentum=0.1, affine=True, track_running_stats=True)\n",
              "      (relu): ReLU(inplace=True)\n",
              "    )\n",
              "    (2): Bottleneck(\n",
              "      (conv1): Conv2d(512, 128, kernel_size=(1, 1), stride=(1, 1), bias=False)\n",
              "      (bn1): BatchNorm2d(128, eps=1e-05, momentum=0.1, affine=True, track_running_stats=True)\n",
              "      (conv2): Conv2d(128, 128, kernel_size=(3, 3), stride=(1, 1), padding=(1, 1), bias=False)\n",
              "      (bn2): BatchNorm2d(128, eps=1e-05, momentum=0.1, affine=True, track_running_stats=True)\n",
              "      (conv3): Conv2d(128, 512, kernel_size=(1, 1), stride=(1, 1), bias=False)\n",
              "      (bn3): BatchNorm2d(512, eps=1e-05, momentum=0.1, affine=True, track_running_stats=True)\n",
              "      (relu): ReLU(inplace=True)\n",
              "    )\n",
              "    (3): Bottleneck(\n",
              "      (conv1): Conv2d(512, 128, kernel_size=(1, 1), stride=(1, 1), bias=False)\n",
              "      (bn1): BatchNorm2d(128, eps=1e-05, momentum=0.1, affine=True, track_running_stats=True)\n",
              "      (conv2): Conv2d(128, 128, kernel_size=(3, 3), stride=(1, 1), padding=(1, 1), bias=False)\n",
              "      (bn2): BatchNorm2d(128, eps=1e-05, momentum=0.1, affine=True, track_running_stats=True)\n",
              "      (conv3): Conv2d(128, 512, kernel_size=(1, 1), stride=(1, 1), bias=False)\n",
              "      (bn3): BatchNorm2d(512, eps=1e-05, momentum=0.1, affine=True, track_running_stats=True)\n",
              "      (relu): ReLU(inplace=True)\n",
              "    )\n",
              "  )\n",
              "  (layer3): Sequential(\n",
              "    (0): Bottleneck(\n",
              "      (conv1): Conv2d(512, 256, kernel_size=(1, 1), stride=(1, 1), bias=False)\n",
              "      (bn1): BatchNorm2d(256, eps=1e-05, momentum=0.1, affine=True, track_running_stats=True)\n",
              "      (conv2): Conv2d(256, 256, kernel_size=(3, 3), stride=(2, 2), padding=(1, 1), bias=False)\n",
              "      (bn2): BatchNorm2d(256, eps=1e-05, momentum=0.1, affine=True, track_running_stats=True)\n",
              "      (conv3): Conv2d(256, 1024, kernel_size=(1, 1), stride=(1, 1), bias=False)\n",
              "      (bn3): BatchNorm2d(1024, eps=1e-05, momentum=0.1, affine=True, track_running_stats=True)\n",
              "      (relu): ReLU(inplace=True)\n",
              "      (downsample): Sequential(\n",
              "        (0): Conv2d(512, 1024, kernel_size=(1, 1), stride=(2, 2), bias=False)\n",
              "        (1): BatchNorm2d(1024, eps=1e-05, momentum=0.1, affine=True, track_running_stats=True)\n",
              "      )\n",
              "    )\n",
              "    (1): Bottleneck(\n",
              "      (conv1): Conv2d(1024, 256, kernel_size=(1, 1), stride=(1, 1), bias=False)\n",
              "      (bn1): BatchNorm2d(256, eps=1e-05, momentum=0.1, affine=True, track_running_stats=True)\n",
              "      (conv2): Conv2d(256, 256, kernel_size=(3, 3), stride=(1, 1), padding=(1, 1), bias=False)\n",
              "      (bn2): BatchNorm2d(256, eps=1e-05, momentum=0.1, affine=True, track_running_stats=True)\n",
              "      (conv3): Conv2d(256, 1024, kernel_size=(1, 1), stride=(1, 1), bias=False)\n",
              "      (bn3): BatchNorm2d(1024, eps=1e-05, momentum=0.1, affine=True, track_running_stats=True)\n",
              "      (relu): ReLU(inplace=True)\n",
              "    )\n",
              "    (2): Bottleneck(\n",
              "      (conv1): Conv2d(1024, 256, kernel_size=(1, 1), stride=(1, 1), bias=False)\n",
              "      (bn1): BatchNorm2d(256, eps=1e-05, momentum=0.1, affine=True, track_running_stats=True)\n",
              "      (conv2): Conv2d(256, 256, kernel_size=(3, 3), stride=(1, 1), padding=(1, 1), bias=False)\n",
              "      (bn2): BatchNorm2d(256, eps=1e-05, momentum=0.1, affine=True, track_running_stats=True)\n",
              "      (conv3): Conv2d(256, 1024, kernel_size=(1, 1), stride=(1, 1), bias=False)\n",
              "      (bn3): BatchNorm2d(1024, eps=1e-05, momentum=0.1, affine=True, track_running_stats=True)\n",
              "      (relu): ReLU(inplace=True)\n",
              "    )\n",
              "    (3): Bottleneck(\n",
              "      (conv1): Conv2d(1024, 256, kernel_size=(1, 1), stride=(1, 1), bias=False)\n",
              "      (bn1): BatchNorm2d(256, eps=1e-05, momentum=0.1, affine=True, track_running_stats=True)\n",
              "      (conv2): Conv2d(256, 256, kernel_size=(3, 3), stride=(1, 1), padding=(1, 1), bias=False)\n",
              "      (bn2): BatchNorm2d(256, eps=1e-05, momentum=0.1, affine=True, track_running_stats=True)\n",
              "      (conv3): Conv2d(256, 1024, kernel_size=(1, 1), stride=(1, 1), bias=False)\n",
              "      (bn3): BatchNorm2d(1024, eps=1e-05, momentum=0.1, affine=True, track_running_stats=True)\n",
              "      (relu): ReLU(inplace=True)\n",
              "    )\n",
              "    (4): Bottleneck(\n",
              "      (conv1): Conv2d(1024, 256, kernel_size=(1, 1), stride=(1, 1), bias=False)\n",
              "      (bn1): BatchNorm2d(256, eps=1e-05, momentum=0.1, affine=True, track_running_stats=True)\n",
              "      (conv2): Conv2d(256, 256, kernel_size=(3, 3), stride=(1, 1), padding=(1, 1), bias=False)\n",
              "      (bn2): BatchNorm2d(256, eps=1e-05, momentum=0.1, affine=True, track_running_stats=True)\n",
              "      (conv3): Conv2d(256, 1024, kernel_size=(1, 1), stride=(1, 1), bias=False)\n",
              "      (bn3): BatchNorm2d(1024, eps=1e-05, momentum=0.1, affine=True, track_running_stats=True)\n",
              "      (relu): ReLU(inplace=True)\n",
              "    )\n",
              "    (5): Bottleneck(\n",
              "      (conv1): Conv2d(1024, 256, kernel_size=(1, 1), stride=(1, 1), bias=False)\n",
              "      (bn1): BatchNorm2d(256, eps=1e-05, momentum=0.1, affine=True, track_running_stats=True)\n",
              "      (conv2): Conv2d(256, 256, kernel_size=(3, 3), stride=(1, 1), padding=(1, 1), bias=False)\n",
              "      (bn2): BatchNorm2d(256, eps=1e-05, momentum=0.1, affine=True, track_running_stats=True)\n",
              "      (conv3): Conv2d(256, 1024, kernel_size=(1, 1), stride=(1, 1), bias=False)\n",
              "      (bn3): BatchNorm2d(1024, eps=1e-05, momentum=0.1, affine=True, track_running_stats=True)\n",
              "      (relu): ReLU(inplace=True)\n",
              "    )\n",
              "  )\n",
              "  (layer4): Sequential(\n",
              "    (0): Bottleneck(\n",
              "      (conv1): Conv2d(1024, 512, kernel_size=(1, 1), stride=(1, 1), bias=False)\n",
              "      (bn1): BatchNorm2d(512, eps=1e-05, momentum=0.1, affine=True, track_running_stats=True)\n",
              "      (conv2): Conv2d(512, 512, kernel_size=(3, 3), stride=(2, 2), padding=(1, 1), bias=False)\n",
              "      (bn2): BatchNorm2d(512, eps=1e-05, momentum=0.1, affine=True, track_running_stats=True)\n",
              "      (conv3): Conv2d(512, 2048, kernel_size=(1, 1), stride=(1, 1), bias=False)\n",
              "      (bn3): BatchNorm2d(2048, eps=1e-05, momentum=0.1, affine=True, track_running_stats=True)\n",
              "      (relu): ReLU(inplace=True)\n",
              "      (downsample): Sequential(\n",
              "        (0): Conv2d(1024, 2048, kernel_size=(1, 1), stride=(2, 2), bias=False)\n",
              "        (1): BatchNorm2d(2048, eps=1e-05, momentum=0.1, affine=True, track_running_stats=True)\n",
              "      )\n",
              "    )\n",
              "    (1): Bottleneck(\n",
              "      (conv1): Conv2d(2048, 512, kernel_size=(1, 1), stride=(1, 1), bias=False)\n",
              "      (bn1): BatchNorm2d(512, eps=1e-05, momentum=0.1, affine=True, track_running_stats=True)\n",
              "      (conv2): Conv2d(512, 512, kernel_size=(3, 3), stride=(1, 1), padding=(1, 1), bias=False)\n",
              "      (bn2): BatchNorm2d(512, eps=1e-05, momentum=0.1, affine=True, track_running_stats=True)\n",
              "      (conv3): Conv2d(512, 2048, kernel_size=(1, 1), stride=(1, 1), bias=False)\n",
              "      (bn3): BatchNorm2d(2048, eps=1e-05, momentum=0.1, affine=True, track_running_stats=True)\n",
              "      (relu): ReLU(inplace=True)\n",
              "    )\n",
              "    (2): Bottleneck(\n",
              "      (conv1): Conv2d(2048, 512, kernel_size=(1, 1), stride=(1, 1), bias=False)\n",
              "      (bn1): BatchNorm2d(512, eps=1e-05, momentum=0.1, affine=True, track_running_stats=True)\n",
              "      (conv2): Conv2d(512, 512, kernel_size=(3, 3), stride=(1, 1), padding=(1, 1), bias=False)\n",
              "      (bn2): BatchNorm2d(512, eps=1e-05, momentum=0.1, affine=True, track_running_stats=True)\n",
              "      (conv3): Conv2d(512, 2048, kernel_size=(1, 1), stride=(1, 1), bias=False)\n",
              "      (bn3): BatchNorm2d(2048, eps=1e-05, momentum=0.1, affine=True, track_running_stats=True)\n",
              "      (relu): ReLU(inplace=True)\n",
              "    )\n",
              "  )\n",
              "  (avgpool): AdaptiveAvgPool2d(output_size=(1, 1))\n",
              "  (fc): Sequential(\n",
              "    (0): Dropout(p=0.8, inplace=False)\n",
              "    (1): Linear(in_features=2048, out_features=3, bias=True)\n",
              "  )\n",
              ")"
            ]
          },
          "metadata": {
            "tags": []
          },
          "execution_count": 12
        }
      ]
    },
    {
      "cell_type": "code",
      "metadata": {
        "id": "4Y62CEjffOkP"
      },
      "source": [
        "for batch_idx, (data, target) in enumerate(train_loader):\n",
        "    with torch.no_grad():\n",
        "        output = model(data.repeat(1, 3, 1, 1))\n",
        "        # print('output', output)\n",
        "        # print('target', target)\n",
        "    break"
      ],
      "execution_count": 13,
      "outputs": []
    },
    {
      "cell_type": "code",
      "metadata": {
        "colab": {
          "base_uri": "https://localhost:8080/"
        },
        "id": "dD3m27c0i7wc",
        "outputId": "b6908b8b-7cda-4448-b7e6-0018be5c0f40"
      },
      "source": [
        "output.shape"
      ],
      "execution_count": 14,
      "outputs": [
        {
          "output_type": "execute_result",
          "data": {
            "text/plain": [
              "torch.Size([30, 3])"
            ]
          },
          "metadata": {
            "tags": []
          },
          "execution_count": 14
        }
      ]
    },
    {
      "cell_type": "code",
      "metadata": {
        "colab": {
          "base_uri": "https://localhost:8080/"
        },
        "id": "9y_op1SpsH6G",
        "outputId": "1470f4fa-5018-4adf-a9e0-5e56876cdcb6"
      },
      "source": [
        "for batch_idx, (data, target) in enumerate(validation_loader):\n",
        "    with torch.no_grad():\n",
        "        output = model(data.repeat(1, 3, 1, 1))\n",
        "        print('output', output)\n",
        "        print('target', target)\n",
        "        _, label = torch.max(target, 1)\n",
        "        _, predicted = torch.max(output, 1)\n",
        "        print('label', label)\n",
        "        print('predicted', predicted)\n",
        "    break"
      ],
      "execution_count": 15,
      "outputs": [
        {
          "output_type": "stream",
          "text": [
            "output tensor([[-0.0357,  0.0874,  0.0374],\n",
            "        [-0.0370,  0.0861,  0.0390],\n",
            "        [-0.0349,  0.0887,  0.0359],\n",
            "        [-0.0360,  0.0873,  0.0384],\n",
            "        [-0.0362,  0.0853,  0.0386],\n",
            "        [-0.0359,  0.0864,  0.0389],\n",
            "        [-0.0356,  0.0880,  0.0382],\n",
            "        [-0.0364,  0.0864,  0.0386],\n",
            "        [-0.0364,  0.0870,  0.0384],\n",
            "        [-0.0368,  0.0861,  0.0388],\n",
            "        [-0.0357,  0.0865,  0.0383],\n",
            "        [-0.0363,  0.0869,  0.0385],\n",
            "        [-0.0364,  0.0870,  0.0381],\n",
            "        [-0.0361,  0.0866,  0.0389],\n",
            "        [-0.0364,  0.0851,  0.0387],\n",
            "        [-0.0363,  0.0862,  0.0380],\n",
            "        [-0.0360,  0.0868,  0.0385],\n",
            "        [-0.0358,  0.0875,  0.0366],\n",
            "        [-0.0358,  0.0869,  0.0381],\n",
            "        [-0.0363,  0.0855,  0.0389],\n",
            "        [-0.0360,  0.0875,  0.0374],\n",
            "        [-0.0359,  0.0861,  0.0388],\n",
            "        [-0.0364,  0.0856,  0.0381],\n",
            "        [-0.0366,  0.0861,  0.0389],\n",
            "        [-0.0370,  0.0856,  0.0390],\n",
            "        [-0.0358,  0.0865,  0.0388],\n",
            "        [-0.0363,  0.0867,  0.0379],\n",
            "        [-0.0363,  0.0860,  0.0383],\n",
            "        [-0.0359,  0.0860,  0.0389],\n",
            "        [-0.0360,  0.0874,  0.0372]])\n",
            "target tensor([[0., 0., 1.],\n",
            "        [1., 0., 0.],\n",
            "        [0., 0., 1.],\n",
            "        [1., 0., 0.],\n",
            "        [0., 0., 1.],\n",
            "        [0., 1., 0.],\n",
            "        [1., 0., 0.],\n",
            "        [0., 1., 0.],\n",
            "        [0., 1., 0.],\n",
            "        [1., 0., 0.],\n",
            "        [0., 1., 0.],\n",
            "        [0., 1., 0.],\n",
            "        [1., 0., 0.],\n",
            "        [0., 1., 0.],\n",
            "        [0., 0., 1.],\n",
            "        [0., 0., 1.],\n",
            "        [0., 1., 0.],\n",
            "        [1., 0., 0.],\n",
            "        [0., 1., 0.],\n",
            "        [0., 0., 1.],\n",
            "        [1., 0., 0.],\n",
            "        [0., 1., 0.],\n",
            "        [0., 0., 1.],\n",
            "        [0., 1., 0.],\n",
            "        [0., 0., 1.],\n",
            "        [0., 1., 0.],\n",
            "        [1., 0., 0.],\n",
            "        [1., 0., 0.],\n",
            "        [0., 0., 1.],\n",
            "        [0., 0., 1.]])\n",
            "label tensor([2, 0, 2, 0, 2, 1, 0, 1, 1, 0, 1, 1, 0, 1, 2, 2, 1, 0, 1, 2, 0, 1, 2, 1,\n",
            "        2, 1, 0, 0, 2, 2])\n",
            "predicted tensor([1, 1, 1, 1, 1, 1, 1, 1, 1, 1, 1, 1, 1, 1, 1, 1, 1, 1, 1, 1, 1, 1, 1, 1,\n",
            "        1, 1, 1, 1, 1, 1])\n"
          ],
          "name": "stdout"
        }
      ]
    },
    {
      "cell_type": "code",
      "metadata": {
        "id": "-_PwbeQiARhW"
      },
      "source": [
        "optimizer = optim.Adam(model.parameters(), lr=0.0001)\n",
        "criterion = nn.CrossEntropyLoss()"
      ],
      "execution_count": 15,
      "outputs": []
    },
    {
      "cell_type": "code",
      "metadata": {
        "colab": {
          "base_uri": "https://localhost:8080/"
        },
        "id": "1xnxFRo7llCT",
        "outputId": "e8a46af4-ab19-4207-e4e2-be4ef54dbbb4"
      },
      "source": [
        "for epoch in range(10):\n",
        "    total=0\n",
        "    correct=0\n",
        "    model.train()\n",
        "    for batch_idx, (data, target) in enumerate(train_loader):\n",
        "\n",
        "        if torch.cuda.is_available():\n",
        "            data=data.cuda()\n",
        "            target=target.cuda()\n",
        "\n",
        "        optimizer.zero_grad()\n",
        "        output = model(data.repeat(1, 3, 1, 1))\n",
        "        # print('output', output)\n",
        "        # print('target', target)\n",
        "\n",
        "        loss = criterion(output, torch.max(target, 1)[1])\n",
        "        loss.backward()\n",
        "        optimizer.step()\n",
        "\n",
        "        #accuracy\n",
        "        # _, predicted = torch.max(output.data, 1)\n",
        "        # total += target.size(0)\n",
        "        # correct += (predicted == target).sum().item()\n",
        "        _, label = torch.max(target, 1)\n",
        "        _, predicted = torch.max(output, 1)\n",
        "        comparison_tensor = torch.eq(label, predicted).long()\n",
        "        correct += torch.count_nonzero(comparison_tensor)\n",
        "        total += comparison_tensor.shape[0]\n",
        "\n",
        "    \n",
        "    print('Train Epoch: {}  Loss: {:.3f}| Acc:{:.3f}'.format(epoch+1, loss.item(),correct / total))\n",
        "    torch.save(model.state_dict(), '/content/gdrive/My Drive/Fyp/FYP-RPI-RF-Sensing/dataset/1903resNet.pth')\n",
        "    \n",
        "    model.eval()\n",
        "    total = 0\n",
        "    correct = 0\n",
        "    with torch.no_grad():\n",
        "        for batch_idx, (data, target) in enumerate(validation_loader):\n",
        "            if torch.cuda.is_available():\n",
        "                data=data.cuda()\n",
        "                target=target.cuda()\n",
        "\n",
        "            output = model(data.repeat(1, 3, 1, 1))\n",
        "            loss = criterion(output, torch.max(target, 1)[1])\n",
        "            # _, predicted = torch.max(output.data, 1)\n",
        "            # total += target.size(0)\n",
        "            # correct += (predicted == target).sum().item()\n",
        "            _, label = torch.max(target, 1)\n",
        "            _, predicted = torch.max(output, 1)\n",
        "            print('label', label)\n",
        "            print('predicted', predicted)\n",
        "            comparison_tensor = torch.eq(label, predicted).long()\n",
        "            correct += torch.count_nonzero(comparison_tensor)\n",
        "            total += comparison_tensor.shape[0]\n",
        "    # print('Test : Loss: {:.3f}, Acc:{:.3f}\\n'.format(loss, correct / len(validation_loader.dataset)))\n",
        "    print('Test Epoch: {}  Loss: {:.3f}| Acc:{:.3f}'.format(epoch+1, loss.item(),correct / total))"
      ],
      "execution_count": 16,
      "outputs": [
        {
          "output_type": "stream",
          "text": [
            "Train Epoch: 0  Loss: 0.485| Acc:0.579\n",
            "label tensor([2, 1, 1, 2, 0, 1, 1, 0, 2, 2, 2, 0, 0, 1, 1, 1, 2, 2, 0, 0, 0, 1, 1, 1,\n",
            "        1, 0, 0, 2, 2, 2])\n",
            "predicted tensor([0, 0, 0, 0, 0, 0, 0, 0, 0, 0, 0, 0, 0, 0, 0, 0, 0, 0, 0, 0, 0, 0, 0, 0,\n",
            "        0, 0, 0, 0, 0, 0])\n",
            "label tensor([2, 2, 0, 1, 2, 1, 0, 1, 1, 2, 2, 1, 0, 1, 2, 0, 2, 0, 0, 2, 0, 1, 0, 0,\n",
            "        0, 1, 1, 2, 0, 2])\n",
            "predicted tensor([0, 0, 0, 0, 0, 0, 0, 0, 0, 0, 0, 0, 0, 0, 0, 0, 0, 0, 0, 0, 0, 0, 0, 0,\n",
            "        0, 0, 0, 0, 0, 0])\n",
            "Test Epoch: 0  Loss: 1.297| Acc:0.333\n",
            "Train Epoch: 1  Loss: 0.140| Acc:0.950\n",
            "label tensor([1, 0, 2, 1, 0, 0, 0, 1, 1, 0, 0, 0, 2, 1, 1, 1, 2, 0, 1, 0, 1, 2, 1, 2,\n",
            "        1, 1, 2, 0, 0, 1])\n",
            "predicted tensor([0, 0, 0, 0, 0, 0, 0, 0, 0, 0, 0, 0, 0, 0, 0, 0, 0, 0, 0, 0, 0, 0, 0, 0,\n",
            "        0, 0, 0, 0, 0, 0])\n",
            "label tensor([0, 2, 0, 0, 0, 1, 2, 1, 2, 2, 2, 2, 2, 0, 2, 1, 2, 0, 0, 2, 2, 1, 0, 2,\n",
            "        0, 2, 1, 1, 1, 2])\n",
            "predicted tensor([0, 0, 0, 0, 0, 0, 0, 0, 0, 0, 0, 0, 0, 0, 0, 0, 0, 0, 0, 0, 0, 0, 0, 0,\n",
            "        0, 0, 0, 0, 0, 0])\n",
            "Test Epoch: 1  Loss: 1.132| Acc:0.333\n",
            "Train Epoch: 2  Loss: 0.206| Acc:0.983\n",
            "label tensor([2, 2, 0, 0, 0, 2, 1, 1, 1, 0, 1, 2, 0, 0, 1, 2, 1, 0, 1, 2, 2, 1, 0, 1,\n",
            "        2, 1, 2, 1, 0, 2])\n",
            "predicted tensor([0, 0, 0, 0, 0, 0, 0, 0, 0, 0, 0, 0, 0, 0, 0, 0, 0, 0, 0, 0, 0, 0, 0, 0,\n",
            "        0, 0, 0, 0, 0, 0])\n",
            "label tensor([2, 1, 2, 1, 2, 0, 2, 1, 0, 0, 2, 0, 0, 1, 0, 2, 2, 1, 0, 0, 1, 0, 1, 1,\n",
            "        1, 2, 2, 0, 2, 0])\n",
            "predicted tensor([0, 0, 0, 0, 0, 0, 0, 0, 0, 0, 0, 0, 0, 0, 0, 0, 0, 0, 0, 0, 0, 0, 0, 0,\n",
            "        0, 0, 0, 0, 0, 0])\n",
            "Test Epoch: 2  Loss: 1.445| Acc:0.333\n",
            "Train Epoch: 3  Loss: 0.012| Acc:1.000\n",
            "label tensor([0, 1, 1, 2, 2, 1, 1, 2, 0, 0, 1, 0, 2, 2, 2, 1, 0, 1, 0, 0, 0, 2, 2, 0,\n",
            "        0, 1, 1, 2, 1, 1])\n",
            "predicted tensor([0, 0, 0, 0, 0, 0, 0, 0, 0, 0, 0, 0, 0, 0, 0, 0, 0, 0, 0, 0, 0, 0, 0, 0,\n",
            "        0, 0, 0, 0, 0, 0])\n",
            "label tensor([1, 0, 0, 0, 1, 2, 2, 1, 0, 1, 2, 2, 1, 0, 2, 0, 2, 2, 0, 2, 0, 1, 1, 0,\n",
            "        2, 2, 1, 2, 0, 1])\n",
            "predicted tensor([0, 0, 0, 0, 0, 0, 0, 0, 0, 0, 0, 0, 0, 0, 0, 0, 0, 0, 0, 0, 0, 0, 0, 0,\n",
            "        0, 0, 0, 0, 0, 0])\n",
            "Test Epoch: 3  Loss: 1.398| Acc:0.333\n",
            "Train Epoch: 4  Loss: 0.006| Acc:1.000\n",
            "label tensor([0, 1, 2, 0, 1, 1, 0, 0, 1, 1, 2, 0, 0, 0, 0, 0, 1, 1, 1, 2, 2, 0, 1, 1,\n",
            "        2, 1, 1, 0, 0, 0])\n",
            "predicted tensor([2, 2, 2, 2, 2, 2, 2, 2, 2, 2, 2, 2, 2, 2, 2, 2, 2, 2, 2, 2, 2, 2, 2, 2,\n",
            "        2, 2, 2, 2, 2, 2])\n",
            "label tensor([1, 2, 1, 0, 1, 0, 2, 1, 2, 2, 0, 2, 1, 2, 0, 2, 1, 2, 2, 2, 2, 2, 2, 0,\n",
            "        1, 1, 2, 0, 0, 2])\n",
            "predicted tensor([2, 2, 2, 2, 2, 2, 2, 2, 2, 2, 2, 2, 2, 2, 2, 2, 2, 2, 2, 2, 2, 2, 2, 2,\n",
            "        2, 2, 2, 2, 2, 2])\n",
            "Test Epoch: 4  Loss: 1.078| Acc:0.333\n",
            "Train Epoch: 5  Loss: 0.004| Acc:1.000\n",
            "label tensor([0, 2, 1, 0, 1, 1, 0, 2, 1, 0, 0, 2, 2, 1, 0, 2, 1, 2, 2, 0, 0, 1, 2, 0,\n",
            "        2, 0, 2, 0, 1, 1])\n",
            "predicted tensor([2, 2, 2, 2, 2, 2, 2, 2, 2, 2, 2, 2, 2, 2, 2, 2, 2, 2, 2, 2, 2, 2, 2, 2,\n",
            "        2, 2, 2, 2, 2, 2])\n",
            "label tensor([1, 1, 0, 0, 2, 1, 0, 1, 2, 1, 0, 2, 2, 0, 0, 0, 0, 0, 1, 2, 2, 2, 1, 2,\n",
            "        1, 1, 2, 2, 1, 1])\n",
            "predicted tensor([2, 2, 2, 2, 2, 2, 2, 2, 2, 2, 2, 2, 2, 2, 2, 2, 2, 2, 2, 2, 2, 2, 2, 2,\n",
            "        2, 2, 2, 2, 2, 2])\n",
            "Test Epoch: 5  Loss: 1.288| Acc:0.333\n",
            "Train Epoch: 6  Loss: 0.006| Acc:1.000\n",
            "label tensor([2, 2, 1, 2, 0, 0, 2, 0, 1, 0, 2, 1, 1, 0, 2, 0, 1, 0, 0, 1, 0, 2, 0, 0,\n",
            "        1, 0, 0, 1, 1, 1])\n",
            "predicted tensor([2, 2, 2, 2, 2, 2, 2, 2, 2, 2, 2, 2, 2, 2, 2, 2, 2, 2, 2, 2, 2, 2, 2, 2,\n",
            "        2, 2, 2, 2, 2, 2])\n",
            "label tensor([1, 0, 2, 1, 0, 2, 0, 0, 2, 0, 2, 2, 1, 1, 2, 2, 0, 1, 2, 2, 1, 2, 2, 0,\n",
            "        1, 2, 1, 1, 1, 2])\n",
            "predicted tensor([2, 2, 2, 2, 2, 2, 2, 2, 2, 2, 2, 2, 2, 2, 2, 2, 2, 2, 2, 2, 2, 2, 2, 2,\n",
            "        2, 2, 2, 2, 2, 2])\n",
            "Test Epoch: 6  Loss: 1.177| Acc:0.333\n",
            "Train Epoch: 7  Loss: 0.029| Acc:1.000\n",
            "label tensor([2, 1, 2, 2, 1, 1, 0, 2, 0, 0, 1, 1, 2, 1, 1, 0, 0, 0, 1, 1, 1, 1, 2, 0,\n",
            "        2, 0, 2, 1, 2, 1])\n",
            "predicted tensor([2, 2, 2, 2, 2, 2, 2, 2, 0, 2, 2, 2, 2, 2, 2, 2, 2, 2, 2, 2, 2, 2, 2, 2,\n",
            "        2, 2, 2, 2, 2, 2])\n",
            "label tensor([0, 2, 0, 2, 0, 2, 2, 0, 2, 2, 1, 0, 1, 1, 0, 0, 0, 1, 2, 2, 2, 2, 0, 0,\n",
            "        1, 1, 0, 1, 0, 2])\n",
            "predicted tensor([0, 2, 2, 2, 0, 2, 2, 2, 2, 2, 2, 2, 2, 2, 2, 0, 2, 2, 2, 2, 2, 2, 2, 2,\n",
            "        2, 2, 0, 2, 2, 2])\n",
            "Test Epoch: 7  Loss: 0.936| Acc:0.417\n",
            "Train Epoch: 8  Loss: 0.002| Acc:1.000\n",
            "label tensor([1, 1, 0, 2, 2, 2, 2, 0, 1, 2, 2, 2, 0, 0, 1, 2, 2, 0, 2, 1, 2, 1, 0, 0,\n",
            "        1, 1, 2, 1, 0, 2])\n",
            "predicted tensor([0, 2, 0, 2, 2, 2, 2, 0, 2, 2, 2, 2, 0, 0, 0, 2, 2, 0, 2, 0, 2, 0, 0, 0,\n",
            "        0, 0, 2, 2, 0, 2])\n",
            "label tensor([0, 2, 0, 1, 0, 2, 1, 1, 1, 2, 2, 1, 1, 2, 0, 1, 2, 0, 0, 1, 0, 0, 0, 0,\n",
            "        1, 1, 2, 0, 1, 0])\n",
            "predicted tensor([0, 2, 0, 2, 0, 2, 2, 2, 2, 2, 2, 0, 0, 2, 0, 0, 2, 0, 0, 2, 0, 0, 0, 0,\n",
            "        0, 2, 2, 0, 0, 0])\n",
            "Test Epoch: 8  Loss: 1.249| Acc:0.667\n",
            "Train Epoch: 9  Loss: 0.001| Acc:1.000\n",
            "label tensor([1, 0, 0, 0, 1, 0, 1, 1, 1, 2, 0, 1, 1, 2, 0, 2, 0, 2, 2, 2, 0, 2, 2, 1,\n",
            "        2, 2, 1, 2, 1, 1])\n",
            "predicted tensor([0, 0, 0, 0, 0, 0, 0, 0, 0, 2, 0, 0, 0, 2, 0, 0, 0, 0, 2, 2, 0, 2, 2, 0,\n",
            "        2, 2, 0, 2, 0, 0])\n",
            "label tensor([1, 1, 0, 2, 1, 0, 1, 2, 2, 0, 0, 1, 0, 0, 0, 0, 1, 0, 2, 1, 2, 2, 1, 1,\n",
            "        2, 0, 0, 2, 0, 2])\n",
            "predicted tensor([0, 0, 0, 2, 0, 0, 0, 2, 2, 0, 0, 0, 0, 0, 0, 0, 0, 0, 2, 0, 2, 2, 0, 0,\n",
            "        2, 0, 0, 2, 0, 2])\n",
            "Test Epoch: 9  Loss: 1.656| Acc:0.633\n"
          ],
          "name": "stdout"
        }
      ]
    },
    {
      "cell_type": "code",
      "metadata": {
        "id": "RU6Q70gugtR6",
        "colab": {
          "base_uri": "https://localhost:8080/"
        },
        "outputId": "53a8ef81-5e03-48f1-8df7-2b385d09fe15"
      },
      "source": [
        "model.load_state_dict(torch.load('/content/gdrive/My Drive/Fyp/FYP-RPI-RF-Sensing/dataset/1903resNet.pth'))"
      ],
      "execution_count": 18,
      "outputs": [
        {
          "output_type": "execute_result",
          "data": {
            "text/plain": [
              "<All keys matched successfully>"
            ]
          },
          "metadata": {
            "tags": []
          },
          "execution_count": 18
        }
      ]
    },
    {
      "cell_type": "code",
      "metadata": {
        "colab": {
          "base_uri": "https://localhost:8080/"
        },
        "id": "r1xGGj7hISAn",
        "outputId": "2c358a4d-7ff6-41f5-abd9-91482cc1d1dd"
      },
      "source": [
        "for epoch in range(10, 20):\n",
        "    total=0\n",
        "    correct=0\n",
        "    model.train()\n",
        "    for batch_idx, (data, target) in enumerate(train_loader):\n",
        "\n",
        "        if torch.cuda.is_available():\n",
        "            data=data.cuda()\n",
        "            target=target.cuda()\n",
        "\n",
        "        optimizer.zero_grad()\n",
        "        output = model(data.repeat(1, 3, 1, 1))\n",
        "        # print('output', output)\n",
        "        # print('target', target)\n",
        "\n",
        "        loss = criterion(output, torch.max(target, 1)[1])\n",
        "        loss.backward()\n",
        "        optimizer.step()\n",
        "\n",
        "        #accuracy\n",
        "        # _, predicted = torch.max(output.data, 1)\n",
        "        # total += target.size(0)\n",
        "        # correct += (predicted == target).sum().item()\n",
        "        _, label = torch.max(target, 1)\n",
        "        _, predicted = torch.max(output, 1)\n",
        "        comparison_tensor = torch.eq(label, predicted).long()\n",
        "        correct += torch.count_nonzero(comparison_tensor)\n",
        "        total += comparison_tensor.shape[0]\n",
        "\n",
        "    \n",
        "    print('Train Epoch: {}  Loss: {:.3f}| Acc:{:.3f}'.format(epoch+1, loss.item(),correct / total))\n",
        "    torch.save(model.state_dict(), '/content/gdrive/My Drive/Fyp/FYP-RPI-RF-Sensing/dataset/1903resNet.pth')\n",
        "    \n",
        "    model.eval()\n",
        "    total = 0\n",
        "    correct = 0\n",
        "    with torch.no_grad():\n",
        "        for batch_idx, (data, target) in enumerate(validation_loader):\n",
        "            if torch.cuda.is_available():\n",
        "                data=data.cuda()\n",
        "                target=target.cuda()\n",
        "\n",
        "            output = model(data.repeat(1, 3, 1, 1))\n",
        "            loss = criterion(output, torch.max(target, 1)[1])\n",
        "            # _, predicted = torch.max(output.data, 1)\n",
        "            # total += target.size(0)\n",
        "            # correct += (predicted == target).sum().item()\n",
        "            _, label = torch.max(target, 1)\n",
        "            _, predicted = torch.max(output, 1)\n",
        "            print('label', label)\n",
        "            print('predicted', predicted)\n",
        "            comparison_tensor = torch.eq(label, predicted).long()\n",
        "            correct += torch.count_nonzero(comparison_tensor)\n",
        "            total += comparison_tensor.shape[0]\n",
        "    # print('Test : Loss: {:.3f}, Acc:{:.3f}\\n'.format(loss, correct / len(validation_loader.dataset)))\n",
        "    print('Test Epoch: {}  Loss: {:.3f}| Acc:{:.3f}'.format(epoch+1, loss.item(),correct / total))"
      ],
      "execution_count": 19,
      "outputs": [
        {
          "output_type": "stream",
          "text": [
            "Train Epoch: 11  Loss: 0.008| Acc:1.000\n",
            "label tensor([0, 1, 2, 0, 1, 0, 2, 1, 0, 0, 2, 2, 1, 2, 2, 1, 1, 1, 1, 0, 2, 1, 2, 0,\n",
            "        1, 1, 2, 0, 0, 2])\n",
            "predicted tensor([0, 0, 0, 0, 0, 0, 0, 0, 0, 0, 0, 0, 0, 2, 0, 0, 0, 0, 0, 0, 0, 0, 0, 0,\n",
            "        0, 0, 2, 0, 0, 0])\n",
            "label tensor([2, 1, 1, 1, 1, 0, 0, 2, 0, 0, 2, 2, 1, 0, 1, 2, 0, 0, 0, 2, 2, 1, 0, 2,\n",
            "        2, 0, 2, 1, 1, 0])\n",
            "predicted tensor([2, 0, 0, 0, 0, 0, 0, 0, 0, 0, 0, 0, 0, 0, 0, 2, 0, 0, 0, 2, 2, 0, 0, 2,\n",
            "        0, 0, 0, 0, 0, 0])\n",
            "Test Epoch: 11  Loss: 1.833| Acc:0.450\n",
            "Train Epoch: 12  Loss: 0.001| Acc:1.000\n",
            "label tensor([1, 0, 0, 2, 1, 0, 0, 1, 0, 2, 2, 2, 2, 1, 0, 1, 2, 2, 2, 2, 2, 1, 1, 1,\n",
            "        2, 2, 1, 2, 0, 0])\n",
            "predicted tensor([0, 0, 0, 0, 0, 0, 0, 0, 0, 0, 0, 0, 0, 0, 0, 0, 0, 0, 2, 0, 0, 0, 0, 0,\n",
            "        2, 2, 0, 0, 0, 0])\n",
            "label tensor([0, 1, 0, 0, 0, 2, 2, 1, 2, 0, 0, 2, 2, 1, 2, 1, 0, 0, 0, 1, 1, 1, 0, 1,\n",
            "        2, 1, 0, 1, 1, 0])\n",
            "predicted tensor([0, 0, 0, 0, 0, 2, 0, 0, 0, 0, 0, 2, 0, 0, 0, 0, 0, 0, 0, 0, 0, 0, 0, 0,\n",
            "        2, 0, 0, 0, 0, 0])\n",
            "Test Epoch: 12  Loss: 2.020| Acc:0.433\n",
            "Train Epoch: 13  Loss: 0.001| Acc:1.000\n",
            "label tensor([2, 1, 0, 1, 2, 2, 2, 2, 2, 1, 1, 0, 1, 1, 2, 0, 0, 1, 2, 2, 2, 1, 1, 2,\n",
            "        0, 0, 1, 0, 2, 0])\n",
            "predicted tensor([0, 0, 0, 0, 0, 2, 0, 0, 2, 0, 0, 0, 0, 0, 0, 0, 0, 0, 2, 0, 0, 0, 0, 0,\n",
            "        0, 0, 0, 0, 0, 0])\n",
            "label tensor([2, 0, 2, 0, 1, 2, 1, 0, 0, 2, 0, 2, 0, 1, 1, 1, 1, 0, 1, 0, 2, 2, 0, 0,\n",
            "        1, 1, 1, 0, 2, 0])\n",
            "predicted tensor([0, 0, 2, 0, 0, 0, 0, 0, 0, 0, 0, 2, 0, 0, 0, 0, 0, 0, 0, 0, 2, 0, 0, 0,\n",
            "        0, 0, 0, 0, 0, 0])\n",
            "Test Epoch: 13  Loss: 2.568| Acc:0.433\n",
            "Train Epoch: 14  Loss: 0.007| Acc:1.000\n",
            "label tensor([0, 2, 0, 1, 2, 1, 2, 1, 1, 1, 2, 1, 2, 1, 0, 2, 0, 2, 2, 1, 1, 2, 0, 0,\n",
            "        0, 1, 0, 2, 1, 2])\n",
            "predicted tensor([0, 2, 0, 0, 0, 0, 2, 0, 0, 0, 2, 0, 0, 0, 0, 2, 0, 0, 2, 0, 0, 0, 0, 0,\n",
            "        0, 0, 0, 2, 0, 2])\n",
            "label tensor([1, 2, 2, 2, 1, 2, 0, 0, 2, 0, 0, 0, 1, 1, 1, 2, 0, 1, 2, 0, 0, 1, 2, 0,\n",
            "        1, 0, 2, 1, 0, 0])\n",
            "predicted tensor([0, 0, 0, 0, 0, 0, 0, 0, 0, 0, 0, 0, 0, 0, 0, 0, 0, 0, 2, 0, 0, 0, 2, 0,\n",
            "        0, 0, 2, 0, 0, 0])\n",
            "Test Epoch: 14  Loss: 2.012| Acc:0.500\n",
            "Train Epoch: 15  Loss: 0.009| Acc:0.996\n",
            "label tensor([0, 0, 1, 2, 2, 2, 0, 0, 2, 1, 0, 1, 0, 2, 0, 2, 2, 0, 1, 1, 2, 1, 1, 1,\n",
            "        1, 0, 0, 1, 0, 0])\n",
            "predicted tensor([0, 0, 0, 2, 2, 2, 0, 0, 2, 1, 0, 0, 0, 2, 0, 2, 2, 0, 0, 0, 2, 0, 0, 0,\n",
            "        0, 0, 0, 0, 0, 0])\n",
            "label tensor([2, 2, 0, 2, 1, 2, 0, 1, 1, 2, 2, 1, 1, 0, 1, 0, 2, 2, 2, 0, 2, 0, 2, 0,\n",
            "        2, 0, 1, 1, 1, 1])\n",
            "predicted tensor([2, 2, 0, 2, 0, 2, 0, 0, 0, 2, 2, 0, 0, 0, 0, 0, 2, 2, 0, 0, 2, 0, 2, 0,\n",
            "        0, 0, 0, 0, 0, 0])\n",
            "Test Epoch: 15  Loss: 1.210| Acc:0.650\n",
            "Train Epoch: 16  Loss: 0.001| Acc:1.000\n",
            "label tensor([0, 1, 0, 0, 1, 1, 1, 2, 1, 2, 0, 1, 1, 1, 2, 2, 1, 2, 2, 2, 0, 2, 0, 2,\n",
            "        1, 0, 0, 1, 0, 2])\n",
            "predicted tensor([0, 1, 0, 0, 1, 1, 1, 2, 1, 2, 0, 1, 1, 1, 2, 2, 1, 2, 2, 2, 0, 2, 0, 2,\n",
            "        1, 0, 0, 0, 0, 2])\n",
            "label tensor([0, 1, 0, 1, 2, 0, 2, 1, 0, 2, 0, 1, 1, 0, 2, 2, 2, 1, 2, 2, 0, 1, 1, 0,\n",
            "        0, 0, 0, 1, 2, 2])\n",
            "predicted tensor([0, 1, 0, 1, 2, 0, 2, 1, 0, 2, 0, 1, 1, 0, 2, 2, 2, 1, 2, 2, 0, 1, 1, 0,\n",
            "        0, 0, 0, 1, 2, 2])\n",
            "Test Epoch: 16  Loss: 0.010| Acc:0.983\n",
            "Train Epoch: 17  Loss: 0.001| Acc:1.000\n",
            "label tensor([0, 1, 0, 0, 1, 1, 0, 1, 1, 2, 1, 0, 2, 2, 0, 2, 0, 1, 2, 2, 0, 2, 2, 2,\n",
            "        2, 0, 1, 0, 2, 2])\n",
            "predicted tensor([0, 1, 0, 0, 1, 1, 0, 1, 1, 2, 1, 0, 2, 2, 0, 2, 0, 1, 2, 2, 0, 2, 2, 2,\n",
            "        2, 0, 1, 0, 2, 2])\n",
            "label tensor([1, 1, 1, 2, 0, 1, 0, 0, 0, 1, 2, 2, 2, 1, 1, 0, 2, 0, 0, 0, 0, 2, 2, 1,\n",
            "        1, 0, 1, 2, 1, 1])\n",
            "predicted tensor([1, 1, 1, 2, 0, 1, 0, 0, 0, 1, 2, 2, 2, 1, 1, 0, 2, 0, 0, 0, 0, 2, 2, 1,\n",
            "        1, 0, 1, 2, 1, 1])\n",
            "Test Epoch: 17  Loss: 0.011| Acc:1.000\n",
            "Train Epoch: 18  Loss: 0.001| Acc:0.996\n",
            "label tensor([2, 2, 2, 0, 0, 1, 2, 1, 2, 1, 0, 2, 1, 1, 2, 1, 0, 0, 2, 0, 0, 1, 1, 0,\n",
            "        2, 0, 2, 1, 0, 1])\n",
            "predicted tensor([2, 2, 2, 0, 0, 1, 0, 1, 2, 1, 0, 2, 0, 1, 2, 1, 0, 0, 2, 0, 0, 1, 1, 0,\n",
            "        2, 0, 2, 1, 0, 1])\n",
            "label tensor([2, 1, 1, 1, 0, 2, 0, 1, 1, 1, 2, 1, 1, 0, 2, 0, 2, 2, 0, 1, 0, 0, 2, 2,\n",
            "        2, 0, 0, 0, 1, 2])\n",
            "predicted tensor([2, 1, 1, 1, 0, 2, 0, 1, 1, 1, 2, 1, 1, 0, 2, 0, 2, 2, 0, 1, 0, 0, 2, 2,\n",
            "        2, 0, 0, 0, 1, 2])\n",
            "Test Epoch: 18  Loss: 0.001| Acc:0.967\n",
            "Train Epoch: 19  Loss: 0.610| Acc:0.983\n",
            "label tensor([1, 2, 1, 1, 2, 1, 0, 2, 2, 1, 1, 0, 0, 1, 0, 0, 2, 2, 2, 0, 1, 2, 2, 0,\n",
            "        1, 1, 2, 0, 0, 2])\n",
            "predicted tensor([1, 2, 1, 1, 2, 1, 0, 2, 2, 1, 1, 0, 0, 1, 0, 0, 2, 2, 2, 0, 1, 0, 2, 0,\n",
            "        1, 1, 2, 0, 0, 2])\n",
            "label tensor([0, 0, 1, 2, 1, 2, 2, 2, 2, 2, 1, 0, 1, 0, 0, 1, 1, 1, 0, 0, 1, 0, 2, 0,\n",
            "        0, 1, 0, 1, 2, 2])\n",
            "predicted tensor([0, 0, 1, 2, 1, 2, 2, 2, 2, 2, 1, 0, 1, 0, 0, 1, 1, 1, 0, 0, 1, 0, 2, 0,\n",
            "        0, 1, 0, 1, 2, 2])\n",
            "Test Epoch: 19  Loss: 0.002| Acc:0.983\n",
            "Train Epoch: 20  Loss: 0.025| Acc:0.983\n",
            "label tensor([1, 0, 2, 2, 0, 1, 1, 1, 0, 2, 0, 1, 2, 1, 2, 1, 2, 1, 0, 2, 1, 2, 0, 2,\n",
            "        2, 0, 1, 0, 1, 2])\n",
            "predicted tensor([1, 0, 2, 2, 0, 1, 1, 1, 0, 2, 0, 1, 2, 1, 2, 1, 2, 1, 0, 2, 1, 2, 0, 2,\n",
            "        2, 0, 1, 0, 1, 2])\n",
            "label tensor([0, 1, 0, 2, 0, 0, 1, 1, 1, 0, 2, 0, 0, 2, 2, 2, 2, 2, 2, 0, 0, 1, 1, 1,\n",
            "        0, 0, 1, 1, 2, 0])\n",
            "predicted tensor([0, 0, 0, 0, 0, 0, 1, 1, 1, 0, 2, 0, 0, 2, 2, 2, 2, 2, 2, 0, 0, 1, 1, 1,\n",
            "        0, 0, 1, 1, 2, 0])\n",
            "Test Epoch: 20  Loss: 0.189| Acc:0.967\n"
          ],
          "name": "stdout"
        }
      ]
    },
    {
      "cell_type": "code",
      "metadata": {
        "colab": {
          "base_uri": "https://localhost:8080/"
        },
        "id": "TpFGxlHWIdIk",
        "outputId": "ac768255-4999-4c56-a16e-18d6807be7d9"
      },
      "source": [
        "model.load_state_dict(torch.load('/content/gdrive/My Drive/Fyp/FYP-RPI-RF-Sensing/dataset/1903resNet.pth'))"
      ],
      "execution_count": 13,
      "outputs": [
        {
          "output_type": "execute_result",
          "data": {
            "text/plain": [
              "<All keys matched successfully>"
            ]
          },
          "metadata": {
            "tags": []
          },
          "execution_count": 13
        }
      ]
    },
    {
      "cell_type": "code",
      "metadata": {
        "colab": {
          "base_uri": "https://localhost:8080/"
        },
        "id": "4cDZefVtAIum",
        "outputId": "94dd3739-1660-4bb3-c594-2d89bf40ec16"
      },
      "source": [
        "for epoch in range(20, 30):\n",
        "    total=0\n",
        "    correct=0\n",
        "    model.train()\n",
        "    for batch_idx, (data, target) in enumerate(train_loader):\n",
        "\n",
        "        if torch.cuda.is_available():\n",
        "            data=data.cuda()\n",
        "            target=target.cuda()\n",
        "\n",
        "        optimizer.zero_grad()\n",
        "        output = model(data.repeat(1, 3, 1, 1))\n",
        "        # print('output', output)\n",
        "        # print('target', target)\n",
        "\n",
        "        loss = criterion(output, torch.max(target, 1)[1])\n",
        "        loss.backward()\n",
        "        optimizer.step()\n",
        "\n",
        "        #accuracy\n",
        "        # _, predicted = torch.max(output.data, 1)\n",
        "        # total += target.size(0)\n",
        "        # correct += (predicted == target).sum().item()\n",
        "        _, label = torch.max(target, 1)\n",
        "        _, predicted = torch.max(output, 1)\n",
        "        comparison_tensor = torch.eq(label, predicted).long()\n",
        "        correct += torch.count_nonzero(comparison_tensor)\n",
        "        total += comparison_tensor.shape[0]\n",
        "\n",
        "    \n",
        "    print('Train Epoch: {}  Loss: {:.3f}| Acc:{:.3f}'.format(epoch+1, loss.item(),correct / total))\n",
        "    torch.save(model.state_dict(), '/content/gdrive/My Drive/Fyp/FYP-RPI-RF-Sensing/dataset/1903resNet.pth')\n",
        "    \n",
        "    model.eval()\n",
        "    total = 0\n",
        "    correct = 0\n",
        "    with torch.no_grad():\n",
        "        for batch_idx, (data, target) in enumerate(validation_loader):\n",
        "            if torch.cuda.is_available():\n",
        "                data=data.cuda()\n",
        "                target=target.cuda()\n",
        "\n",
        "            output = model(data.repeat(1, 3, 1, 1))\n",
        "            loss = criterion(output, torch.max(target, 1)[1])\n",
        "            # _, predicted = torch.max(output.data, 1)\n",
        "            # total += target.size(0)\n",
        "            # correct += (predicted == target).sum().item()\n",
        "            _, label = torch.max(target, 1)\n",
        "            _, predicted = torch.max(output, 1)\n",
        "            print('label', label)\n",
        "            print('predicted', predicted)\n",
        "            comparison_tensor = torch.eq(label, predicted).long()\n",
        "            correct += torch.count_nonzero(comparison_tensor)\n",
        "            total += comparison_tensor.shape[0]\n",
        "    # print('Test : Loss: {:.3f}, Acc:{:.3f}\\n'.format(loss, correct / len(validation_loader.dataset)))\n",
        "    print('Test Epoch: {}  Loss: {:.3f}| Acc:{:.3f}'.format(epoch+1, loss.item(),correct / total))"
      ],
      "execution_count": 16,
      "outputs": [
        {
          "output_type": "stream",
          "text": [
            "Train Epoch: 21  Loss: 0.157| Acc:0.983\n",
            "label tensor([2, 2, 0, 2, 1, 1, 0, 0, 1, 2, 2, 1, 1, 2, 0, 2, 0, 1, 2, 0, 0, 0, 0, 1,\n",
            "        0, 0, 1, 2, 0, 1])\n",
            "predicted tensor([0, 2, 0, 2, 1, 1, 0, 0, 1, 2, 2, 1, 1, 2, 0, 2, 0, 1, 2, 0, 0, 0, 0, 1,\n",
            "        0, 0, 1, 2, 0, 1])\n",
            "label tensor([2, 0, 2, 2, 0, 0, 0, 2, 0, 2, 2, 1, 1, 1, 1, 1, 2, 1, 0, 0, 1, 0, 2, 2,\n",
            "        2, 1, 1, 2, 1, 1])\n",
            "predicted tensor([2, 0, 2, 2, 0, 0, 0, 2, 0, 2, 2, 1, 1, 1, 1, 1, 0, 1, 0, 0, 1, 0, 2, 2,\n",
            "        2, 1, 1, 2, 1, 1])\n",
            "Test Epoch: 21  Loss: 0.160| Acc:0.967\n",
            "Train Epoch: 22  Loss: 0.004| Acc:0.996\n",
            "label tensor([2, 1, 0, 1, 1, 1, 1, 2, 0, 2, 2, 2, 2, 2, 0, 0, 2, 0, 2, 2, 1, 1, 2, 2,\n",
            "        0, 1, 1, 0, 1, 2])\n",
            "predicted tensor([2, 1, 0, 1, 1, 1, 1, 2, 0, 2, 2, 2, 2, 2, 0, 0, 2, 0, 2, 2, 1, 1, 2, 2,\n",
            "        0, 1, 1, 0, 1, 2])\n",
            "label tensor([1, 1, 1, 0, 2, 0, 1, 0, 1, 0, 2, 1, 0, 2, 0, 0, 1, 1, 0, 0, 0, 2, 1, 0,\n",
            "        0, 2, 0, 2, 1, 2])\n",
            "predicted tensor([1, 1, 1, 0, 2, 0, 1, 0, 0, 0, 2, 1, 0, 2, 0, 0, 1, 1, 0, 0, 0, 2, 1, 0,\n",
            "        0, 2, 0, 2, 1, 2])\n",
            "Test Epoch: 22  Loss: 0.043| Acc:0.983\n",
            "Train Epoch: 23  Loss: 0.331| Acc:0.962\n",
            "label tensor([0, 2, 0, 1, 2, 2, 0, 2, 2, 0, 1, 1, 0, 2, 1, 1, 0, 0, 2, 2, 0, 2, 2, 2,\n",
            "        1, 2, 0, 1, 0, 2])\n",
            "predicted tensor([0, 2, 0, 1, 2, 2, 0, 2, 2, 0, 1, 1, 0, 2, 1, 1, 0, 0, 2, 2, 0, 2, 2, 2,\n",
            "        1, 2, 0, 1, 0, 2])\n",
            "label tensor([1, 2, 0, 0, 1, 1, 0, 1, 0, 2, 0, 0, 1, 2, 1, 1, 0, 1, 2, 0, 2, 1, 0, 1,\n",
            "        0, 2, 2, 1, 1, 1])\n",
            "predicted tensor([1, 2, 0, 0, 1, 1, 0, 1, 0, 2, 0, 0, 1, 2, 1, 1, 0, 1, 2, 0, 2, 1, 0, 1,\n",
            "        0, 2, 2, 1, 1, 1])\n",
            "Test Epoch: 23  Loss: 0.005| Acc:1.000\n",
            "Train Epoch: 24  Loss: 0.002| Acc:1.000\n",
            "label tensor([1, 0, 0, 0, 2, 2, 0, 0, 2, 0, 1, 0, 2, 2, 2, 1, 1, 1, 1, 2, 0, 2, 1, 2,\n",
            "        1, 0, 2, 2, 1, 0])\n",
            "predicted tensor([0, 0, 0, 0, 2, 2, 0, 0, 2, 0, 1, 0, 2, 2, 2, 1, 1, 1, 1, 2, 0, 2, 1, 2,\n",
            "        1, 0, 2, 2, 1, 0])\n",
            "label tensor([2, 2, 1, 1, 2, 1, 0, 0, 1, 1, 0, 2, 0, 1, 0, 0, 0, 1, 1, 2, 0, 1, 1, 2,\n",
            "        0, 2, 2, 1, 0, 2])\n",
            "predicted tensor([2, 2, 1, 1, 2, 1, 0, 0, 1, 1, 0, 2, 0, 1, 0, 0, 0, 1, 1, 2, 0, 1, 1, 2,\n",
            "        0, 2, 2, 1, 0, 2])\n",
            "Test Epoch: 24  Loss: 0.013| Acc:0.983\n",
            "Train Epoch: 25  Loss: 0.002| Acc:0.996\n",
            "label tensor([0, 2, 2, 2, 0, 1, 2, 2, 1, 2, 0, 1, 1, 1, 1, 0, 1, 0, 0, 1, 2, 2, 0, 2,\n",
            "        1, 2, 2, 2, 1, 1])\n",
            "predicted tensor([0, 2, 2, 2, 0, 1, 2, 2, 1, 2, 0, 1, 1, 1, 1, 0, 1, 0, 0, 1, 2, 2, 0, 2,\n",
            "        1, 2, 2, 2, 1, 1])\n",
            "label tensor([1, 0, 0, 1, 0, 1, 0, 0, 1, 0, 0, 2, 0, 1, 2, 2, 2, 2, 1, 2, 0, 0, 1, 0,\n",
            "        2, 2, 0, 1, 0, 1])\n",
            "predicted tensor([1, 0, 0, 1, 0, 1, 0, 0, 1, 0, 0, 2, 0, 1, 2, 2, 2, 2, 1, 2, 0, 0, 1, 0,\n",
            "        2, 2, 0, 1, 0, 1])\n",
            "Test Epoch: 25  Loss: 0.002| Acc:1.000\n",
            "Train Epoch: 26  Loss: 0.005| Acc:1.000\n",
            "label tensor([0, 1, 0, 2, 0, 2, 0, 1, 2, 1, 2, 0, 1, 2, 0, 0, 0, 2, 0, 2, 1, 1, 1, 0,\n",
            "        0, 1, 0, 0, 2, 2])\n",
            "predicted tensor([0, 1, 0, 2, 0, 2, 0, 1, 2, 1, 2, 0, 1, 2, 0, 0, 0, 2, 0, 2, 1, 1, 1, 0,\n",
            "        0, 1, 0, 0, 2, 2])\n",
            "label tensor([2, 1, 2, 2, 2, 0, 0, 1, 0, 1, 1, 2, 1, 1, 2, 1, 0, 1, 2, 2, 2, 0, 1, 1,\n",
            "        2, 1, 0, 1, 0, 2])\n",
            "predicted tensor([2, 1, 2, 2, 2, 0, 0, 1, 0, 1, 1, 2, 1, 1, 2, 1, 0, 1, 2, 2, 2, 0, 1, 1,\n",
            "        2, 1, 0, 1, 0, 2])\n",
            "Test Epoch: 26  Loss: 0.001| Acc:1.000\n",
            "Train Epoch: 27  Loss: 0.000| Acc:1.000\n",
            "label tensor([0, 1, 2, 2, 1, 1, 1, 1, 2, 0, 0, 1, 2, 1, 1, 1, 0, 0, 2, 2, 0, 1, 0, 2,\n",
            "        2, 2, 1, 0, 1, 2])\n",
            "predicted tensor([0, 1, 2, 2, 1, 1, 1, 1, 2, 0, 0, 1, 2, 1, 1, 1, 0, 0, 2, 2, 0, 1, 0, 2,\n",
            "        2, 2, 1, 0, 1, 2])\n",
            "label tensor([1, 2, 1, 2, 0, 2, 0, 0, 1, 0, 0, 0, 2, 0, 1, 2, 2, 0, 1, 1, 0, 0, 2, 0,\n",
            "        2, 1, 2, 0, 2, 1])\n",
            "predicted tensor([1, 2, 1, 2, 0, 2, 0, 0, 1, 0, 0, 0, 2, 0, 1, 2, 2, 0, 1, 1, 0, 0, 2, 0,\n",
            "        2, 1, 2, 0, 2, 1])\n",
            "Test Epoch: 27  Loss: 0.000| Acc:1.000\n",
            "Train Epoch: 28  Loss: 0.001| Acc:1.000\n",
            "label tensor([2, 0, 2, 2, 1, 0, 2, 2, 0, 1, 2, 2, 1, 1, 0, 0, 2, 0, 1, 0, 0, 0, 2, 2,\n",
            "        2, 0, 0, 0, 2, 0])\n",
            "predicted tensor([2, 0, 2, 2, 1, 0, 2, 2, 0, 1, 2, 2, 1, 1, 0, 0, 2, 0, 1, 0, 0, 0, 2, 2,\n",
            "        2, 0, 0, 0, 2, 0])\n",
            "label tensor([1, 1, 1, 0, 2, 1, 2, 0, 0, 0, 0, 2, 1, 1, 1, 2, 2, 1, 1, 0, 1, 1, 1, 0,\n",
            "        2, 2, 1, 1, 2, 1])\n",
            "predicted tensor([1, 1, 1, 0, 2, 1, 2, 0, 0, 0, 0, 2, 1, 1, 1, 2, 2, 1, 1, 0, 1, 1, 1, 0,\n",
            "        2, 2, 1, 1, 2, 1])\n",
            "Test Epoch: 28  Loss: 0.000| Acc:1.000\n",
            "Train Epoch: 29  Loss: 0.003| Acc:1.000\n",
            "label tensor([1, 2, 2, 1, 2, 2, 2, 1, 0, 1, 2, 2, 0, 2, 1, 0, 2, 1, 1, 0, 0, 1, 2, 0,\n",
            "        0, 2, 1, 0, 0, 2])\n",
            "predicted tensor([1, 2, 2, 1, 2, 2, 2, 1, 0, 1, 2, 2, 0, 2, 1, 0, 2, 1, 1, 0, 0, 1, 2, 0,\n",
            "        0, 2, 1, 0, 0, 2])\n",
            "label tensor([1, 2, 2, 0, 2, 0, 1, 1, 0, 0, 2, 0, 1, 1, 1, 1, 2, 1, 0, 2, 1, 2, 0, 1,\n",
            "        0, 0, 1, 2, 0, 0])\n",
            "predicted tensor([1, 2, 2, 0, 2, 0, 1, 1, 0, 0, 2, 0, 1, 1, 1, 1, 2, 1, 0, 2, 1, 2, 0, 1,\n",
            "        0, 0, 1, 2, 0, 0])\n",
            "Test Epoch: 29  Loss: 0.000| Acc:1.000\n",
            "Train Epoch: 30  Loss: 0.001| Acc:1.000\n",
            "label tensor([1, 1, 1, 0, 0, 1, 2, 1, 0, 2, 0, 0, 0, 0, 1, 1, 0, 2, 0, 0, 0, 2, 2, 2,\n",
            "        0, 0, 2, 1, 1, 1])\n",
            "predicted tensor([1, 1, 1, 0, 0, 1, 2, 1, 0, 2, 0, 0, 0, 0, 1, 1, 0, 2, 0, 0, 0, 2, 2, 2,\n",
            "        0, 0, 2, 1, 1, 1])\n",
            "label tensor([2, 1, 2, 2, 1, 1, 2, 0, 0, 2, 1, 2, 1, 2, 0, 0, 2, 0, 1, 0, 1, 1, 0, 1,\n",
            "        2, 1, 2, 2, 2, 2])\n",
            "predicted tensor([2, 1, 2, 2, 1, 1, 2, 0, 0, 2, 1, 2, 1, 2, 0, 0, 2, 0, 1, 0, 1, 1, 0, 1,\n",
            "        2, 1, 2, 2, 2, 2])\n",
            "Test Epoch: 30  Loss: 0.002| Acc:1.000\n"
          ],
          "name": "stdout"
        }
      ]
    },
    {
      "cell_type": "code",
      "metadata": {
        "id": "RbB8C3RxAM_E"
      },
      "source": [
        ""
      ],
      "execution_count": null,
      "outputs": []
    }
  ]
}