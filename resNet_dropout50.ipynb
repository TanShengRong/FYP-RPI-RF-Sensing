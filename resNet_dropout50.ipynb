{
  "nbformat": 4,
  "nbformat_minor": 0,
  "metadata": {
    "language_info": {
      "codemirror_mode": {
        "name": "ipython",
        "version": 3
      },
      "file_extension": ".py",
      "mimetype": "text/x-python",
      "name": "python",
      "nbconvert_exporter": "python",
      "pygments_lexer": "ipython3",
      "version": "3.7.3-final"
    },
    "orig_nbformat": 2,
    "kernelspec": {
      "name": "Python 3.7.3 32-bit",
      "display_name": "Python 3.7.3 32-bit",
      "metadata": {
        "interpreter": {
          "hash": "31f2aee4e71d21fbe5cf8b01ff0e069b9275f58929596ceb00d14d90e3e16cd6"
        }
      }
    },
    "colab": {
      "name": "resNet.ipynb",
      "provenance": [],
      "collapsed_sections": [],
      "toc_visible": true
    },
    "widgets": {
      "application/vnd.jupyter.widget-state+json": {
        "fd50650a2d5246e69ee77a7152185b33": {
          "model_module": "@jupyter-widgets/controls",
          "model_name": "HBoxModel",
          "state": {
            "_view_name": "HBoxView",
            "_dom_classes": [],
            "_model_name": "HBoxModel",
            "_view_module": "@jupyter-widgets/controls",
            "_model_module_version": "1.5.0",
            "_view_count": null,
            "_view_module_version": "1.5.0",
            "box_style": "",
            "layout": "IPY_MODEL_ba941b6daf784c9fa8174643519a19e0",
            "_model_module": "@jupyter-widgets/controls",
            "children": [
              "IPY_MODEL_21087f35672546b083ede1bd0b0b59a8",
              "IPY_MODEL_a16ce119bf1e40179d4ac87283c8b1bc"
            ]
          }
        },
        "ba941b6daf784c9fa8174643519a19e0": {
          "model_module": "@jupyter-widgets/base",
          "model_name": "LayoutModel",
          "state": {
            "_view_name": "LayoutView",
            "grid_template_rows": null,
            "right": null,
            "justify_content": null,
            "_view_module": "@jupyter-widgets/base",
            "overflow": null,
            "_model_module_version": "1.2.0",
            "_view_count": null,
            "flex_flow": null,
            "width": null,
            "min_width": null,
            "border": null,
            "align_items": null,
            "bottom": null,
            "_model_module": "@jupyter-widgets/base",
            "top": null,
            "grid_column": null,
            "overflow_y": null,
            "overflow_x": null,
            "grid_auto_flow": null,
            "grid_area": null,
            "grid_template_columns": null,
            "flex": null,
            "_model_name": "LayoutModel",
            "justify_items": null,
            "grid_row": null,
            "max_height": null,
            "align_content": null,
            "visibility": null,
            "align_self": null,
            "height": null,
            "min_height": null,
            "padding": null,
            "grid_auto_rows": null,
            "grid_gap": null,
            "max_width": null,
            "order": null,
            "_view_module_version": "1.2.0",
            "grid_template_areas": null,
            "object_position": null,
            "object_fit": null,
            "grid_auto_columns": null,
            "margin": null,
            "display": null,
            "left": null
          }
        },
        "21087f35672546b083ede1bd0b0b59a8": {
          "model_module": "@jupyter-widgets/controls",
          "model_name": "FloatProgressModel",
          "state": {
            "_view_name": "ProgressView",
            "style": "IPY_MODEL_c624c2e553a9431c8308391c7c880c9b",
            "_dom_classes": [],
            "description": "100%",
            "_model_name": "FloatProgressModel",
            "bar_style": "success",
            "max": 102502400,
            "_view_module": "@jupyter-widgets/controls",
            "_model_module_version": "1.5.0",
            "value": 102502400,
            "_view_count": null,
            "_view_module_version": "1.5.0",
            "orientation": "horizontal",
            "min": 0,
            "description_tooltip": null,
            "_model_module": "@jupyter-widgets/controls",
            "layout": "IPY_MODEL_e20ebc025e6c4b2e99494157fdd4c0d5"
          }
        },
        "a16ce119bf1e40179d4ac87283c8b1bc": {
          "model_module": "@jupyter-widgets/controls",
          "model_name": "HTMLModel",
          "state": {
            "_view_name": "HTMLView",
            "style": "IPY_MODEL_29c2e934a8104658a67f15824e6cf86d",
            "_dom_classes": [],
            "description": "",
            "_model_name": "HTMLModel",
            "placeholder": "​",
            "_view_module": "@jupyter-widgets/controls",
            "_model_module_version": "1.5.0",
            "value": " 97.8M/97.8M [00:03&lt;00:00, 28.8MB/s]",
            "_view_count": null,
            "_view_module_version": "1.5.0",
            "description_tooltip": null,
            "_model_module": "@jupyter-widgets/controls",
            "layout": "IPY_MODEL_f3c6b4d24eb44c3dbd91ed48013d2971"
          }
        },
        "c624c2e553a9431c8308391c7c880c9b": {
          "model_module": "@jupyter-widgets/controls",
          "model_name": "ProgressStyleModel",
          "state": {
            "_view_name": "StyleView",
            "_model_name": "ProgressStyleModel",
            "description_width": "initial",
            "_view_module": "@jupyter-widgets/base",
            "_model_module_version": "1.5.0",
            "_view_count": null,
            "_view_module_version": "1.2.0",
            "bar_color": null,
            "_model_module": "@jupyter-widgets/controls"
          }
        },
        "e20ebc025e6c4b2e99494157fdd4c0d5": {
          "model_module": "@jupyter-widgets/base",
          "model_name": "LayoutModel",
          "state": {
            "_view_name": "LayoutView",
            "grid_template_rows": null,
            "right": null,
            "justify_content": null,
            "_view_module": "@jupyter-widgets/base",
            "overflow": null,
            "_model_module_version": "1.2.0",
            "_view_count": null,
            "flex_flow": null,
            "width": null,
            "min_width": null,
            "border": null,
            "align_items": null,
            "bottom": null,
            "_model_module": "@jupyter-widgets/base",
            "top": null,
            "grid_column": null,
            "overflow_y": null,
            "overflow_x": null,
            "grid_auto_flow": null,
            "grid_area": null,
            "grid_template_columns": null,
            "flex": null,
            "_model_name": "LayoutModel",
            "justify_items": null,
            "grid_row": null,
            "max_height": null,
            "align_content": null,
            "visibility": null,
            "align_self": null,
            "height": null,
            "min_height": null,
            "padding": null,
            "grid_auto_rows": null,
            "grid_gap": null,
            "max_width": null,
            "order": null,
            "_view_module_version": "1.2.0",
            "grid_template_areas": null,
            "object_position": null,
            "object_fit": null,
            "grid_auto_columns": null,
            "margin": null,
            "display": null,
            "left": null
          }
        },
        "29c2e934a8104658a67f15824e6cf86d": {
          "model_module": "@jupyter-widgets/controls",
          "model_name": "DescriptionStyleModel",
          "state": {
            "_view_name": "StyleView",
            "_model_name": "DescriptionStyleModel",
            "description_width": "",
            "_view_module": "@jupyter-widgets/base",
            "_model_module_version": "1.5.0",
            "_view_count": null,
            "_view_module_version": "1.2.0",
            "_model_module": "@jupyter-widgets/controls"
          }
        },
        "f3c6b4d24eb44c3dbd91ed48013d2971": {
          "model_module": "@jupyter-widgets/base",
          "model_name": "LayoutModel",
          "state": {
            "_view_name": "LayoutView",
            "grid_template_rows": null,
            "right": null,
            "justify_content": null,
            "_view_module": "@jupyter-widgets/base",
            "overflow": null,
            "_model_module_version": "1.2.0",
            "_view_count": null,
            "flex_flow": null,
            "width": null,
            "min_width": null,
            "border": null,
            "align_items": null,
            "bottom": null,
            "_model_module": "@jupyter-widgets/base",
            "top": null,
            "grid_column": null,
            "overflow_y": null,
            "overflow_x": null,
            "grid_auto_flow": null,
            "grid_area": null,
            "grid_template_columns": null,
            "flex": null,
            "_model_name": "LayoutModel",
            "justify_items": null,
            "grid_row": null,
            "max_height": null,
            "align_content": null,
            "visibility": null,
            "align_self": null,
            "height": null,
            "min_height": null,
            "padding": null,
            "grid_auto_rows": null,
            "grid_gap": null,
            "max_width": null,
            "order": null,
            "_view_module_version": "1.2.0",
            "grid_template_areas": null,
            "object_position": null,
            "object_fit": null,
            "grid_auto_columns": null,
            "margin": null,
            "display": null,
            "left": null
          }
        }
      }
    }
  },
  "cells": [
    {
      "cell_type": "markdown",
      "metadata": {
        "id": "pQRl369Kxgts"
      },
      "source": [
        "# Environment set-up"
      ]
    },
    {
      "cell_type": "code",
      "metadata": {
        "id": "m4z0AYMcxo6G",
        "colab": {
          "base_uri": "https://localhost:8080/"
        },
        "outputId": "1be19996-3fea-4d43-b3f4-b540e24bc062"
      },
      "source": [
        "from google.colab import drive\n",
        "drive.mount('/content/gdrive')"
      ],
      "execution_count": 2,
      "outputs": [
        {
          "output_type": "stream",
          "text": [
            "Drive already mounted at /content/gdrive; to attempt to forcibly remount, call drive.mount(\"/content/gdrive\", force_remount=True).\n"
          ],
          "name": "stdout"
        }
      ]
    },
    {
      "cell_type": "code",
      "metadata": {
        "id": "YTPLRlbSynbN",
        "colab": {
          "base_uri": "https://localhost:8080/"
        },
        "outputId": "1c73b5ae-9973-4a0a-85dd-851985edf2a6"
      },
      "source": [
        "import pathlib\n",
        "path = pathlib.Path('/content/gdrive/MyDrive/Fyp')\n",
        "try:\n",
        "    path.mkdir()\n",
        "    %cd '/content/gdrive/MyDrive/Fyp'\n",
        "    ! git clone https://github.com/TanShengRong/FYP-RPI-RF-Sensing\n",
        "    %cd './FYP-RPI-RF-Sensing/dataset/'\n",
        "    print('Project folder created in your GoogleDrive')\n",
        "except FileExistsError:\n",
        "    %cd '/content/gdrive/MyDrive/Fyp/FYP-RPI-RF-Sensing/'\n",
        "    ! git pull\n",
        "    %cd './dataset_v2/'"
      ],
      "execution_count": 3,
      "outputs": [
        {
          "output_type": "stream",
          "text": [
            "/content/gdrive/MyDrive/Fyp/FYP-RPI-RF-Sensing\n",
            "Already up to date.\n",
            "/content/gdrive/MyDrive/Fyp/FYP-RPI-RF-Sensing/dataset_v2\n"
          ],
          "name": "stdout"
        }
      ]
    },
    {
      "cell_type": "code",
      "metadata": {
        "id": "QLYSiz7sx9AU",
        "colab": {
          "base_uri": "https://localhost:8080/",
          "height": 37
        },
        "outputId": "c2acf29e-e3bc-4ee1-8fa8-4eafd4d1c6bf"
      },
      "source": [
        "pwd"
      ],
      "execution_count": 4,
      "outputs": [
        {
          "output_type": "execute_result",
          "data": {
            "application/vnd.google.colaboratory.intrinsic+json": {
              "type": "string"
            },
            "text/plain": [
              "'/content/gdrive/MyDrive/Fyp/FYP-RPI-RF-Sensing/dataset_v2'"
            ]
          },
          "metadata": {
            "tags": []
          },
          "execution_count": 4
        }
      ]
    },
    {
      "cell_type": "code",
      "metadata": {
        "id": "hNhrYjZl1aVQ",
        "colab": {
          "base_uri": "https://localhost:8080/"
        },
        "outputId": "b899a995-5d3c-477b-ca8a-1bd47876158c"
      },
      "source": [
        "ls"
      ],
      "execution_count": 5,
      "outputs": [
        {
          "output_type": "stream",
          "text": [
            "\u001b[0m\u001b[01;34mgestureA\u001b[0m/  \u001b[01;34mgestureC\u001b[0m/  \u001b[01;34mgestureE\u001b[0m/\n"
          ],
          "name": "stdout"
        }
      ]
    },
    {
      "cell_type": "code",
      "metadata": {
        "colab": {
          "base_uri": "https://localhost:8080/"
        },
        "id": "BzZ_lcl48BeI",
        "outputId": "59f51d1e-92cd-47bf-e513-e208904c0829"
      },
      "source": [
        "!nvidia-smi"
      ],
      "execution_count": 6,
      "outputs": [
        {
          "output_type": "stream",
          "text": [
            "NVIDIA-SMI has failed because it couldn't communicate with the NVIDIA driver. Make sure that the latest NVIDIA driver is installed and running.\n",
            "\n"
          ],
          "name": "stdout"
        }
      ]
    },
    {
      "cell_type": "markdown",
      "metadata": {
        "id": "87Bzx4TmlRsC"
      },
      "source": [
        "# Deep Learning"
      ]
    },
    {
      "cell_type": "markdown",
      "metadata": {
        "id": "nr5DVMSEuTpb"
      },
      "source": [
        "## Dataloading"
      ]
    },
    {
      "cell_type": "code",
      "metadata": {
        "id": "kHdLYNKMlcnb"
      },
      "source": [
        "#=== Params ===#\n",
        "DATASET_DIR = '/content/gdrive/MyDrive/Fyp/FYP-RPI-RF-Sensing/dataset_v2/'\n",
        "GESTURE_DEGREE = \"degree0\"\n",
        "DATA_ROW_LOWER_LIMIT = 0\n",
        "DATA_ROW_UPPER_LIMIT = 460 #540 # 12s -> 600 (3 transitions)\n",
        "BATCH_SIZE = 30\n",
        "NUM_WORKERS = 0 # 2; 0 is default\n",
        "SHUFFLE = True\n",
        "# cols = [i for i in range(138)]\n",
        "cols = [i for i in range(141)]\n",
        "VALIDATION_SPLIT = .2\n",
        "RANDOM_SEED = 42\n",
        "GESTURE_PER_FOLDER = 100"
      ],
      "execution_count": 7,
      "outputs": []
    },
    {
      "cell_type": "code",
      "metadata": {
        "colab": {
          "base_uri": "https://localhost:8080/"
        },
        "id": "uTldK_u37-3z",
        "outputId": "39136b44-6e2b-4913-bce8-1b4d6203ef86"
      },
      "source": [
        "import torch \n",
        "torch.cuda.empty_cache()\n",
        "torch.manual_seed(RANDOM_SEED)"
      ],
      "execution_count": 8,
      "outputs": [
        {
          "output_type": "execute_result",
          "data": {
            "text/plain": [
              "<torch._C.Generator at 0x7f3c4b23ac50>"
            ]
          },
          "metadata": {
            "tags": []
          },
          "execution_count": 8
        }
      ]
    },
    {
      "cell_type": "code",
      "metadata": {
        "id": "BrO7S1fJ84X7"
      },
      "source": [
        "#=== Dataloading ===#\n",
        "import os\n",
        "from torch.utils.data import Dataset\n",
        "import numpy as np\n",
        "from torch.utils.data import DataLoader\n",
        "\n",
        "\n",
        "class GestureDataset(Dataset):\n",
        "    def __init__(self, root_dir, gesture_per_folder, gesture_degree, transform=None):\n",
        "        \"\"\"\n",
        "        Args:\n",
        "            root_dir (string): Directory with all the images.\n",
        "            transform (callable, optional): Optional transform to be applied\n",
        "                on a sample.\n",
        "        \"\"\"\n",
        "        self.root_dir = root_dir\n",
        "        # self.root_dir = '/content/gdrive/MyDrive/Fyp/FYP-RPI-RF-Sensing/dataset/'\n",
        "        self.gesturePerFolder = gesture_per_folder # change this if increasing no. of sample per gesture per degree\n",
        "        self.gestureDegree = gesture_degree\n",
        "        self.transform = transform\n",
        "        self.gesture_list = self.getGestureList()\n",
        "    \n",
        "    def __len__(self):\n",
        "        return len(self.gesture_list) * self.gesturePerFolder\n",
        "        \n",
        "    def __getitem__(self, idx):\n",
        "        item_gesture_type_idx = idx // self.gesturePerFolder\n",
        "        item_gesture_type = self.gesture_list[item_gesture_type_idx],\n",
        "        item_idx = idx % self.gesturePerFolder\n",
        "        # print(item_gesture_type_idx, item_gesture_type[0], item_idx)\n",
        "        item_gesture_path = os.path.join(\n",
        "            self.root_dir,   \n",
        "            item_gesture_type[0],\n",
        "            self.gestureDegree,\n",
        "            str(item_idx+1) + \".csv\"\n",
        "            )\n",
        "        item_gesture_df = pd.read_csv(item_gesture_path, header=0) \n",
        "        if self.transform:\n",
        "            # real = item_gesture_df.iloc[ DATA_ROW_LOWER_LIMIT:DATA_ROW_UPPER_LIMIT, :138 ]\n",
        "            real = item_gesture_df.iloc[ DATA_ROW_LOWER_LIMIT:DATA_ROW_UPPER_LIMIT, :141 ]\n",
        "            real.columns = cols\n",
        "            # imag = item_gesture_df.iloc[ DATA_ROW_LOWER_LIMIT:DATA_ROW_UPPER_LIMIT, 138:277-1 ] * 1j\n",
        "            imag = item_gesture_df.iloc[ DATA_ROW_LOWER_LIMIT:DATA_ROW_UPPER_LIMIT, 141:282 ] * 1j\n",
        "            imag.columns = cols\n",
        "            comp = abs(real.add(imag, fill_value=(0)))\n",
        "            \n",
        "            features = comp.values\n",
        "            features = torch.FloatTensor(features)\n",
        "            features = features.view(1, DATA_ROW_UPPER_LIMIT-DATA_ROW_LOWER_LIMIT, item_gesture_df.shape[1]//2)\n",
        "        else: \n",
        "            features = item_gesture_df.iloc[ DATA_ROW_LOWER_LIMIT:DATA_ROW_UPPER_LIMIT, :]\n",
        "            features = torch.FloatTensor(features)\n",
        "            features = features.view(1, DATA_ROW_UPPER_LIMIT-DATA_ROW_LOWER_LIMIT, item_gesture_df.shape[1]//2)\n",
        "\n",
        "        targets = np.zeros(len(self.gesture_list))\n",
        "        targets[item_gesture_type_idx] = 1\n",
        "        targets = torch.FloatTensor(targets)\n",
        "\n",
        "        return features, targets\n",
        "        \n",
        "    def getGestureList(self):\n",
        "        gestureList = []\n",
        "        for _, dirnames, filenames in os.walk(self.root_dir):\n",
        "            if any(\"gesture\" in dirname for dirname in dirnames):\n",
        "                gestureList += dirnames\n",
        "        print(gestureList)\n",
        "        return gestureList"
      ],
      "execution_count": 9,
      "outputs": []
    },
    {
      "cell_type": "code",
      "metadata": {
        "colab": {
          "base_uri": "https://localhost:8080/"
        },
        "id": "z_yVrYNS_E2l",
        "outputId": "493a776e-a9f1-414e-aeb1-a18e6f465f0b"
      },
      "source": [
        "from torch.utils.data.sampler import SubsetRandomSampler\n",
        "\n",
        "#=== stratified sampling ===# https://discuss.pytorch.org/t/how-to-split-test-and-train-data-keeping-equal-proportions-of-each-class/21063\n",
        "dataset = GestureDataset(DATASET_DIR, GESTURE_PER_FOLDER, GESTURE_DEGREE, transform=True)\n",
        "dataset_size = len(dataset)\n",
        "no_of_gesture = len(dataset.gesture_list)\n",
        "\n",
        "indicesA = list(range(0, dataset_size//3))\n",
        "indicesC = list(range(dataset_size//3, dataset_size//3*2))\n",
        "indicesE = list(range(dataset_size//3*2, dataset_size))\n",
        "\n",
        "split = int(np.floor(VALIDATION_SPLIT * dataset_size//3))\n",
        "print(split)\n",
        "if SHUFFLE :\n",
        "    np.random.seed(RANDOM_SEED)\n",
        "    np.random.shuffle(indicesA)\n",
        "    np.random.shuffle(indicesC)\n",
        "    np.random.shuffle(indicesE)\n",
        "train_indicesA, val_indicesA = indicesA[split:], indicesA[:split]\n",
        "train_indicesC, val_indicesC = indicesC[split:], indicesC[:split]\n",
        "train_indicesE, val_indicesE = indicesE[split:], indicesE[:split]\n",
        "\n",
        "train_indices = train_indicesA + train_indicesC + train_indicesE\n",
        "val_indices = val_indicesA + val_indicesC + val_indicesE\n",
        "\n",
        "# Creating PT data samplers and loaders:\n",
        "train_sampler = SubsetRandomSampler(train_indices)\n",
        "valid_sampler = SubsetRandomSampler(val_indices)\n",
        "\n",
        "train_loader = DataLoader(dataset, batch_size=BATCH_SIZE, \n",
        "                          sampler=train_sampler)\n",
        "validation_loader = DataLoader(dataset, batch_size=BATCH_SIZE,\n",
        "                               sampler=valid_sampler)"
      ],
      "execution_count": 10,
      "outputs": [
        {
          "output_type": "stream",
          "text": [
            "['gestureA', 'gestureC', 'gestureE']\n",
            "20\n"
          ],
          "name": "stdout"
        }
      ]
    },
    {
      "cell_type": "code",
      "metadata": {
        "colab": {
          "base_uri": "https://localhost:8080/"
        },
        "id": "woUoc5cs9E2N",
        "outputId": "44884b5e-caed-417b-8b06-f44f0d7e09e6"
      },
      "source": [
        "import pandas as pd \n",
        "\n",
        "for i in enumerate(train_loader):\n",
        "    print(i[0], i[1][0].shape)\n",
        "for i in enumerate(validation_loader):\n",
        "    print(i[0], i[1][0].shape)"
      ],
      "execution_count": 11,
      "outputs": [
        {
          "output_type": "stream",
          "text": [
            "0 torch.Size([30, 1, 460, 141])\n",
            "1 torch.Size([30, 1, 460, 141])\n",
            "2 torch.Size([30, 1, 460, 141])\n",
            "3 torch.Size([30, 1, 460, 141])\n",
            "4 torch.Size([30, 1, 460, 141])\n",
            "5 torch.Size([30, 1, 460, 141])\n",
            "6 torch.Size([30, 1, 460, 141])\n",
            "7 torch.Size([30, 1, 460, 141])\n",
            "0 torch.Size([30, 1, 460, 141])\n",
            "1 torch.Size([30, 1, 460, 141])\n"
          ],
          "name": "stdout"
        }
      ]
    },
    {
      "cell_type": "markdown",
      "metadata": {
        "id": "WJ5cgAdGdD4E"
      },
      "source": [
        "# ResNet\n"
      ]
    },
    {
      "cell_type": "code",
      "metadata": {
        "colab": {
          "base_uri": "https://localhost:8080/",
          "height": 1000,
          "referenced_widgets": [
            "fd50650a2d5246e69ee77a7152185b33",
            "ba941b6daf784c9fa8174643519a19e0",
            "21087f35672546b083ede1bd0b0b59a8",
            "a16ce119bf1e40179d4ac87283c8b1bc",
            "c624c2e553a9431c8308391c7c880c9b",
            "e20ebc025e6c4b2e99494157fdd4c0d5",
            "29c2e934a8104658a67f15824e6cf86d",
            "f3c6b4d24eb44c3dbd91ed48013d2971"
          ]
        },
        "id": "ZE50KvuwdJIR",
        "outputId": "89dd0294-16ed-444d-c4bd-39003f6f1f2b"
      },
      "source": [
        "import torch\n",
        "import torch.nn as nn\n",
        "# model = torch.hub.load('pytorch/vision:v0.9.0', 'resnet18', pretrained=True)\n",
        "# or any of these variants\n",
        "# model = torch.hub.load('pytorch/vision:v0.9.0', 'resnet34', pretrained=True)\n",
        "model = torch.hub.load('pytorch/vision:v0.9.0', 'resnet50', pretrained=True)\n",
        "# model = torch.hub.load('pytorch/vision:v0.9.0', 'resnet101', pretrained=True)\n",
        "# model = torch.hub.load('pytorch/vision:v0.9.0', 'resnet152', pretrained=True)\n",
        "model.fc = nn.Sequential(\n",
        "    nn.Dropout(0.5),\n",
        "    nn.Linear(2048, 3)\n",
        ")\n",
        "model.eval()\n"
      ],
      "execution_count": 12,
      "outputs": [
        {
          "output_type": "stream",
          "text": [
            "Downloading: \"https://github.com/pytorch/vision/archive/v0.9.0.zip\" to /root/.cache/torch/hub/v0.9.0.zip\n",
            "Downloading: \"https://download.pytorch.org/models/resnet50-19c8e357.pth\" to /root/.cache/torch/hub/checkpoints/resnet50-19c8e357.pth\n"
          ],
          "name": "stderr"
        },
        {
          "output_type": "display_data",
          "data": {
            "application/vnd.jupyter.widget-view+json": {
              "model_id": "fd50650a2d5246e69ee77a7152185b33",
              "version_minor": 0,
              "version_major": 2
            },
            "text/plain": [
              "HBox(children=(FloatProgress(value=0.0, max=102502400.0), HTML(value='')))"
            ]
          },
          "metadata": {
            "tags": []
          }
        },
        {
          "output_type": "stream",
          "text": [
            "\n"
          ],
          "name": "stdout"
        },
        {
          "output_type": "execute_result",
          "data": {
            "text/plain": [
              "ResNet(\n",
              "  (conv1): Conv2d(3, 64, kernel_size=(7, 7), stride=(2, 2), padding=(3, 3), bias=False)\n",
              "  (bn1): BatchNorm2d(64, eps=1e-05, momentum=0.1, affine=True, track_running_stats=True)\n",
              "  (relu): ReLU(inplace=True)\n",
              "  (maxpool): MaxPool2d(kernel_size=3, stride=2, padding=1, dilation=1, ceil_mode=False)\n",
              "  (layer1): Sequential(\n",
              "    (0): Bottleneck(\n",
              "      (conv1): Conv2d(64, 64, kernel_size=(1, 1), stride=(1, 1), bias=False)\n",
              "      (bn1): BatchNorm2d(64, eps=1e-05, momentum=0.1, affine=True, track_running_stats=True)\n",
              "      (conv2): Conv2d(64, 64, kernel_size=(3, 3), stride=(1, 1), padding=(1, 1), bias=False)\n",
              "      (bn2): BatchNorm2d(64, eps=1e-05, momentum=0.1, affine=True, track_running_stats=True)\n",
              "      (conv3): Conv2d(64, 256, kernel_size=(1, 1), stride=(1, 1), bias=False)\n",
              "      (bn3): BatchNorm2d(256, eps=1e-05, momentum=0.1, affine=True, track_running_stats=True)\n",
              "      (relu): ReLU(inplace=True)\n",
              "      (downsample): Sequential(\n",
              "        (0): Conv2d(64, 256, kernel_size=(1, 1), stride=(1, 1), bias=False)\n",
              "        (1): BatchNorm2d(256, eps=1e-05, momentum=0.1, affine=True, track_running_stats=True)\n",
              "      )\n",
              "    )\n",
              "    (1): Bottleneck(\n",
              "      (conv1): Conv2d(256, 64, kernel_size=(1, 1), stride=(1, 1), bias=False)\n",
              "      (bn1): BatchNorm2d(64, eps=1e-05, momentum=0.1, affine=True, track_running_stats=True)\n",
              "      (conv2): Conv2d(64, 64, kernel_size=(3, 3), stride=(1, 1), padding=(1, 1), bias=False)\n",
              "      (bn2): BatchNorm2d(64, eps=1e-05, momentum=0.1, affine=True, track_running_stats=True)\n",
              "      (conv3): Conv2d(64, 256, kernel_size=(1, 1), stride=(1, 1), bias=False)\n",
              "      (bn3): BatchNorm2d(256, eps=1e-05, momentum=0.1, affine=True, track_running_stats=True)\n",
              "      (relu): ReLU(inplace=True)\n",
              "    )\n",
              "    (2): Bottleneck(\n",
              "      (conv1): Conv2d(256, 64, kernel_size=(1, 1), stride=(1, 1), bias=False)\n",
              "      (bn1): BatchNorm2d(64, eps=1e-05, momentum=0.1, affine=True, track_running_stats=True)\n",
              "      (conv2): Conv2d(64, 64, kernel_size=(3, 3), stride=(1, 1), padding=(1, 1), bias=False)\n",
              "      (bn2): BatchNorm2d(64, eps=1e-05, momentum=0.1, affine=True, track_running_stats=True)\n",
              "      (conv3): Conv2d(64, 256, kernel_size=(1, 1), stride=(1, 1), bias=False)\n",
              "      (bn3): BatchNorm2d(256, eps=1e-05, momentum=0.1, affine=True, track_running_stats=True)\n",
              "      (relu): ReLU(inplace=True)\n",
              "    )\n",
              "  )\n",
              "  (layer2): Sequential(\n",
              "    (0): Bottleneck(\n",
              "      (conv1): Conv2d(256, 128, kernel_size=(1, 1), stride=(1, 1), bias=False)\n",
              "      (bn1): BatchNorm2d(128, eps=1e-05, momentum=0.1, affine=True, track_running_stats=True)\n",
              "      (conv2): Conv2d(128, 128, kernel_size=(3, 3), stride=(2, 2), padding=(1, 1), bias=False)\n",
              "      (bn2): BatchNorm2d(128, eps=1e-05, momentum=0.1, affine=True, track_running_stats=True)\n",
              "      (conv3): Conv2d(128, 512, kernel_size=(1, 1), stride=(1, 1), bias=False)\n",
              "      (bn3): BatchNorm2d(512, eps=1e-05, momentum=0.1, affine=True, track_running_stats=True)\n",
              "      (relu): ReLU(inplace=True)\n",
              "      (downsample): Sequential(\n",
              "        (0): Conv2d(256, 512, kernel_size=(1, 1), stride=(2, 2), bias=False)\n",
              "        (1): BatchNorm2d(512, eps=1e-05, momentum=0.1, affine=True, track_running_stats=True)\n",
              "      )\n",
              "    )\n",
              "    (1): Bottleneck(\n",
              "      (conv1): Conv2d(512, 128, kernel_size=(1, 1), stride=(1, 1), bias=False)\n",
              "      (bn1): BatchNorm2d(128, eps=1e-05, momentum=0.1, affine=True, track_running_stats=True)\n",
              "      (conv2): Conv2d(128, 128, kernel_size=(3, 3), stride=(1, 1), padding=(1, 1), bias=False)\n",
              "      (bn2): BatchNorm2d(128, eps=1e-05, momentum=0.1, affine=True, track_running_stats=True)\n",
              "      (conv3): Conv2d(128, 512, kernel_size=(1, 1), stride=(1, 1), bias=False)\n",
              "      (bn3): BatchNorm2d(512, eps=1e-05, momentum=0.1, affine=True, track_running_stats=True)\n",
              "      (relu): ReLU(inplace=True)\n",
              "    )\n",
              "    (2): Bottleneck(\n",
              "      (conv1): Conv2d(512, 128, kernel_size=(1, 1), stride=(1, 1), bias=False)\n",
              "      (bn1): BatchNorm2d(128, eps=1e-05, momentum=0.1, affine=True, track_running_stats=True)\n",
              "      (conv2): Conv2d(128, 128, kernel_size=(3, 3), stride=(1, 1), padding=(1, 1), bias=False)\n",
              "      (bn2): BatchNorm2d(128, eps=1e-05, momentum=0.1, affine=True, track_running_stats=True)\n",
              "      (conv3): Conv2d(128, 512, kernel_size=(1, 1), stride=(1, 1), bias=False)\n",
              "      (bn3): BatchNorm2d(512, eps=1e-05, momentum=0.1, affine=True, track_running_stats=True)\n",
              "      (relu): ReLU(inplace=True)\n",
              "    )\n",
              "    (3): Bottleneck(\n",
              "      (conv1): Conv2d(512, 128, kernel_size=(1, 1), stride=(1, 1), bias=False)\n",
              "      (bn1): BatchNorm2d(128, eps=1e-05, momentum=0.1, affine=True, track_running_stats=True)\n",
              "      (conv2): Conv2d(128, 128, kernel_size=(3, 3), stride=(1, 1), padding=(1, 1), bias=False)\n",
              "      (bn2): BatchNorm2d(128, eps=1e-05, momentum=0.1, affine=True, track_running_stats=True)\n",
              "      (conv3): Conv2d(128, 512, kernel_size=(1, 1), stride=(1, 1), bias=False)\n",
              "      (bn3): BatchNorm2d(512, eps=1e-05, momentum=0.1, affine=True, track_running_stats=True)\n",
              "      (relu): ReLU(inplace=True)\n",
              "    )\n",
              "  )\n",
              "  (layer3): Sequential(\n",
              "    (0): Bottleneck(\n",
              "      (conv1): Conv2d(512, 256, kernel_size=(1, 1), stride=(1, 1), bias=False)\n",
              "      (bn1): BatchNorm2d(256, eps=1e-05, momentum=0.1, affine=True, track_running_stats=True)\n",
              "      (conv2): Conv2d(256, 256, kernel_size=(3, 3), stride=(2, 2), padding=(1, 1), bias=False)\n",
              "      (bn2): BatchNorm2d(256, eps=1e-05, momentum=0.1, affine=True, track_running_stats=True)\n",
              "      (conv3): Conv2d(256, 1024, kernel_size=(1, 1), stride=(1, 1), bias=False)\n",
              "      (bn3): BatchNorm2d(1024, eps=1e-05, momentum=0.1, affine=True, track_running_stats=True)\n",
              "      (relu): ReLU(inplace=True)\n",
              "      (downsample): Sequential(\n",
              "        (0): Conv2d(512, 1024, kernel_size=(1, 1), stride=(2, 2), bias=False)\n",
              "        (1): BatchNorm2d(1024, eps=1e-05, momentum=0.1, affine=True, track_running_stats=True)\n",
              "      )\n",
              "    )\n",
              "    (1): Bottleneck(\n",
              "      (conv1): Conv2d(1024, 256, kernel_size=(1, 1), stride=(1, 1), bias=False)\n",
              "      (bn1): BatchNorm2d(256, eps=1e-05, momentum=0.1, affine=True, track_running_stats=True)\n",
              "      (conv2): Conv2d(256, 256, kernel_size=(3, 3), stride=(1, 1), padding=(1, 1), bias=False)\n",
              "      (bn2): BatchNorm2d(256, eps=1e-05, momentum=0.1, affine=True, track_running_stats=True)\n",
              "      (conv3): Conv2d(256, 1024, kernel_size=(1, 1), stride=(1, 1), bias=False)\n",
              "      (bn3): BatchNorm2d(1024, eps=1e-05, momentum=0.1, affine=True, track_running_stats=True)\n",
              "      (relu): ReLU(inplace=True)\n",
              "    )\n",
              "    (2): Bottleneck(\n",
              "      (conv1): Conv2d(1024, 256, kernel_size=(1, 1), stride=(1, 1), bias=False)\n",
              "      (bn1): BatchNorm2d(256, eps=1e-05, momentum=0.1, affine=True, track_running_stats=True)\n",
              "      (conv2): Conv2d(256, 256, kernel_size=(3, 3), stride=(1, 1), padding=(1, 1), bias=False)\n",
              "      (bn2): BatchNorm2d(256, eps=1e-05, momentum=0.1, affine=True, track_running_stats=True)\n",
              "      (conv3): Conv2d(256, 1024, kernel_size=(1, 1), stride=(1, 1), bias=False)\n",
              "      (bn3): BatchNorm2d(1024, eps=1e-05, momentum=0.1, affine=True, track_running_stats=True)\n",
              "      (relu): ReLU(inplace=True)\n",
              "    )\n",
              "    (3): Bottleneck(\n",
              "      (conv1): Conv2d(1024, 256, kernel_size=(1, 1), stride=(1, 1), bias=False)\n",
              "      (bn1): BatchNorm2d(256, eps=1e-05, momentum=0.1, affine=True, track_running_stats=True)\n",
              "      (conv2): Conv2d(256, 256, kernel_size=(3, 3), stride=(1, 1), padding=(1, 1), bias=False)\n",
              "      (bn2): BatchNorm2d(256, eps=1e-05, momentum=0.1, affine=True, track_running_stats=True)\n",
              "      (conv3): Conv2d(256, 1024, kernel_size=(1, 1), stride=(1, 1), bias=False)\n",
              "      (bn3): BatchNorm2d(1024, eps=1e-05, momentum=0.1, affine=True, track_running_stats=True)\n",
              "      (relu): ReLU(inplace=True)\n",
              "    )\n",
              "    (4): Bottleneck(\n",
              "      (conv1): Conv2d(1024, 256, kernel_size=(1, 1), stride=(1, 1), bias=False)\n",
              "      (bn1): BatchNorm2d(256, eps=1e-05, momentum=0.1, affine=True, track_running_stats=True)\n",
              "      (conv2): Conv2d(256, 256, kernel_size=(3, 3), stride=(1, 1), padding=(1, 1), bias=False)\n",
              "      (bn2): BatchNorm2d(256, eps=1e-05, momentum=0.1, affine=True, track_running_stats=True)\n",
              "      (conv3): Conv2d(256, 1024, kernel_size=(1, 1), stride=(1, 1), bias=False)\n",
              "      (bn3): BatchNorm2d(1024, eps=1e-05, momentum=0.1, affine=True, track_running_stats=True)\n",
              "      (relu): ReLU(inplace=True)\n",
              "    )\n",
              "    (5): Bottleneck(\n",
              "      (conv1): Conv2d(1024, 256, kernel_size=(1, 1), stride=(1, 1), bias=False)\n",
              "      (bn1): BatchNorm2d(256, eps=1e-05, momentum=0.1, affine=True, track_running_stats=True)\n",
              "      (conv2): Conv2d(256, 256, kernel_size=(3, 3), stride=(1, 1), padding=(1, 1), bias=False)\n",
              "      (bn2): BatchNorm2d(256, eps=1e-05, momentum=0.1, affine=True, track_running_stats=True)\n",
              "      (conv3): Conv2d(256, 1024, kernel_size=(1, 1), stride=(1, 1), bias=False)\n",
              "      (bn3): BatchNorm2d(1024, eps=1e-05, momentum=0.1, affine=True, track_running_stats=True)\n",
              "      (relu): ReLU(inplace=True)\n",
              "    )\n",
              "  )\n",
              "  (layer4): Sequential(\n",
              "    (0): Bottleneck(\n",
              "      (conv1): Conv2d(1024, 512, kernel_size=(1, 1), stride=(1, 1), bias=False)\n",
              "      (bn1): BatchNorm2d(512, eps=1e-05, momentum=0.1, affine=True, track_running_stats=True)\n",
              "      (conv2): Conv2d(512, 512, kernel_size=(3, 3), stride=(2, 2), padding=(1, 1), bias=False)\n",
              "      (bn2): BatchNorm2d(512, eps=1e-05, momentum=0.1, affine=True, track_running_stats=True)\n",
              "      (conv3): Conv2d(512, 2048, kernel_size=(1, 1), stride=(1, 1), bias=False)\n",
              "      (bn3): BatchNorm2d(2048, eps=1e-05, momentum=0.1, affine=True, track_running_stats=True)\n",
              "      (relu): ReLU(inplace=True)\n",
              "      (downsample): Sequential(\n",
              "        (0): Conv2d(1024, 2048, kernel_size=(1, 1), stride=(2, 2), bias=False)\n",
              "        (1): BatchNorm2d(2048, eps=1e-05, momentum=0.1, affine=True, track_running_stats=True)\n",
              "      )\n",
              "    )\n",
              "    (1): Bottleneck(\n",
              "      (conv1): Conv2d(2048, 512, kernel_size=(1, 1), stride=(1, 1), bias=False)\n",
              "      (bn1): BatchNorm2d(512, eps=1e-05, momentum=0.1, affine=True, track_running_stats=True)\n",
              "      (conv2): Conv2d(512, 512, kernel_size=(3, 3), stride=(1, 1), padding=(1, 1), bias=False)\n",
              "      (bn2): BatchNorm2d(512, eps=1e-05, momentum=0.1, affine=True, track_running_stats=True)\n",
              "      (conv3): Conv2d(512, 2048, kernel_size=(1, 1), stride=(1, 1), bias=False)\n",
              "      (bn3): BatchNorm2d(2048, eps=1e-05, momentum=0.1, affine=True, track_running_stats=True)\n",
              "      (relu): ReLU(inplace=True)\n",
              "    )\n",
              "    (2): Bottleneck(\n",
              "      (conv1): Conv2d(2048, 512, kernel_size=(1, 1), stride=(1, 1), bias=False)\n",
              "      (bn1): BatchNorm2d(512, eps=1e-05, momentum=0.1, affine=True, track_running_stats=True)\n",
              "      (conv2): Conv2d(512, 512, kernel_size=(3, 3), stride=(1, 1), padding=(1, 1), bias=False)\n",
              "      (bn2): BatchNorm2d(512, eps=1e-05, momentum=0.1, affine=True, track_running_stats=True)\n",
              "      (conv3): Conv2d(512, 2048, kernel_size=(1, 1), stride=(1, 1), bias=False)\n",
              "      (bn3): BatchNorm2d(2048, eps=1e-05, momentum=0.1, affine=True, track_running_stats=True)\n",
              "      (relu): ReLU(inplace=True)\n",
              "    )\n",
              "  )\n",
              "  (avgpool): AdaptiveAvgPool2d(output_size=(1, 1))\n",
              "  (fc): Sequential(\n",
              "    (0): Dropout(p=0.5, inplace=False)\n",
              "    (1): Linear(in_features=2048, out_features=3, bias=True)\n",
              "  )\n",
              ")"
            ]
          },
          "metadata": {
            "tags": []
          },
          "execution_count": 12
        }
      ]
    },
    {
      "cell_type": "code",
      "metadata": {
        "id": "4Y62CEjffOkP"
      },
      "source": [
        "for batch_idx, (data, target) in enumerate(train_loader):\n",
        "    with torch.no_grad():\n",
        "        output = model(data.repeat(1, 3, 1, 1))\n",
        "        # print('output', output)\n",
        "        # print('target', target)\n",
        "    break"
      ],
      "execution_count": 13,
      "outputs": []
    },
    {
      "cell_type": "code",
      "metadata": {
        "colab": {
          "base_uri": "https://localhost:8080/"
        },
        "id": "dD3m27c0i7wc",
        "outputId": "9b6e0656-8df3-4bc9-fa96-e5f868ef614f"
      },
      "source": [
        "output.shape"
      ],
      "execution_count": 14,
      "outputs": [
        {
          "output_type": "execute_result",
          "data": {
            "text/plain": [
              "torch.Size([30, 3])"
            ]
          },
          "metadata": {
            "tags": []
          },
          "execution_count": 14
        }
      ]
    },
    {
      "cell_type": "code",
      "metadata": {
        "colab": {
          "base_uri": "https://localhost:8080/"
        },
        "id": "9y_op1SpsH6G",
        "outputId": "55dceda4-a186-47e1-cfa4-42d0c2fe69c0"
      },
      "source": [
        "for batch_idx, (data, target) in enumerate(validation_loader):\n",
        "    with torch.no_grad():\n",
        "        output = model(data.repeat(1, 3, 1, 1))\n",
        "        print('output', output)\n",
        "        print('target', target)\n",
        "        _, label = torch.max(target, 1)\n",
        "        _, predicted = torch.max(output, 1)\n",
        "        print('label', label)\n",
        "        print('predicted', predicted)\n",
        "    break"
      ],
      "execution_count": 15,
      "outputs": [
        {
          "output_type": "stream",
          "text": [
            "output tensor([[-0.0362,  0.0858,  0.0384],\n",
            "        [-0.0370,  0.0861,  0.0390],\n",
            "        [-0.0357,  0.0853,  0.0381],\n",
            "        [-0.0360,  0.0873,  0.0384],\n",
            "        [-0.0364,  0.0870,  0.0359],\n",
            "        [-0.0361,  0.0864,  0.0392],\n",
            "        [-0.0356,  0.0880,  0.0382],\n",
            "        [-0.0360,  0.0867,  0.0391],\n",
            "        [-0.0356,  0.0868,  0.0382],\n",
            "        [-0.0368,  0.0861,  0.0388],\n",
            "        [-0.0362,  0.0865,  0.0391],\n",
            "        [-0.0359,  0.0868,  0.0385],\n",
            "        [-0.0364,  0.0870,  0.0381],\n",
            "        [-0.0353,  0.0867,  0.0388],\n",
            "        [-0.0365,  0.0853,  0.0389],\n",
            "        [-0.0361,  0.0873,  0.0385],\n",
            "        [-0.0362,  0.0866,  0.0376],\n",
            "        [-0.0358,  0.0875,  0.0366],\n",
            "        [-0.0354,  0.0866,  0.0373],\n",
            "        [-0.0357,  0.0872,  0.0381],\n",
            "        [-0.0360,  0.0875,  0.0374],\n",
            "        [-0.0364,  0.0860,  0.0386],\n",
            "        [-0.0350,  0.0885,  0.0353],\n",
            "        [-0.0361,  0.0860,  0.0382],\n",
            "        [-0.0364,  0.0868,  0.0364],\n",
            "        [-0.0364,  0.0864,  0.0386],\n",
            "        [-0.0363,  0.0867,  0.0379],\n",
            "        [-0.0363,  0.0860,  0.0383],\n",
            "        [-0.0363,  0.0859,  0.0377],\n",
            "        [-0.0367,  0.0854,  0.0387]])\n",
            "target tensor([[0., 0., 1.],\n",
            "        [1., 0., 0.],\n",
            "        [0., 0., 1.],\n",
            "        [1., 0., 0.],\n",
            "        [0., 0., 1.],\n",
            "        [0., 1., 0.],\n",
            "        [1., 0., 0.],\n",
            "        [0., 1., 0.],\n",
            "        [0., 1., 0.],\n",
            "        [1., 0., 0.],\n",
            "        [0., 1., 0.],\n",
            "        [0., 1., 0.],\n",
            "        [1., 0., 0.],\n",
            "        [0., 1., 0.],\n",
            "        [0., 0., 1.],\n",
            "        [0., 0., 1.],\n",
            "        [0., 1., 0.],\n",
            "        [1., 0., 0.],\n",
            "        [0., 1., 0.],\n",
            "        [0., 0., 1.],\n",
            "        [1., 0., 0.],\n",
            "        [0., 1., 0.],\n",
            "        [0., 0., 1.],\n",
            "        [0., 1., 0.],\n",
            "        [0., 0., 1.],\n",
            "        [0., 1., 0.],\n",
            "        [1., 0., 0.],\n",
            "        [1., 0., 0.],\n",
            "        [0., 0., 1.],\n",
            "        [0., 0., 1.]])\n",
            "label tensor([2, 0, 2, 0, 2, 1, 0, 1, 1, 0, 1, 1, 0, 1, 2, 2, 1, 0, 1, 2, 0, 1, 2, 1,\n",
            "        2, 1, 0, 0, 2, 2])\n",
            "predicted tensor([1, 1, 1, 1, 1, 1, 1, 1, 1, 1, 1, 1, 1, 1, 1, 1, 1, 1, 1, 1, 1, 1, 1, 1,\n",
            "        1, 1, 1, 1, 1, 1])\n"
          ],
          "name": "stdout"
        }
      ]
    },
    {
      "cell_type": "code",
      "metadata": {
        "id": "-_PwbeQiARhW"
      },
      "source": [
        "import torch.optim as optim\n",
        "optimizer = optim.Adam(model.parameters(), lr=0.0001)\n",
        "criterion = nn.CrossEntropyLoss()"
      ],
      "execution_count": 16,
      "outputs": []
    },
    {
      "cell_type": "code",
      "metadata": {
        "colab": {
          "base_uri": "https://localhost:8080/"
        },
        "id": "1xnxFRo7llCT",
        "outputId": "1c583358-b2f0-4ade-cf37-f2650cd9e0f0"
      },
      "source": [
        "for epoch in range(10):\n",
        "    total=0\n",
        "    correct=0\n",
        "    model.train()\n",
        "    for batch_idx, (data, target) in enumerate(train_loader):\n",
        "\n",
        "        if torch.cuda.is_available():\n",
        "            data=data.cuda()\n",
        "            target=target.cuda()\n",
        "\n",
        "        optimizer.zero_grad()\n",
        "        output = model(data.repeat(1, 3, 1, 1))\n",
        "        # print('output', output)\n",
        "        # print('target', target)\n",
        "\n",
        "        loss = criterion(output, torch.max(target, 1)[1])\n",
        "        loss.backward()\n",
        "        optimizer.step()\n",
        "\n",
        "        #accuracy\n",
        "        # _, predicted = torch.max(output.data, 1)\n",
        "        # total += target.size(0)\n",
        "        # correct += (predicted == target).sum().item()\n",
        "        _, label = torch.max(target, 1)\n",
        "        _, predicted = torch.max(output, 1)\n",
        "        comparison_tensor = torch.eq(label, predicted).long()\n",
        "        correct += torch.count_nonzero(comparison_tensor)\n",
        "        total += comparison_tensor.shape[0]\n",
        "\n",
        "    \n",
        "    print('Train Epoch: {}  Loss: {:.3f}| Acc:{:.3f}'.format(epoch+1, loss.item(),correct / total))\n",
        "    torch.save(model.state_dict(), '/content/gdrive/My Drive/Fyp/FYP-RPI-RF-Sensing/dataset/1903resNet.pth')\n",
        "    \n",
        "    model.eval()\n",
        "    total = 0\n",
        "    correct = 0\n",
        "    with torch.no_grad():\n",
        "        for batch_idx, (data, target) in enumerate(validation_loader):\n",
        "            if torch.cuda.is_available():\n",
        "                data=data.cuda()\n",
        "                target=target.cuda()\n",
        "\n",
        "            output = model(data.repeat(1, 3, 1, 1))\n",
        "            loss = criterion(output, torch.max(target, 1)[1])\n",
        "            # _, predicted = torch.max(output.data, 1)\n",
        "            # total += target.size(0)\n",
        "            # correct += (predicted == target).sum().item()\n",
        "            _, label = torch.max(target, 1)\n",
        "            _, predicted = torch.max(output, 1)\n",
        "            print('label', label)\n",
        "            print('predicted', predicted)\n",
        "            comparison_tensor = torch.eq(label, predicted).long()\n",
        "            correct += torch.count_nonzero(comparison_tensor)\n",
        "            total += comparison_tensor.shape[0]\n",
        "    # print('Test : Loss: {:.3f}, Acc:{:.3f}\\n'.format(loss, correct / len(validation_loader.dataset)))\n",
        "    print('Test Epoch: {}  Loss: {:.3f}| Acc:{:.3f}'.format(epoch+1, loss.item(),correct / total))"
      ],
      "execution_count": 17,
      "outputs": [
        {
          "output_type": "stream",
          "text": [
            "Train Epoch: 1  Loss: 0.298| Acc:0.700\n",
            "label tensor([2, 1, 1, 2, 0, 1, 1, 0, 2, 2, 2, 0, 0, 1, 1, 1, 2, 2, 0, 0, 0, 1, 1, 1,\n",
            "        1, 0, 0, 2, 2, 2])\n",
            "predicted tensor([0, 0, 0, 0, 0, 0, 0, 0, 0, 0, 0, 0, 0, 0, 0, 0, 0, 0, 0, 0, 0, 0, 0, 0,\n",
            "        0, 0, 0, 0, 0, 0])\n",
            "label tensor([2, 2, 0, 1, 2, 1, 0, 1, 1, 2, 2, 1, 0, 1, 2, 0, 2, 0, 0, 2, 0, 1, 0, 0,\n",
            "        0, 1, 1, 2, 0, 2])\n",
            "predicted tensor([0, 0, 0, 0, 0, 0, 0, 0, 0, 0, 0, 0, 0, 0, 0, 0, 0, 0, 0, 0, 0, 0, 0, 0,\n",
            "        0, 0, 0, 0, 0, 0])\n",
            "Test Epoch: 1  Loss: 1.199| Acc:0.333\n",
            "Train Epoch: 2  Loss: 0.018| Acc:0.975\n",
            "label tensor([1, 0, 2, 1, 0, 0, 0, 1, 1, 0, 0, 0, 2, 1, 1, 1, 2, 0, 1, 0, 1, 2, 1, 2,\n",
            "        1, 1, 2, 0, 0, 1])\n",
            "predicted tensor([0, 0, 0, 0, 0, 0, 0, 0, 0, 0, 0, 0, 0, 0, 0, 0, 0, 0, 0, 0, 0, 0, 0, 0,\n",
            "        0, 0, 0, 0, 0, 0])\n",
            "label tensor([0, 2, 0, 0, 0, 1, 2, 1, 2, 2, 2, 2, 2, 0, 2, 1, 2, 0, 0, 2, 2, 1, 0, 2,\n",
            "        0, 2, 1, 1, 1, 2])\n",
            "predicted tensor([0, 0, 0, 0, 0, 0, 0, 0, 0, 0, 0, 0, 0, 0, 0, 0, 0, 0, 0, 0, 0, 0, 0, 0,\n",
            "        0, 0, 0, 0, 0, 0])\n",
            "Test Epoch: 2  Loss: 1.491| Acc:0.333\n",
            "Train Epoch: 3  Loss: 0.036| Acc:0.996\n",
            "label tensor([2, 2, 0, 0, 0, 2, 1, 1, 1, 0, 1, 2, 0, 0, 1, 2, 1, 0, 1, 2, 2, 1, 0, 1,\n",
            "        2, 1, 2, 1, 0, 2])\n",
            "predicted tensor([1, 1, 1, 1, 1, 1, 1, 1, 1, 1, 1, 1, 1, 1, 1, 1, 1, 1, 1, 1, 1, 1, 1, 1,\n",
            "        1, 1, 1, 1, 1, 1])\n",
            "label tensor([2, 1, 2, 1, 2, 0, 2, 1, 0, 0, 2, 0, 0, 1, 0, 2, 2, 1, 0, 0, 1, 0, 1, 1,\n",
            "        1, 2, 2, 0, 2, 0])\n",
            "predicted tensor([1, 1, 1, 1, 1, 1, 1, 1, 1, 1, 1, 1, 1, 1, 1, 1, 1, 1, 1, 1, 1, 1, 1, 1,\n",
            "        1, 1, 1, 1, 1, 1])\n",
            "Test Epoch: 3  Loss: 2.134| Acc:0.333\n",
            "Train Epoch: 4  Loss: 0.016| Acc:1.000\n",
            "label tensor([0, 1, 1, 2, 2, 1, 1, 2, 0, 0, 1, 0, 2, 2, 2, 1, 0, 1, 0, 0, 0, 2, 2, 0,\n",
            "        0, 1, 1, 2, 1, 1])\n",
            "predicted tensor([1, 1, 1, 1, 1, 1, 1, 1, 1, 1, 1, 1, 1, 1, 1, 1, 1, 1, 1, 1, 1, 1, 1, 1,\n",
            "        1, 1, 1, 1, 1, 1])\n",
            "label tensor([1, 0, 0, 0, 1, 2, 2, 1, 0, 1, 2, 2, 1, 0, 2, 0, 2, 2, 0, 2, 0, 1, 1, 0,\n",
            "        2, 2, 1, 2, 0, 1])\n",
            "predicted tensor([1, 1, 1, 1, 1, 1, 1, 1, 1, 1, 1, 1, 1, 1, 1, 1, 1, 1, 1, 1, 1, 1, 1, 1,\n",
            "        1, 1, 1, 1, 1, 1])\n",
            "Test Epoch: 4  Loss: 2.690| Acc:0.333\n",
            "Train Epoch: 5  Loss: 0.001| Acc:1.000\n",
            "label tensor([0, 1, 2, 0, 1, 1, 0, 0, 1, 1, 2, 0, 0, 0, 0, 0, 1, 1, 1, 2, 2, 0, 1, 1,\n",
            "        2, 1, 1, 0, 0, 0])\n",
            "predicted tensor([1, 1, 1, 1, 1, 1, 1, 1, 1, 1, 1, 1, 1, 1, 1, 1, 1, 1, 1, 1, 1, 1, 1, 1,\n",
            "        1, 1, 1, 1, 1, 1])\n",
            "label tensor([1, 2, 1, 0, 1, 0, 2, 1, 2, 2, 0, 2, 1, 2, 0, 2, 1, 2, 2, 2, 2, 2, 2, 0,\n",
            "        1, 1, 2, 0, 0, 2])\n",
            "predicted tensor([1, 1, 1, 1, 1, 1, 1, 1, 1, 1, 1, 1, 1, 1, 1, 1, 1, 1, 1, 1, 1, 1, 1, 1,\n",
            "        1, 1, 1, 1, 1, 1])\n",
            "Test Epoch: 5  Loss: 3.457| Acc:0.333\n",
            "Train Epoch: 6  Loss: 0.005| Acc:1.000\n",
            "label tensor([0, 2, 1, 0, 1, 1, 0, 2, 1, 0, 0, 2, 2, 1, 0, 2, 1, 2, 2, 0, 0, 1, 2, 0,\n",
            "        2, 0, 2, 0, 1, 1])\n",
            "predicted tensor([1, 1, 1, 1, 1, 1, 1, 1, 1, 1, 1, 1, 1, 1, 1, 1, 1, 1, 1, 1, 1, 1, 1, 1,\n",
            "        1, 1, 1, 1, 1, 1])\n",
            "label tensor([1, 1, 0, 0, 2, 1, 0, 1, 2, 1, 0, 2, 2, 0, 0, 0, 0, 0, 1, 2, 2, 2, 1, 2,\n",
            "        1, 1, 2, 2, 1, 1])\n",
            "predicted tensor([1, 1, 1, 1, 1, 1, 1, 1, 1, 1, 1, 1, 1, 1, 1, 1, 1, 1, 1, 1, 1, 1, 1, 1,\n",
            "        1, 1, 1, 1, 1, 1])\n",
            "Test Epoch: 6  Loss: 2.303| Acc:0.333\n",
            "Train Epoch: 7  Loss: 0.001| Acc:1.000\n",
            "label tensor([2, 2, 1, 2, 0, 0, 2, 0, 1, 0, 2, 1, 1, 0, 2, 0, 1, 0, 0, 1, 0, 2, 0, 0,\n",
            "        1, 0, 0, 1, 1, 1])\n",
            "predicted tensor([1, 1, 1, 1, 1, 1, 1, 1, 1, 1, 1, 1, 1, 1, 1, 1, 1, 1, 1, 1, 1, 1, 1, 1,\n",
            "        1, 1, 1, 1, 1, 1])\n",
            "label tensor([1, 0, 2, 1, 0, 2, 0, 0, 2, 0, 2, 2, 1, 1, 2, 2, 0, 1, 2, 2, 1, 2, 2, 0,\n",
            "        1, 2, 1, 1, 1, 2])\n",
            "predicted tensor([1, 1, 1, 1, 1, 1, 1, 1, 1, 1, 1, 1, 1, 1, 1, 1, 1, 1, 1, 1, 1, 1, 1, 1,\n",
            "        1, 1, 1, 1, 1, 1])\n",
            "Test Epoch: 7  Loss: 2.378| Acc:0.333\n",
            "Train Epoch: 8  Loss: 0.027| Acc:1.000\n",
            "label tensor([2, 1, 2, 2, 1, 1, 0, 2, 0, 0, 1, 1, 2, 1, 1, 0, 0, 0, 1, 1, 1, 1, 2, 0,\n",
            "        2, 0, 2, 1, 2, 1])\n",
            "predicted tensor([1, 1, 1, 1, 1, 1, 1, 1, 1, 1, 1, 1, 1, 1, 1, 1, 1, 1, 1, 1, 1, 1, 1, 1,\n",
            "        1, 1, 1, 1, 1, 1])\n",
            "label tensor([0, 2, 0, 2, 0, 2, 2, 0, 2, 2, 1, 0, 1, 1, 0, 0, 0, 1, 2, 2, 2, 2, 0, 0,\n",
            "        1, 1, 0, 1, 0, 2])\n",
            "predicted tensor([1, 1, 1, 1, 1, 1, 1, 1, 1, 1, 1, 1, 1, 1, 1, 1, 1, 1, 1, 1, 1, 1, 1, 1,\n",
            "        1, 1, 1, 1, 1, 1])\n",
            "Test Epoch: 8  Loss: 2.590| Acc:0.333\n",
            "Train Epoch: 9  Loss: 0.001| Acc:1.000\n",
            "label tensor([1, 1, 0, 2, 2, 2, 2, 0, 1, 2, 2, 2, 0, 0, 1, 2, 2, 0, 2, 1, 2, 1, 0, 0,\n",
            "        1, 1, 2, 1, 0, 2])\n",
            "predicted tensor([1, 1, 1, 1, 1, 1, 1, 1, 1, 1, 1, 1, 1, 1, 1, 1, 1, 1, 1, 1, 1, 1, 1, 1,\n",
            "        1, 1, 1, 1, 1, 1])\n",
            "label tensor([0, 2, 0, 1, 0, 2, 1, 1, 1, 2, 2, 1, 1, 2, 0, 1, 2, 0, 0, 1, 0, 0, 0, 0,\n",
            "        1, 1, 2, 0, 1, 0])\n",
            "predicted tensor([1, 1, 1, 1, 1, 1, 1, 1, 1, 1, 1, 1, 1, 1, 1, 1, 1, 1, 1, 1, 1, 1, 1, 1,\n",
            "        1, 1, 1, 1, 1, 1])\n",
            "Test Epoch: 9  Loss: 1.752| Acc:0.333\n",
            "Train Epoch: 10  Loss: 0.001| Acc:1.000\n",
            "label tensor([1, 0, 0, 0, 1, 0, 1, 1, 1, 2, 0, 1, 1, 2, 0, 2, 0, 2, 2, 2, 0, 2, 2, 1,\n",
            "        2, 2, 1, 2, 1, 1])\n",
            "predicted tensor([1, 1, 1, 1, 1, 1, 1, 1, 1, 2, 1, 1, 1, 1, 1, 1, 1, 1, 2, 1, 1, 1, 1, 1,\n",
            "        1, 1, 1, 1, 1, 1])\n",
            "label tensor([1, 1, 0, 2, 1, 0, 1, 2, 2, 0, 0, 1, 0, 0, 0, 0, 1, 0, 2, 1, 2, 2, 1, 1,\n",
            "        2, 0, 0, 2, 0, 2])\n",
            "predicted tensor([1, 1, 1, 1, 1, 1, 1, 2, 1, 1, 1, 1, 1, 1, 1, 1, 1, 1, 2, 1, 1, 1, 1, 1,\n",
            "        1, 1, 1, 1, 1, 1])\n",
            "Test Epoch: 10  Loss: 0.983| Acc:0.400\n"
          ],
          "name": "stdout"
        }
      ]
    },
    {
      "cell_type": "code",
      "metadata": {
        "id": "RU6Q70gugtR6",
        "colab": {
          "base_uri": "https://localhost:8080/"
        },
        "outputId": "7d4ab0a9-b68d-4c1e-ecf8-5685b208e686"
      },
      "source": [
        "model.load_state_dict(torch.load('/content/gdrive/My Drive/Fyp/FYP-RPI-RF-Sensing/dataset/1903resNet.pth'))"
      ],
      "execution_count": 18,
      "outputs": [
        {
          "output_type": "execute_result",
          "data": {
            "text/plain": [
              "<All keys matched successfully>"
            ]
          },
          "metadata": {
            "tags": []
          },
          "execution_count": 18
        }
      ]
    },
    {
      "cell_type": "code",
      "metadata": {
        "colab": {
          "base_uri": "https://localhost:8080/"
        },
        "id": "r1xGGj7hISAn",
        "outputId": "58f4761c-125f-45c4-fbde-6808ac41cf64"
      },
      "source": [
        "for epoch in range(10, 20):\n",
        "    total=0\n",
        "    correct=0\n",
        "    model.train()\n",
        "    for batch_idx, (data, target) in enumerate(train_loader):\n",
        "\n",
        "        if torch.cuda.is_available():\n",
        "            data=data.cuda()\n",
        "            target=target.cuda()\n",
        "\n",
        "        optimizer.zero_grad()\n",
        "        output = model(data.repeat(1, 3, 1, 1))\n",
        "        # print('output', output)\n",
        "        # print('target', target)\n",
        "\n",
        "        loss = criterion(output, torch.max(target, 1)[1])\n",
        "        loss.backward()\n",
        "        optimizer.step()\n",
        "\n",
        "        #accuracy\n",
        "        # _, predicted = torch.max(output.data, 1)\n",
        "        # total += target.size(0)\n",
        "        # correct += (predicted == target).sum().item()\n",
        "        _, label = torch.max(target, 1)\n",
        "        _, predicted = torch.max(output, 1)\n",
        "        comparison_tensor = torch.eq(label, predicted).long()\n",
        "        correct += torch.count_nonzero(comparison_tensor)\n",
        "        total += comparison_tensor.shape[0]\n",
        "\n",
        "    \n",
        "    print('Train Epoch: {}  Loss: {:.3f}| Acc:{:.3f}'.format(epoch+1, loss.item(),correct / total))\n",
        "    torch.save(model.state_dict(), '/content/gdrive/My Drive/Fyp/FYP-RPI-RF-Sensing/dataset/1903resNet.pth')\n",
        "    \n",
        "    model.eval()\n",
        "    total = 0\n",
        "    correct = 0\n",
        "    with torch.no_grad():\n",
        "        for batch_idx, (data, target) in enumerate(validation_loader):\n",
        "            if torch.cuda.is_available():\n",
        "                data=data.cuda()\n",
        "                target=target.cuda()\n",
        "\n",
        "            output = model(data.repeat(1, 3, 1, 1))\n",
        "            loss = criterion(output, torch.max(target, 1)[1])\n",
        "            # _, predicted = torch.max(output.data, 1)\n",
        "            # total += target.size(0)\n",
        "            # correct += (predicted == target).sum().item()\n",
        "            _, label = torch.max(target, 1)\n",
        "            _, predicted = torch.max(output, 1)\n",
        "            print('label', label)\n",
        "            print('predicted', predicted)\n",
        "            comparison_tensor = torch.eq(label, predicted).long()\n",
        "            correct += torch.count_nonzero(comparison_tensor)\n",
        "            total += comparison_tensor.shape[0]\n",
        "    # print('Test : Loss: {:.3f}, Acc:{:.3f}\\n'.format(loss, correct / len(validation_loader.dataset)))\n",
        "    print('Test Epoch: {}  Loss: {:.3f}| Acc:{:.3f}'.format(epoch+1, loss.item(),correct / total))"
      ],
      "execution_count": 19,
      "outputs": [
        {
          "output_type": "stream",
          "text": [
            "Train Epoch: 11  Loss: 0.012| Acc:1.000\n",
            "label tensor([0, 1, 2, 0, 1, 0, 2, 1, 0, 0, 2, 2, 1, 2, 2, 1, 1, 1, 1, 0, 2, 1, 2, 0,\n",
            "        1, 1, 2, 0, 0, 2])\n",
            "predicted tensor([1, 0, 2, 0, 0, 1, 2, 0, 0, 0, 2, 2, 1, 2, 2, 0, 0, 0, 0, 0, 2, 1, 2, 1,\n",
            "        0, 0, 2, 0, 0, 2])\n",
            "label tensor([2, 1, 1, 1, 1, 0, 0, 2, 0, 0, 2, 2, 1, 0, 1, 2, 0, 0, 0, 2, 2, 1, 0, 2,\n",
            "        2, 0, 2, 1, 1, 0])\n",
            "predicted tensor([2, 0, 0, 0, 0, 1, 0, 2, 0, 0, 2, 2, 0, 1, 0, 2, 0, 1, 0, 2, 2, 0, 0, 2,\n",
            "        2, 1, 2, 0, 1, 0])\n",
            "Test Epoch: 11  Loss: 0.695| Acc:0.600\n",
            "Train Epoch: 12  Loss: 0.001| Acc:1.000\n",
            "label tensor([1, 0, 0, 2, 1, 0, 0, 1, 0, 2, 2, 2, 2, 1, 0, 1, 2, 2, 2, 2, 2, 1, 1, 1,\n",
            "        2, 2, 1, 2, 0, 0])\n",
            "predicted tensor([0, 0, 0, 2, 0, 0, 0, 0, 0, 2, 2, 2, 2, 0, 0, 0, 2, 0, 2, 2, 2, 0, 0, 0,\n",
            "        2, 2, 0, 2, 0, 0])\n",
            "label tensor([0, 1, 0, 0, 0, 2, 2, 1, 2, 0, 0, 2, 2, 1, 2, 1, 0, 0, 0, 1, 1, 1, 0, 1,\n",
            "        2, 1, 0, 1, 1, 0])\n",
            "predicted tensor([0, 0, 0, 0, 0, 2, 2, 0, 2, 0, 0, 2, 2, 0, 2, 0, 0, 0, 0, 0, 0, 0, 0, 0,\n",
            "        2, 0, 0, 0, 0, 0])\n",
            "Test Epoch: 12  Loss: 1.311| Acc:0.650\n",
            "Train Epoch: 13  Loss: 0.000| Acc:1.000\n",
            "label tensor([2, 1, 0, 1, 2, 2, 2, 2, 2, 1, 1, 0, 1, 1, 2, 0, 0, 1, 2, 2, 2, 1, 1, 2,\n",
            "        0, 0, 1, 0, 2, 0])\n",
            "predicted tensor([2, 0, 0, 0, 2, 2, 2, 2, 2, 0, 0, 0, 0, 0, 2, 0, 0, 0, 2, 2, 2, 0, 0, 2,\n",
            "        0, 0, 0, 0, 2, 0])\n",
            "label tensor([2, 0, 2, 0, 1, 2, 1, 0, 0, 2, 0, 2, 0, 1, 1, 1, 1, 0, 1, 0, 2, 2, 0, 0,\n",
            "        1, 1, 1, 0, 2, 0])\n",
            "predicted tensor([2, 0, 2, 0, 0, 2, 0, 0, 0, 2, 0, 2, 0, 0, 0, 0, 0, 0, 0, 0, 2, 2, 0, 0,\n",
            "        0, 0, 0, 0, 2, 0])\n",
            "Test Epoch: 13  Loss: 1.089| Acc:0.667\n",
            "Train Epoch: 14  Loss: 0.009| Acc:1.000\n",
            "label tensor([0, 2, 0, 1, 2, 1, 2, 1, 1, 1, 2, 1, 2, 1, 0, 2, 0, 2, 2, 1, 1, 2, 0, 0,\n",
            "        0, 1, 0, 2, 1, 2])\n",
            "predicted tensor([0, 2, 0, 0, 2, 0, 2, 1, 0, 1, 2, 0, 2, 0, 0, 2, 0, 2, 2, 0, 0, 2, 0, 0,\n",
            "        0, 0, 0, 2, 1, 2])\n",
            "label tensor([1, 2, 2, 2, 1, 2, 0, 0, 2, 0, 0, 0, 1, 1, 1, 2, 0, 1, 2, 0, 0, 1, 2, 0,\n",
            "        1, 0, 2, 1, 0, 0])\n",
            "predicted tensor([1, 2, 2, 2, 0, 2, 0, 0, 2, 0, 0, 0, 0, 0, 0, 2, 0, 0, 2, 0, 0, 1, 2, 0,\n",
            "        0, 0, 2, 0, 0, 0])\n",
            "Test Epoch: 14  Loss: 0.501| Acc:0.750\n",
            "Train Epoch: 15  Loss: 0.003| Acc:1.000\n",
            "label tensor([0, 0, 1, 2, 2, 2, 0, 0, 2, 1, 0, 1, 0, 2, 0, 2, 2, 0, 1, 1, 2, 1, 1, 1,\n",
            "        1, 0, 0, 1, 0, 0])\n",
            "predicted tensor([0, 0, 0, 2, 2, 2, 0, 0, 2, 1, 0, 0, 0, 2, 0, 2, 2, 0, 0, 0, 2, 0, 0, 0,\n",
            "        1, 0, 0, 1, 0, 0])\n",
            "label tensor([2, 2, 0, 2, 1, 2, 0, 1, 1, 2, 2, 1, 1, 0, 1, 0, 2, 2, 2, 0, 2, 0, 2, 0,\n",
            "        2, 0, 1, 1, 1, 1])\n",
            "predicted tensor([2, 2, 0, 2, 0, 2, 0, 0, 1, 2, 2, 0, 0, 0, 0, 0, 2, 2, 2, 0, 2, 0, 2, 0,\n",
            "        2, 0, 0, 1, 0, 0])\n",
            "Test Epoch: 15  Loss: 0.893| Acc:0.750\n",
            "Train Epoch: 16  Loss: 0.000| Acc:1.000\n",
            "label tensor([0, 1, 0, 0, 1, 1, 1, 2, 1, 2, 0, 1, 1, 1, 2, 2, 1, 2, 2, 2, 0, 2, 0, 2,\n",
            "        1, 0, 0, 1, 0, 2])\n",
            "predicted tensor([0, 1, 0, 0, 1, 1, 0, 2, 1, 2, 0, 1, 1, 1, 2, 2, 1, 2, 2, 2, 0, 2, 0, 2,\n",
            "        1, 0, 0, 1, 0, 2])\n",
            "label tensor([0, 1, 0, 1, 2, 0, 2, 1, 0, 2, 0, 1, 1, 0, 2, 2, 2, 1, 2, 2, 0, 1, 1, 0,\n",
            "        0, 0, 0, 1, 2, 2])\n",
            "predicted tensor([0, 1, 0, 1, 2, 0, 2, 1, 0, 2, 0, 1, 1, 0, 2, 2, 2, 1, 2, 2, 0, 1, 1, 0,\n",
            "        0, 0, 0, 1, 2, 2])\n",
            "Test Epoch: 16  Loss: 0.009| Acc:0.983\n",
            "Train Epoch: 17  Loss: 0.001| Acc:1.000\n",
            "label tensor([0, 1, 0, 0, 1, 1, 0, 1, 1, 2, 1, 0, 2, 2, 0, 2, 0, 1, 2, 2, 0, 2, 2, 2,\n",
            "        2, 0, 1, 0, 2, 2])\n",
            "predicted tensor([0, 1, 0, 0, 1, 1, 0, 1, 1, 2, 1, 0, 2, 2, 0, 2, 0, 1, 2, 2, 0, 2, 2, 2,\n",
            "        2, 0, 1, 0, 2, 2])\n",
            "label tensor([1, 1, 1, 2, 0, 1, 0, 0, 0, 1, 2, 2, 2, 1, 1, 0, 2, 0, 0, 0, 0, 2, 2, 1,\n",
            "        1, 0, 1, 2, 1, 1])\n",
            "predicted tensor([1, 1, 1, 2, 0, 1, 0, 0, 0, 1, 2, 2, 2, 1, 1, 0, 2, 0, 0, 0, 0, 2, 2, 1,\n",
            "        1, 0, 1, 2, 1, 1])\n",
            "Test Epoch: 17  Loss: 0.002| Acc:1.000\n",
            "Train Epoch: 18  Loss: 0.001| Acc:1.000\n",
            "label tensor([2, 2, 2, 0, 0, 1, 2, 1, 2, 1, 0, 2, 1, 1, 2, 1, 0, 0, 2, 0, 0, 1, 1, 0,\n",
            "        2, 0, 2, 1, 0, 1])\n",
            "predicted tensor([2, 2, 2, 0, 0, 1, 2, 1, 2, 1, 0, 2, 1, 1, 2, 1, 0, 0, 2, 0, 0, 1, 1, 0,\n",
            "        2, 0, 2, 1, 0, 1])\n",
            "label tensor([2, 1, 1, 1, 0, 2, 0, 1, 1, 1, 2, 1, 1, 0, 2, 0, 2, 2, 0, 1, 0, 0, 2, 2,\n",
            "        2, 0, 0, 0, 1, 2])\n",
            "predicted tensor([2, 1, 1, 1, 0, 2, 0, 1, 1, 1, 2, 1, 1, 0, 2, 0, 2, 2, 0, 1, 0, 0, 2, 2,\n",
            "        2, 0, 0, 0, 1, 2])\n",
            "Test Epoch: 18  Loss: 0.000| Acc:1.000\n",
            "Train Epoch: 19  Loss: 0.005| Acc:1.000\n",
            "label tensor([1, 2, 1, 1, 2, 1, 0, 2, 2, 1, 1, 0, 0, 1, 0, 0, 2, 2, 2, 0, 1, 2, 2, 0,\n",
            "        1, 1, 2, 0, 0, 2])\n",
            "predicted tensor([1, 2, 1, 1, 2, 1, 0, 2, 2, 1, 1, 0, 0, 1, 0, 0, 2, 2, 2, 0, 1, 2, 2, 0,\n",
            "        1, 1, 2, 0, 0, 2])\n",
            "label tensor([0, 0, 1, 2, 1, 2, 2, 2, 2, 2, 1, 0, 1, 0, 0, 1, 1, 1, 0, 0, 1, 0, 2, 0,\n",
            "        0, 1, 0, 1, 2, 2])\n",
            "predicted tensor([0, 0, 1, 2, 1, 2, 2, 2, 2, 2, 1, 0, 1, 0, 0, 1, 1, 1, 0, 0, 1, 0, 2, 0,\n",
            "        0, 1, 0, 1, 2, 2])\n",
            "Test Epoch: 19  Loss: 0.001| Acc:1.000\n",
            "Train Epoch: 20  Loss: 0.000| Acc:1.000\n",
            "label tensor([1, 0, 2, 2, 0, 1, 1, 1, 0, 2, 0, 1, 2, 1, 2, 1, 2, 1, 0, 2, 1, 2, 0, 2,\n",
            "        2, 0, 1, 0, 1, 2])\n",
            "predicted tensor([1, 0, 2, 2, 0, 1, 1, 1, 0, 2, 0, 1, 2, 1, 2, 1, 2, 1, 0, 2, 1, 2, 0, 2,\n",
            "        2, 0, 1, 0, 1, 2])\n",
            "label tensor([0, 1, 0, 2, 0, 0, 1, 1, 1, 0, 2, 0, 0, 2, 2, 2, 2, 2, 2, 0, 0, 1, 1, 1,\n",
            "        0, 0, 1, 1, 2, 0])\n",
            "predicted tensor([0, 1, 0, 2, 0, 0, 1, 1, 1, 0, 2, 0, 0, 2, 2, 2, 2, 2, 2, 0, 0, 1, 1, 1,\n",
            "        0, 0, 1, 1, 2, 0])\n",
            "Test Epoch: 20  Loss: 0.001| Acc:1.000\n"
          ],
          "name": "stdout"
        }
      ]
    },
    {
      "cell_type": "code",
      "metadata": {
        "colab": {
          "base_uri": "https://localhost:8080/"
        },
        "id": "TpFGxlHWIdIk",
        "outputId": "2d1d9a2e-49e8-42da-c0e8-c07455868107"
      },
      "source": [
        "model.load_state_dict(torch.load('/content/gdrive/My Drive/Fyp/FYP-RPI-RF-Sensing/dataset/1903resNet.pth'))"
      ],
      "execution_count": 20,
      "outputs": [
        {
          "output_type": "execute_result",
          "data": {
            "text/plain": [
              "<All keys matched successfully>"
            ]
          },
          "metadata": {
            "tags": []
          },
          "execution_count": 20
        }
      ]
    },
    {
      "cell_type": "code",
      "metadata": {
        "colab": {
          "base_uri": "https://localhost:8080/"
        },
        "id": "4cDZefVtAIum",
        "outputId": "d6b51518-6948-4565-cc8c-6674b969752e"
      },
      "source": [
        "for epoch in range(20, 30):\n",
        "    total=0\n",
        "    correct=0\n",
        "    model.train()\n",
        "    for batch_idx, (data, target) in enumerate(train_loader):\n",
        "\n",
        "        if torch.cuda.is_available():\n",
        "            data=data.cuda()\n",
        "            target=target.cuda()\n",
        "\n",
        "        optimizer.zero_grad()\n",
        "        output = model(data.repeat(1, 3, 1, 1))\n",
        "        # print('output', output)\n",
        "        # print('target', target)\n",
        "\n",
        "        loss = criterion(output, torch.max(target, 1)[1])\n",
        "        loss.backward()\n",
        "        optimizer.step()\n",
        "\n",
        "        #accuracy\n",
        "        # _, predicted = torch.max(output.data, 1)\n",
        "        # total += target.size(0)\n",
        "        # correct += (predicted == target).sum().item()\n",
        "        _, label = torch.max(target, 1)\n",
        "        _, predicted = torch.max(output, 1)\n",
        "        comparison_tensor = torch.eq(label, predicted).long()\n",
        "        correct += torch.count_nonzero(comparison_tensor)\n",
        "        total += comparison_tensor.shape[0]\n",
        "\n",
        "    \n",
        "    print('Train Epoch: {}  Loss: {:.3f}| Acc:{:.3f}'.format(epoch+1, loss.item(),correct / total))\n",
        "    torch.save(model.state_dict(), '/content/gdrive/My Drive/Fyp/FYP-RPI-RF-Sensing/dataset/1903resNet.pth')\n",
        "    \n",
        "    model.eval()\n",
        "    total = 0\n",
        "    correct = 0\n",
        "    with torch.no_grad():\n",
        "        for batch_idx, (data, target) in enumerate(validation_loader):\n",
        "            if torch.cuda.is_available():\n",
        "                data=data.cuda()\n",
        "                target=target.cuda()\n",
        "\n",
        "            output = model(data.repeat(1, 3, 1, 1))\n",
        "            loss = criterion(output, torch.max(target, 1)[1])\n",
        "            # _, predicted = torch.max(output.data, 1)\n",
        "            # total += target.size(0)\n",
        "            # correct += (predicted == target).sum().item()\n",
        "            _, label = torch.max(target, 1)\n",
        "            _, predicted = torch.max(output, 1)\n",
        "            print('label', label)\n",
        "            print('predicted', predicted)\n",
        "            comparison_tensor = torch.eq(label, predicted).long()\n",
        "            correct += torch.count_nonzero(comparison_tensor)\n",
        "            total += comparison_tensor.shape[0]\n",
        "    # print('Test : Loss: {:.3f}, Acc:{:.3f}\\n'.format(loss, correct / len(validation_loader.dataset)))\n",
        "    print('Test Epoch: {}  Loss: {:.3f}| Acc:{:.3f}'.format(epoch+1, loss.item(),correct / total))"
      ],
      "execution_count": 21,
      "outputs": [
        {
          "output_type": "stream",
          "text": [
            "Train Epoch: 21  Loss: 0.001| Acc:1.000\n",
            "label tensor([0, 0, 1, 1, 1, 0, 0, 1, 2, 2, 0, 1, 2, 0, 1, 0, 1, 2, 1, 1, 1, 2, 1, 1,\n",
            "        0, 0, 2, 0, 2, 0])\n",
            "predicted tensor([0, 0, 1, 1, 1, 0, 0, 1, 2, 2, 0, 1, 2, 0, 1, 0, 1, 2, 1, 1, 1, 2, 1, 1,\n",
            "        0, 0, 2, 0, 2, 0])\n",
            "label tensor([1, 2, 0, 2, 2, 1, 2, 0, 1, 2, 0, 0, 1, 1, 0, 2, 2, 2, 2, 1, 1, 2, 2, 0,\n",
            "        0, 0, 2, 0, 2, 1])\n",
            "predicted tensor([1, 2, 0, 2, 2, 1, 2, 0, 1, 2, 0, 0, 1, 1, 0, 2, 2, 2, 2, 1, 1, 2, 2, 0,\n",
            "        0, 0, 2, 0, 2, 1])\n",
            "Test Epoch: 21  Loss: 0.001| Acc:1.000\n",
            "Train Epoch: 22  Loss: 0.000| Acc:1.000\n",
            "label tensor([1, 1, 2, 1, 0, 0, 1, 2, 2, 0, 2, 2, 0, 1, 1, 1, 2, 1, 0, 1, 0, 2, 2, 1,\n",
            "        1, 1, 0, 1, 0, 1])\n",
            "predicted tensor([1, 1, 2, 1, 0, 0, 1, 2, 2, 0, 2, 2, 0, 1, 1, 1, 2, 1, 0, 1, 0, 2, 2, 1,\n",
            "        1, 1, 0, 1, 0, 1])\n",
            "label tensor([2, 0, 0, 1, 2, 1, 0, 0, 0, 0, 0, 2, 2, 2, 2, 2, 0, 1, 0, 2, 0, 0, 1, 2,\n",
            "        2, 2, 1, 0, 2, 1])\n",
            "predicted tensor([2, 0, 0, 1, 2, 1, 0, 0, 0, 0, 0, 2, 2, 2, 2, 2, 0, 1, 0, 2, 0, 0, 1, 2,\n",
            "        2, 2, 1, 0, 2, 1])\n",
            "Test Epoch: 22  Loss: 0.002| Acc:1.000\n",
            "Train Epoch: 23  Loss: 0.003| Acc:1.000\n",
            "label tensor([2, 2, 0, 2, 1, 1, 2, 2, 1, 0, 0, 1, 0, 2, 0, 2, 0, 0, 1, 1, 1, 2, 2, 0,\n",
            "        1, 2, 0, 1, 0, 2])\n",
            "predicted tensor([2, 2, 0, 2, 1, 1, 2, 2, 1, 0, 0, 1, 0, 2, 0, 2, 0, 0, 1, 1, 1, 2, 2, 0,\n",
            "        1, 2, 0, 1, 0, 2])\n",
            "label tensor([0, 1, 1, 1, 1, 1, 1, 2, 0, 2, 2, 1, 0, 0, 1, 1, 0, 1, 2, 2, 0, 1, 2, 0,\n",
            "        2, 0, 2, 2, 0, 0])\n",
            "predicted tensor([0, 1, 1, 1, 1, 1, 1, 2, 0, 2, 2, 1, 0, 0, 1, 1, 0, 1, 2, 2, 0, 1, 2, 0,\n",
            "        2, 0, 2, 2, 0, 0])\n",
            "Test Epoch: 23  Loss: 0.015| Acc:1.000\n",
            "Train Epoch: 24  Loss: 0.000| Acc:1.000\n",
            "label tensor([2, 2, 0, 0, 1, 0, 2, 2, 1, 1, 2, 0, 2, 1, 1, 0, 2, 1, 1, 0, 0, 0, 2, 1,\n",
            "        1, 2, 2, 1, 2, 2])\n",
            "predicted tensor([2, 2, 0, 0, 1, 0, 2, 2, 1, 1, 2, 0, 2, 1, 1, 0, 2, 1, 1, 0, 0, 0, 2, 1,\n",
            "        1, 2, 2, 1, 2, 2])\n",
            "label tensor([1, 1, 1, 1, 2, 1, 0, 0, 1, 0, 2, 0, 0, 0, 0, 2, 1, 2, 1, 2, 2, 1, 1, 0,\n",
            "        0, 2, 0, 0, 0, 2])\n",
            "predicted tensor([1, 1, 1, 1, 2, 1, 0, 0, 1, 0, 2, 0, 0, 0, 0, 2, 1, 2, 1, 2, 2, 1, 1, 0,\n",
            "        0, 2, 0, 0, 0, 2])\n",
            "Test Epoch: 24  Loss: 0.001| Acc:1.000\n",
            "Train Epoch: 25  Loss: 0.002| Acc:1.000\n",
            "label tensor([2, 1, 2, 1, 2, 1, 0, 1, 1, 1, 0, 1, 2, 0, 2, 2, 0, 2, 0, 2, 1, 2, 0, 0,\n",
            "        1, 0, 0, 1, 1, 2])\n",
            "predicted tensor([2, 1, 2, 1, 2, 1, 0, 1, 1, 1, 0, 1, 2, 0, 2, 2, 0, 2, 0, 2, 1, 2, 0, 0,\n",
            "        1, 0, 0, 1, 1, 2])\n",
            "label tensor([1, 1, 1, 0, 2, 0, 0, 0, 1, 2, 0, 0, 1, 2, 2, 1, 0, 0, 0, 1, 2, 2, 2, 0,\n",
            "        2, 0, 1, 2, 1, 2])\n",
            "predicted tensor([1, 1, 1, 0, 2, 0, 0, 0, 1, 2, 0, 0, 1, 2, 2, 1, 0, 0, 0, 1, 2, 2, 2, 0,\n",
            "        2, 0, 1, 2, 1, 2])\n",
            "Test Epoch: 25  Loss: 0.001| Acc:1.000\n",
            "Train Epoch: 26  Loss: 0.001| Acc:0.992\n",
            "label tensor([0, 0, 1, 2, 1, 2, 1, 1, 2, 0, 0, 1, 1, 0, 0, 1, 2, 1, 2, 2, 0, 2, 2, 1,\n",
            "        2, 0, 0, 2, 2, 1])\n",
            "predicted tensor([0, 0, 1, 2, 1, 2, 1, 1, 2, 0, 0, 1, 1, 0, 0, 1, 2, 1, 2, 2, 0, 2, 2, 1,\n",
            "        2, 0, 0, 2, 2, 1])\n",
            "label tensor([2, 2, 1, 0, 2, 1, 2, 0, 1, 2, 2, 0, 0, 0, 1, 0, 2, 0, 1, 1, 1, 1, 0, 1,\n",
            "        2, 0, 2, 1, 0, 0])\n",
            "predicted tensor([2, 2, 1, 0, 2, 1, 2, 0, 1, 2, 2, 0, 0, 0, 1, 0, 2, 0, 1, 1, 1, 1, 0, 1,\n",
            "        2, 0, 2, 1, 0, 0])\n",
            "Test Epoch: 26  Loss: 0.003| Acc:1.000\n",
            "Train Epoch: 27  Loss: 0.001| Acc:1.000\n",
            "label tensor([2, 2, 2, 2, 2, 1, 1, 2, 1, 0, 2, 0, 0, 1, 1, 0, 2, 1, 0, 0, 1, 2, 0, 0,\n",
            "        1, 2, 0, 1, 2, 0])\n",
            "predicted tensor([2, 2, 2, 2, 2, 1, 1, 2, 1, 0, 2, 0, 0, 1, 1, 0, 2, 1, 0, 0, 1, 2, 0, 0,\n",
            "        1, 2, 0, 1, 2, 0])\n",
            "label tensor([1, 2, 0, 2, 1, 2, 1, 0, 1, 0, 2, 1, 1, 0, 2, 1, 0, 1, 0, 1, 1, 1, 2, 0,\n",
            "        2, 0, 2, 2, 0, 0])\n",
            "predicted tensor([1, 2, 0, 2, 1, 2, 1, 0, 1, 0, 2, 1, 1, 0, 2, 1, 0, 1, 0, 1, 1, 1, 2, 0,\n",
            "        2, 0, 2, 2, 0, 0])\n",
            "Test Epoch: 27  Loss: 0.013| Acc:1.000\n",
            "Train Epoch: 28  Loss: 0.006| Acc:1.000\n",
            "label tensor([2, 1, 2, 1, 2, 2, 0, 0, 2, 2, 1, 2, 1, 2, 1, 0, 1, 2, 0, 0, 1, 1, 0, 1,\n",
            "        2, 0, 2, 1, 0, 1])\n",
            "predicted tensor([2, 1, 2, 1, 2, 2, 0, 0, 2, 2, 1, 2, 1, 2, 1, 0, 1, 2, 0, 0, 1, 1, 0, 1,\n",
            "        2, 0, 2, 1, 0, 1])\n",
            "label tensor([2, 0, 0, 2, 0, 1, 0, 2, 1, 1, 1, 1, 1, 2, 0, 0, 2, 0, 2, 1, 0, 2, 1, 2,\n",
            "        2, 0, 0, 1, 0, 0])\n",
            "predicted tensor([2, 0, 0, 2, 0, 1, 0, 2, 1, 1, 1, 1, 1, 2, 0, 0, 2, 0, 2, 1, 0, 2, 1, 2,\n",
            "        2, 0, 0, 1, 0, 0])\n",
            "Test Epoch: 28  Loss: 0.014| Acc:1.000\n",
            "Train Epoch: 29  Loss: 0.001| Acc:0.996\n",
            "label tensor([0, 0, 2, 2, 2, 1, 0, 1, 1, 1, 2, 2, 2, 0, 0, 1, 0, 1, 2, 0, 2, 2, 1, 0,\n",
            "        0, 0, 1, 2, 0, 2])\n",
            "predicted tensor([0, 0, 2, 2, 2, 1, 0, 1, 1, 1, 2, 2, 2, 0, 0, 1, 0, 1, 2, 0, 2, 2, 1, 0,\n",
            "        0, 0, 1, 2, 1, 2])\n",
            "label tensor([2, 2, 0, 2, 1, 1, 1, 1, 2, 2, 1, 1, 2, 0, 1, 0, 1, 2, 0, 2, 0, 2, 0, 0,\n",
            "        1, 1, 1, 0, 0, 1])\n",
            "predicted tensor([2, 2, 0, 2, 1, 1, 1, 1, 2, 2, 1, 1, 2, 0, 1, 0, 1, 2, 0, 2, 0, 2, 0, 0,\n",
            "        1, 1, 1, 0, 0, 1])\n",
            "Test Epoch: 29  Loss: 0.007| Acc:0.983\n",
            "Train Epoch: 30  Loss: 0.001| Acc:0.996\n",
            "label tensor([1, 2, 0, 1, 2, 1, 0, 2, 2, 2, 2, 1, 1, 1, 2, 0, 1, 0, 0, 2, 1, 2, 0, 0,\n",
            "        0, 1, 1, 0, 0, 1])\n",
            "predicted tensor([1, 2, 0, 1, 2, 1, 0, 2, 2, 2, 2, 1, 1, 1, 2, 0, 1, 0, 0, 2, 1, 2, 0, 0,\n",
            "        0, 1, 1, 0, 0, 1])\n",
            "label tensor([2, 0, 0, 1, 2, 1, 1, 1, 2, 0, 0, 0, 2, 0, 2, 2, 1, 0, 0, 2, 0, 1, 2, 2,\n",
            "        0, 1, 2, 1, 1, 2])\n",
            "predicted tensor([2, 0, 0, 1, 2, 1, 1, 1, 2, 0, 0, 1, 2, 0, 2, 2, 1, 0, 0, 2, 0, 1, 2, 2,\n",
            "        0, 1, 2, 1, 1, 2])\n",
            "Test Epoch: 30  Loss: 0.063| Acc:0.983\n"
          ],
          "name": "stdout"
        }
      ]
    },
    {
      "cell_type": "code",
      "metadata": {
        "id": "RbB8C3RxAM_E"
      },
      "source": [
        ""
      ],
      "execution_count": 21,
      "outputs": []
    }
  ]
}